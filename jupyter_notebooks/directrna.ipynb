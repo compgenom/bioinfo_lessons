{
 "cells": [
  {
   "cell_type": "markdown",
   "id": "3a26e527-11d8-4ee1-82b3-73e727fc8320",
   "metadata": {},
   "source": [
    "### Analysis of Nanopore direct-RNA sequencing results"
   ]
  },
  {
   "cell_type": "markdown",
   "id": "fe2e4b5f-e7c9-4225-93d1-028956f696d6",
   "metadata": {},
   "source": [
    "This notebook aims to analyse Nanopore direct-RNA sequencing results for in vitro transcribed RNAs. Anh has sequenced two samples using flongles (RNA002 pore) and named them as sample_B (control) and sample_C (a mix of U and 4SU). It would be interesting to compare the results for the two samples, especially their quality scores."
   ]
  },
  {
   "cell_type": "markdown",
   "id": "243c5406-7d8b-4d94-b207-48915332d66d",
   "metadata": {},
   "source": [
    "We will download the latest version of [dorado](https://github.com/nanoporetech/dorado)."
   ]
  },
  {
   "cell_type": "markdown",
   "id": "48c601cf-d3d3-4e8e-a43e-b605af9cd1cd",
   "metadata": {},
   "source": [
    "```\n",
    "cd src\n",
    "\n",
    "wget https://cdn.oxfordnanoportal.com/software/analysis/dorado-0.4.2-linux-x64.tar.gz"
   ]
  },
  {
   "cell_type": "markdown",
   "id": "319cc1fa-da19-4a9e-a841-c3d29843fbbf",
   "metadata": {},
   "source": [
    ".tar.gz is a compressed file. To install dorado we need to decompress the tar ball."
   ]
  },
  {
   "cell_type": "markdown",
   "id": "01f0438f-fe31-4773-b74d-f44d88b31129",
   "metadata": {},
   "source": [
    "```\n",
    "tar zxvf dorado-0.4.2-linux-x64.tar.gz"
   ]
  },
  {
   "cell_type": "markdown",
   "id": "1f10e8f6-a423-4611-99c5-f591f3ff50c2",
   "metadata": {
    "jp-MarkdownHeadingCollapsed": true
   },
   "source": [
    "To call dorado from any directories, we will export the path of the dorado binary directory to the environment."
   ]
  },
  {
   "cell_type": "markdown",
   "id": "75e807da-aa47-4f4a-a17e-540e37306dc1",
   "metadata": {},
   "source": [
    "```\n",
    "export PATH=\"/home/limch05p/lim_group/bioinfo_lessons/src/dorado-0.4.2-linux-x64/bin/:$PATH\""
   ]
  },
  {
   "cell_type": "markdown",
   "id": "85006622-e20f-4de4-a777-1d677d519cf7",
   "metadata": {
    "jp-MarkdownHeadingCollapsed": true
   },
   "source": [
    "We can also add this line to ~/.bashrc so that we don't have to repeat this next time. We only have to run"
   ]
  },
  {
   "cell_type": "markdown",
   "id": "c87fa841-e0a2-4a1d-9d77-b04c79d3952e",
   "metadata": {
    "jp-MarkdownHeadingCollapsed": true
   },
   "source": [
    "```\n",
    "source ~/.bashrc"
   ]
  },
  {
   "cell_type": "markdown",
   "id": "02fc4049-15b4-409d-9d1b-89cb1e4b7d0e",
   "metadata": {},
   "source": [
    "We will download the RNA002 pore model. Let's make a new directory for storing the model."
   ]
  },
  {
   "cell_type": "markdown",
   "id": "60d5091c-83ee-4479-b245-5ca99dc3f5a5",
   "metadata": {},
   "source": [
    "```\n",
    "cd dorado-0.4.2-linux-x64/\n",
    "mkdir models\n",
    "cd models\n",
    "dorado download --model rna002_70bps_hac@v3"
   ]
  },
  {
   "cell_type": "markdown",
   "id": "d48ed38a-81ff-431f-8edb-fe068ebfb822",
   "metadata": {},
   "source": [
    "Let's change our directory back and do basecalling. Since Anh used Q score of 7 as the cutoff during sequencing, reads above Q score of 7 will be saved in fast5_pass"
   ]
  },
  {
   "cell_type": "markdown",
   "id": "17fd9b5e-729e-4a43-96f7-ec71f6fd264d",
   "metadata": {
    "jp-MarkdownHeadingCollapsed": true
   },
   "source": [
    "```\n",
    "cd /home/limch05p/lim_group/bioinfo_lessons/\n",
    "\n",
    "dorado basecaller \\\n",
    "../src/dorado/models/rna002_70bps_hac\\@v3 \\\n",
    "../doc/20230908_Anh/sample_B/20230908_1555_X4_AQA286_526a7755/fast5_pass/ \\\n",
    "> ../doc/20230908_Anh/sample_B/20230908_1555_X4_AQA286_526a7755/sample_B_pass_aligned.bam\n",
    "\n",
    "dorado basecaller \\\n",
    "../src/dorado/models/rna002_70bps_hac\\@v3 \\\n",
    "../doc/20230908_Anh/sample_C/20230908_1609_X5_APY909_301db406/fast5_pass/ \\\n",
    "> ../doc/20230908_Anh/sample_C/20230908_1609_X5_APY909_301db406/sample_C_pass_aligned.bam"
   ]
  },
  {
   "cell_type": "markdown",
   "id": "881456bf-0513-4c54-b98b-462b8bd1fa5e",
   "metadata": {},
   "source": [
    "We will get primary aligned reads from the BAM file. We can figure out the appropriate SAM flags [here](https://broadinstitute.github.io/picard/explain-flags.html). A bitwise flag is 2308 means not primary alignment, read unmapped and supplementary alignment. To remove these reads, we will use the samtools view -F (--exclude-flags) argument."
   ]
  },
  {
   "cell_type": "markdown",
   "id": "4dd6c7b7-30da-45ef-9c7a-ef8763ecba67",
   "metadata": {},
   "source": [
    "```\n",
    "samtools view -F 2308 -b ../doc/20230908_Anh/sample_B/20230908_1555_X4_AQA286_526a7755/sample_B_pass_aligned_polyA.bam \\\n",
    "| samtools sort > ../doc/primary_sample_B_pass_aligned_polyA.bam\n",
    "\n",
    "samtools view -F 2308 -b ../doc/20230908_Anh/sample_C/20230908_1609_X5_APY909_301db406/sample_C_pass_aligned_polyA.bam \\\n",
    "| samtools sort > ../doc/primary_sample_C_pass_aligned_polyA.bam"
   ]
  },
  {
   "cell_type": "markdown",
   "id": "c5aa7b91-1a4e-4bd7-ad19-7c2a79a1da0b",
   "metadata": {},
   "source": [
    "Now, let's analyse the BAM files. We will install pingouin for this analysis."
   ]
  },
  {
   "cell_type": "markdown",
   "id": "fc11e1a7-8120-4c07-a262-9e636594332b",
   "metadata": {},
   "source": [
    "```\n",
    "conda install -c conda-forge pingouin -y"
   ]
  },
  {
   "cell_type": "code",
   "execution_count": 1,
   "id": "9109218e",
   "metadata": {},
   "outputs": [],
   "source": [
    "import numpy as np\n",
    "import pandas as pd\n",
    "import seaborn as sns\n",
    "import pingouin as pg\n",
    "import matplotlib.pyplot as plt"
   ]
  },
  {
   "cell_type": "markdown",
   "id": "c9d73dd4-ca76-403c-83a7-a2d2d054cc1e",
   "metadata": {},
   "source": [
    "Nanopore sequencing results have multiple different formats, including Fast5 (deprecated), POD5 and [FASTQ](https://en.wikipedia.org/wiki/FASTQ_format). FASTQ files store both sequences and quality scores (Q score). More recently Nanopore introduces [duplex](https://github.com/nanoporetech/duplex-tools#usage-with-dorado-recommended) read basecalling using a quality value ranging from 0 to 50.\n",
    "\n",
    "We will make a dictionary of Q scores for later use."
   ]
  },
  {
   "cell_type": "code",
   "execution_count": 2,
   "id": "34616d62",
   "metadata": {
    "jupyter": {
     "source_hidden": true
    }
   },
   "outputs": [],
   "source": [
    "qscore = {\n",
    "    \"!\": 0,\n",
    "    '\"': 1,\n",
    "    \"#\": 2,\n",
    "    \"$\": 3,\n",
    "    \"%\": 4,\n",
    "    \"&\": 5,\n",
    "    \"'\": 6,\n",
    "    \"(\": 7,\n",
    "    \")\": 8,\n",
    "    \"*\": 9,\n",
    "    \"+\": 10,\n",
    "    \",\": 11,\n",
    "    \"-\": 12,\n",
    "    \".\": 13,\n",
    "    \"/\": 14,\n",
    "    \"0\": 15,\n",
    "    \"1\": 16,\n",
    "    \"2\": 17,\n",
    "    \"3\": 18,\n",
    "    \"4\": 19,\n",
    "    \"5\": 20,\n",
    "    \"6\": 21,\n",
    "    \"7\": 22,\n",
    "    \"8\": 23,\n",
    "    \"9\": 24,\n",
    "    \":\": 25,\n",
    "    \";\": 26,\n",
    "    \"<\": 27,\n",
    "    \"=\": 28,\n",
    "    \">\": 29,\n",
    "    \"?\": 30,\n",
    "    \"@\": 31,\n",
    "    \"A\": 32,\n",
    "    \"B\": 33,\n",
    "    \"C\": 34,\n",
    "    \"D\": 35,\n",
    "    \"E\": 36,\n",
    "    \"F\": 37,\n",
    "    \"G\": 38,\n",
    "    \"H\": 39,\n",
    "    \"I\": 40,\n",
    "    \"J\": 41,\n",
    "    \"K\": 42,\n",
    "    \"L\": 43,\n",
    "    \"M\": 44,\n",
    "    \"N\": 45,\n",
    "    \"O\": 46,\n",
    "    \"P\": 47,\n",
    "    \"Q\": 48,\n",
    "    \"R\": 49,\n",
    "    \"S\": 50,\n",
    "}"
   ]
  },
  {
   "cell_type": "markdown",
   "id": "899d9b39-c789-4deb-9533-b61fd92f39e3",
   "metadata": {},
   "source": [
    "Since Nanopore sequencing results have high error rates, we will run samtools mpileup to analyse how well the alignment results are."
   ]
  },
  {
   "cell_type": "markdown",
   "id": "c6c9fb28-ad71-4b87-9000-44cf885c66b9",
   "metadata": {},
   "source": [
    "```\n",
    "samtools mpileup ../doc/primary_sample_B_pass_aligned_polyA.bam > ../doc/primary_sample_B_pass_aligned_polyA.mpileup\n",
    "\n",
    "samtools mpileup ../doc/primary_sample_C_pass_aligned_polyA.bam > ../doc/primary_sample_C_pass_aligned_polyA.mpileup"
   ]
  },
  {
   "cell_type": "code",
   "execution_count": 3,
   "id": "e8a8bbee",
   "metadata": {},
   "outputs": [],
   "source": [
    "ref = pd.read_csv('../ref/ref_polyA.fa', sep='>', lineterminator='>', header=None)\n",
    "ref['seq'] = ref[0].str.split('\\n').apply(lambda x: x[1].upper())\n",
    "ref = pd.DataFrame([*ref.seq[0]])\n",
    "ref.reset_index(inplace=True)\n",
    "ref.columns = ['position','reference base']\n",
    "ref['pos'] = ref['position'] + 1\n",
    "\n",
    "# We will encode bases as integers. You will see how I use them later on.\n",
    "bases = {'A':0,'C':1,'G':2,'U':3}\n",
    "ref['ref'] = ref['reference base'].apply(lambda x: bases[x])"
   ]
  },
  {
   "cell_type": "markdown",
   "id": "e054c908-af75-45e9-8bf5-d8261fe4d946",
   "metadata": {},
   "source": [
    "Let's make use of the qscore dictionary above to calculate the mean Q score per position."
   ]
  },
  {
   "cell_type": "code",
   "execution_count": 4,
   "id": "aa567d87",
   "metadata": {},
   "outputs": [],
   "source": [
    "bpile = pd.read_csv('../doc/primary_sample_B_pass_aligned_polyA_sorted_plus.mpileup', sep='\\t', header=None)\n",
    "bpile['encoded qscores'] = bpile[5].apply(lambda x: [*x])\n",
    "bpile['qscores'] = bpile['encoded qscores'].apply(lambda x: [qscore[i] for i in x])\n",
    "bpile['mean qscore'] = bpile['encoded qscores'].apply(lambda x: np.mean([qscore[i] for i in x]))\n",
    "bpile['sample'] = 'U'"
   ]
  },
  {
   "cell_type": "code",
   "execution_count": 5,
   "id": "686ffc76",
   "metadata": {},
   "outputs": [],
   "source": [
    "# bpile['position'] = bpile[1] - 1\n",
    "# bpile = pd.merge(bpile, ref, on='position')\n",
    "# bpile['reference base'] = bpile['reference base'].str.replace('U','T')\n",
    "# bpile['bases'] = bpile[4].str.replace(r'\\^.','', regex=True)\n",
    "# bpile['bases'] = bpile['bases'].str.replace('$','', regex=False)\n",
    "# bpile['bases'] = bpile['bases'].apply(lambda x: x.upper())\n",
    "# bpile['base depth'] = bpile['bases'].apply(lambda x: len(x))\n",
    "# bpile['ref vs bases'] = bpile[['reference base','bases']].values.tolist()\n",
    "# bpile['errors'] = bpile['ref vs bases'].apply(lambda x: x[1].replace(x[0],''))\n",
    "\n",
    "# bpile['indels'] = bpile.errors.str.replace(r'[A-Z]','', regex=True)\n",
    "# bpile['indels'] = bpile.indels.str.split(r'([+-][0-9]+)', regex=True)\n",
    "\n",
    "# #https://stackoverflow.com/a/2859738\n",
    "# def convert(val):\n",
    "#     constructors = [int, str]\n",
    "#     for c in constructors:\n",
    "#         try:\n",
    "#             return c(val)\n",
    "#         except ValueError:\n",
    "#             pass\n",
    "\n",
    "# bpile['indels'] = bpile.indels.apply(lambda x: [convert(i) for i in x if i])\n",
    "\n",
    "# bpile['insertions'] = bpile.indels.apply(lambda x: np.sum([i for i in x if (isinstance(i, int)==True and i>0)]))\n",
    "# bpile['deletions'] = bpile.indels.apply(lambda x: np.sum([i for i in x if (isinstance(i, int)==True and i<0)]))\n",
    "# bpile['mismatched'] = bpile.errors.str.replace(r'[+-][0-9]+','', regex=True)\n",
    "# bpile['mismatched len'] = bpile['mismatched'].apply(lambda x: len(x))\n",
    "# bpile['mismatches'] =  bpile['mismatched len'] - bpile['insertions'] + bpile['deletions']"
   ]
  },
  {
   "cell_type": "markdown",
   "id": "edf2c8c5-f854-4971-abc7-2052a0f78b08",
   "metadata": {},
   "source": [
    "We will use Base_Counter from allelecount to parse the mpileup files."
   ]
  },
  {
   "cell_type": "code",
   "execution_count": 5,
   "id": "7014c1d2",
   "metadata": {},
   "outputs": [],
   "source": [
    "# https://github.com/photonchang/allelecount/blob/master/allelecount.py\n",
    "\n",
    "import sys\n",
    "\n",
    "# Base Counting Subroutine *[Completed]\n",
    "def Base_Counter(InputRow):\n",
    "\tInputList = []\n",
    "\tInputList = InputRow.split(sep = '\\t')\n",
    "\t\n",
    "\t# Cleaning up Base String + Indel Counting\n",
    "\tCleanString = ''\n",
    "\tcountIn = 0\n",
    "\tcountDel = 0\n",
    "\tIndelHolder = []\n",
    "\tIndelDeterminant = 0\n",
    "\tCleanBool = False\n",
    "\t\n",
    "\tfor currentIndex, Strholder in enumerate(InputList[4]):\n",
    "\t\t# Skipping of '^' Signage\n",
    "\t\tif CleanBool == True:\n",
    "\t\t\tCleanBool = False\n",
    "\t\t\tcontinue\n",
    "\t\t\n",
    "\t\tif Strholder == '^':\n",
    "\t\t\tCleanBool = True\n",
    "\t\t\tcontinue\n",
    "\t\t\n",
    "\t\t# Skipping Indel\n",
    "\t\tif IndelDeterminant > 0:\n",
    "\t\t\tIndelDeterminant -= 1\n",
    "\t\t\tcontinue\n",
    "\t\t\n",
    "\t\tif Strholder == '+':\n",
    "\t\t\tcountIn += 1\n",
    "\t\t\t\n",
    "\t\t\t# Determining Length of Indel\n",
    "\t\t\t# Since Illumina NGS has an upper limit of less than 999bp read length\n",
    "\t\t\tIndelDeterminant = 0\n",
    "\t\t\t\n",
    "\t\t\tif (currentIndex + 4) <= len(InputList[4]):\n",
    "\t\t\t\tif InputList[4][currentIndex + 1: currentIndex + 4].isnumeric() == True:\n",
    "\t\t\t\t\tIndelDeterminant = int(InputList[4][currentIndex + 1: currentIndex + 4]) + 3\n",
    "\t\t\t\telif InputList[4][currentIndex + 1: currentIndex + 3]. isnumeric() == True:\n",
    "\t\t\t\t\tIndelDeterminant = int(InputList[4][currentIndex + 1: currentIndex + 3]) + 2\n",
    "\t\t\t\telif InputList[4][currentIndex + 1: currentIndex + 2].isnumeric() == True:\n",
    "\t\t\t\t\tIndelDeterminant = int(InputList[4][currentIndex + 1: currentIndex + 2]) + 1\n",
    "\t\t\telif (currentIndex + 3) <= len(InputList[4]):\n",
    "\t\t\t\tif InputList[4][currentIndex + 1: currentIndex + 3]. isnumeric() == True:\n",
    "\t\t\t\t\tIndelDeterminant = int(InputList[4][currentIndex + 1: currentIndex + 3]) + 2\n",
    "\t\t\t\telif InputList[4][currentIndex + 1: currentIndex + 2].isnumeric() == True:\n",
    "\t\t\t\t\tIndelDeterminant = int(InputList[4][currentIndex + 1: currentIndex + 2]) + 1\n",
    "\t\t\t\n",
    "\t\t\tIndelHolder.append(InputList[4][currentIndex:currentIndex + IndelDeterminant + 1])\n",
    "\t\t\tcontinue\n",
    "\t\t\n",
    "\t\tif Strholder == '-':\n",
    "\t\t\tcountDel += 1\n",
    "\t\t\t\n",
    "\t\t\t# Determining Length of Indel\n",
    "\t\t\t# Since Illumina NGS has an upper limit of less than 999bp read length\n",
    "\t\t\tIndelDeterminant = 0\n",
    "\t\t\t\n",
    "\t\t\tif (currentIndex + 4) <= len(InputList[4]):\n",
    "\t\t\t\tif InputList[4][currentIndex + 1: currentIndex + 4].isnumeric() == True:\n",
    "\t\t\t\t\tIndelDeterminant = int(InputList[4][currentIndex + 1: currentIndex + 4]) + 3\n",
    "\t\t\t\telif InputList[4][currentIndex + 1: currentIndex + 3]. isnumeric() == True:\n",
    "\t\t\t\t\tIndelDeterminant = int(InputList[4][currentIndex + 1: currentIndex + 3]) + 2\n",
    "\t\t\t\telif InputList[4][currentIndex + 1: currentIndex + 2].isnumeric() == True:\n",
    "\t\t\t\t\tIndelDeterminant = int(InputList[4][currentIndex + 1: currentIndex + 2]) + 1\n",
    "\t\t\telif (currentIndex + 3) <= len(InputList[4]):\n",
    "\t\t\t\tif InputList[4][currentIndex + 1: currentIndex + 3]. isnumeric() == True:\n",
    "\t\t\t\t\tIndelDeterminant = int(InputList[4][currentIndex + 1: currentIndex + 3]) + 2\n",
    "\t\t\t\telif InputList[4][currentIndex + 1: currentIndex + 2].isnumeric() == True:\n",
    "\t\t\t\t\tIndelDeterminant = int(InputList[4][currentIndex + 1: currentIndex + 2]) + 1\n",
    "\t\t\t\n",
    "\t\t\tIndelHolder.append(InputList[4][currentIndex: currentIndex + len(str(IndelDeterminant)) + 1])\n",
    "\t\t\tcontinue\n",
    "\t\t\n",
    "\t\tCleanString += Strholder\n",
    "\t\n",
    "\telse:\n",
    "\t# Transferring Back Cleaned String\n",
    "\t\tInputList[4] = CleanString\n",
    "\t\t\n",
    "\t\t# '$' Signage Stripping\n",
    "\t\tInputList[4] = InputList[4].replace('$', '')\n",
    "\t\t\n",
    "\t# Base Count Var Initialization\n",
    "\tbigA = 0\n",
    "\tbigC = 0\n",
    "\tbigG = 0\n",
    "\tbigT = 0\n",
    "\tsmallA = 0\n",
    "\tsmallC = 0\n",
    "\tsmallG = 0\n",
    "\tsmallT = 0\n",
    "\tdelBase = 0\n",
    "\t\n",
    "\t# Base Counting\n",
    "\tbigA = InputList[4].count('A')\n",
    "\tbigC = InputList[4].count('C')\n",
    "\tbigG = InputList[4].count('G')\n",
    "\tbigT = InputList[4].count('T')\n",
    "\tbigN = InputList[4].count('N')\n",
    "\t\n",
    "\tsmallA = InputList[4].count('a')\n",
    "\tsmallC = InputList[4].count('c')\n",
    "\tsmallG = InputList[4].count('g')\n",
    "\tsmallT = InputList[4].count('t')\n",
    "\tsmallN = InputList[4].count('n')\n",
    "\t\n",
    "\tdelBase = InputList[4].count('*')\n",
    "\t\n",
    "\t# Internal Check - Throws Out Error (NOT STD-IN/OUT Compatible: Should break pipeline)\n",
    "\tInternalCounter = 0\n",
    "\tInternalCounter = bigA + bigC + bigG + bigT + bigN + smallA + smallC + smallG + smallT + smallN + delBase\n",
    "\tif InternalCounter != int(InputList[3]):\n",
    "\t\tprint('Error at position: ' + InputList[1])\n",
    "\t\tprint('Reported count: ' + InputList[3])\n",
    "\t\tprint('Internal counter: ' + str(InternalCounter))\n",
    "\t\tprint('Internal sum: ' + str(len(InputList[4])))\n",
    "\t\tprint('Number of insertions: ' + str(countIn))\n",
    "\t\tprint('Number of deleions: ' + str(countDel))\n",
    "\t\tprint('Post-processed bases: ' + InputList[4])\n",
    "# \t\tsys.exit()\n",
    "\t\n",
    "\t# Indel Compilation\n",
    "\tIndelSetDict = set(IndelHolder)\n",
    "\ttmpIndelString = ''\n",
    "\tFinalIndelHolder = []\n",
    "\t\n",
    "\tfor EveryIndel in IndelSetDict:\n",
    "\t\ttmpIndelString = ''\n",
    "\t\ttmpIndelString = str(IndelHolder.count(EveryIndel)) + \":\" + EveryIndel\n",
    "\t\tFinalIndelHolder.append(tmpIndelString)\n",
    "\t\n",
    "\t# Return Output\n",
    "\tFinalOutput = InputList[0] + '\t' + InputList[1] + '\t' + str(bigA) + '\t' + str(bigC) + '\t' + str(bigG) + '\t' + str(bigT) + '\t' + str(bigN) + '\t' + str(smallA) + '\t' + str(smallC) + '\t' + str(smallG) + '\t' + str(smallT) + '\t' + str(smallN) + '\t' + str(countIn) + '\t' + str(countDel) + '\t' + ';'.join(FinalIndelHolder)\n",
    "\t\n",
    "\treturn FinalOutput\n",
    "\n",
    "# # ----------------------------------------------------------------------------------------------------\n",
    "# # Running Caller\n",
    "# StreamCollector = ''\n",
    "# for EveryChar in sys.stdin.read():\n",
    "# \tif EveryChar == '\\n':\n",
    "# \t\tprint(Base_Counter(StreamCollector))\n",
    "# \t\tStreamCollector = ''\n",
    "# \telse:\n",
    "# \t\tStreamCollector += EveryChar"
   ]
  },
  {
   "cell_type": "markdown",
   "id": "457a1845-823d-4abc-965c-a319cf67d7f6",
   "metadata": {},
   "source": [
    "We will parse mpileup text file using StringIO and pandas. We will use a prefix of b and c to represent sample_B (control) and sample_C (a mixed of U and 4SU), respectively."
   ]
  },
  {
   "cell_type": "code",
   "execution_count": 7,
   "id": "e73ac729",
   "metadata": {},
   "outputs": [
    {
     "name": "stdout",
     "output_type": "stream",
     "text": [
      "Error at position: 1221\n",
      "Reported count: 0\n",
      "Internal counter: 1\n",
      "Internal sum: 1\n",
      "Number of insertions: 0\n",
      "Number of deleions: 0\n",
      "Post-processed bases: *\n"
     ]
    }
   ],
   "source": [
    "from io import StringIO\n",
    "\n",
    "f = open(\"../doc/primary_sample_B_pass_aligned_polyA_sorted_plus.mpileup\", \"r\")\n",
    "bp = []\n",
    "\n",
    "for k,v in enumerate(f):\n",
    "    try:\n",
    "        l = pd.read_csv(StringIO(Base_Counter(v)), sep='\\t', header=None)\n",
    "        bp.append(l)\n",
    "#         print(k, end='\\r')\n",
    "    except:\n",
    "        pass\n",
    "f.close() \n",
    "\n",
    "bp = pd.concat(bp)\n",
    "bp.columns = ['chr','pos','A','C','G','T','N','a','c','g','t','n','IN','DEL','indel']"
   ]
  },
  {
   "cell_type": "code",
   "execution_count": 8,
   "id": "c3cf6c89-57cb-4dd9-90ef-2356e40d6ab5",
   "metadata": {},
   "outputs": [
    {
     "data": {
      "text/html": [
       "<div>\n",
       "<style scoped>\n",
       "    .dataframe tbody tr th:only-of-type {\n",
       "        vertical-align: middle;\n",
       "    }\n",
       "\n",
       "    .dataframe tbody tr th {\n",
       "        vertical-align: top;\n",
       "    }\n",
       "\n",
       "    .dataframe thead th {\n",
       "        text-align: right;\n",
       "    }\n",
       "</style>\n",
       "<table border=\"1\" class=\"dataframe\">\n",
       "  <thead>\n",
       "    <tr style=\"text-align: right;\">\n",
       "      <th></th>\n",
       "      <th>chr</th>\n",
       "      <th>pos</th>\n",
       "      <th>A</th>\n",
       "      <th>C</th>\n",
       "      <th>G</th>\n",
       "      <th>T</th>\n",
       "      <th>N</th>\n",
       "      <th>a</th>\n",
       "      <th>c</th>\n",
       "      <th>g</th>\n",
       "      <th>t</th>\n",
       "      <th>n</th>\n",
       "      <th>IN</th>\n",
       "      <th>DEL</th>\n",
       "      <th>indel</th>\n",
       "    </tr>\n",
       "  </thead>\n",
       "  <tbody>\n",
       "    <tr>\n",
       "      <th>0</th>\n",
       "      <td>ref_polyA</td>\n",
       "      <td>1</td>\n",
       "      <td>12</td>\n",
       "      <td>0</td>\n",
       "      <td>0</td>\n",
       "      <td>0</td>\n",
       "      <td>0</td>\n",
       "      <td>0</td>\n",
       "      <td>0</td>\n",
       "      <td>0</td>\n",
       "      <td>0</td>\n",
       "      <td>0</td>\n",
       "      <td>0</td>\n",
       "      <td>0</td>\n",
       "      <td>NaN</td>\n",
       "    </tr>\n",
       "    <tr>\n",
       "      <th>0</th>\n",
       "      <td>ref_polyA</td>\n",
       "      <td>2</td>\n",
       "      <td>0</td>\n",
       "      <td>12</td>\n",
       "      <td>0</td>\n",
       "      <td>0</td>\n",
       "      <td>0</td>\n",
       "      <td>0</td>\n",
       "      <td>0</td>\n",
       "      <td>0</td>\n",
       "      <td>0</td>\n",
       "      <td>0</td>\n",
       "      <td>0</td>\n",
       "      <td>0</td>\n",
       "      <td>NaN</td>\n",
       "    </tr>\n",
       "    <tr>\n",
       "      <th>0</th>\n",
       "      <td>ref_polyA</td>\n",
       "      <td>3</td>\n",
       "      <td>12</td>\n",
       "      <td>0</td>\n",
       "      <td>0</td>\n",
       "      <td>0</td>\n",
       "      <td>0</td>\n",
       "      <td>0</td>\n",
       "      <td>0</td>\n",
       "      <td>0</td>\n",
       "      <td>0</td>\n",
       "      <td>0</td>\n",
       "      <td>0</td>\n",
       "      <td>0</td>\n",
       "      <td>NaN</td>\n",
       "    </tr>\n",
       "    <tr>\n",
       "      <th>0</th>\n",
       "      <td>ref_polyA</td>\n",
       "      <td>4</td>\n",
       "      <td>0</td>\n",
       "      <td>0</td>\n",
       "      <td>0</td>\n",
       "      <td>12</td>\n",
       "      <td>0</td>\n",
       "      <td>0</td>\n",
       "      <td>0</td>\n",
       "      <td>0</td>\n",
       "      <td>0</td>\n",
       "      <td>0</td>\n",
       "      <td>0</td>\n",
       "      <td>0</td>\n",
       "      <td>NaN</td>\n",
       "    </tr>\n",
       "    <tr>\n",
       "      <th>0</th>\n",
       "      <td>ref_polyA</td>\n",
       "      <td>5</td>\n",
       "      <td>0</td>\n",
       "      <td>0</td>\n",
       "      <td>0</td>\n",
       "      <td>18</td>\n",
       "      <td>0</td>\n",
       "      <td>0</td>\n",
       "      <td>0</td>\n",
       "      <td>0</td>\n",
       "      <td>0</td>\n",
       "      <td>0</td>\n",
       "      <td>1</td>\n",
       "      <td>0</td>\n",
       "      <td>1:+1C</td>\n",
       "    </tr>\n",
       "    <tr>\n",
       "      <th>...</th>\n",
       "      <td>...</td>\n",
       "      <td>...</td>\n",
       "      <td>...</td>\n",
       "      <td>...</td>\n",
       "      <td>...</td>\n",
       "      <td>...</td>\n",
       "      <td>...</td>\n",
       "      <td>...</td>\n",
       "      <td>...</td>\n",
       "      <td>...</td>\n",
       "      <td>...</td>\n",
       "      <td>...</td>\n",
       "      <td>...</td>\n",
       "      <td>...</td>\n",
       "      <td>...</td>\n",
       "    </tr>\n",
       "    <tr>\n",
       "      <th>0</th>\n",
       "      <td>ref_polyA</td>\n",
       "      <td>1217</td>\n",
       "      <td>13</td>\n",
       "      <td>0</td>\n",
       "      <td>0</td>\n",
       "      <td>0</td>\n",
       "      <td>0</td>\n",
       "      <td>0</td>\n",
       "      <td>0</td>\n",
       "      <td>0</td>\n",
       "      <td>0</td>\n",
       "      <td>0</td>\n",
       "      <td>0</td>\n",
       "      <td>0</td>\n",
       "      <td>NaN</td>\n",
       "    </tr>\n",
       "    <tr>\n",
       "      <th>0</th>\n",
       "      <td>ref_polyA</td>\n",
       "      <td>1218</td>\n",
       "      <td>3</td>\n",
       "      <td>0</td>\n",
       "      <td>0</td>\n",
       "      <td>0</td>\n",
       "      <td>0</td>\n",
       "      <td>0</td>\n",
       "      <td>0</td>\n",
       "      <td>0</td>\n",
       "      <td>0</td>\n",
       "      <td>0</td>\n",
       "      <td>0</td>\n",
       "      <td>0</td>\n",
       "      <td>NaN</td>\n",
       "    </tr>\n",
       "    <tr>\n",
       "      <th>0</th>\n",
       "      <td>ref_polyA</td>\n",
       "      <td>1219</td>\n",
       "      <td>2</td>\n",
       "      <td>0</td>\n",
       "      <td>0</td>\n",
       "      <td>0</td>\n",
       "      <td>0</td>\n",
       "      <td>0</td>\n",
       "      <td>0</td>\n",
       "      <td>0</td>\n",
       "      <td>0</td>\n",
       "      <td>0</td>\n",
       "      <td>0</td>\n",
       "      <td>0</td>\n",
       "      <td>NaN</td>\n",
       "    </tr>\n",
       "    <tr>\n",
       "      <th>0</th>\n",
       "      <td>ref_polyA</td>\n",
       "      <td>1220</td>\n",
       "      <td>1</td>\n",
       "      <td>0</td>\n",
       "      <td>0</td>\n",
       "      <td>0</td>\n",
       "      <td>0</td>\n",
       "      <td>0</td>\n",
       "      <td>0</td>\n",
       "      <td>0</td>\n",
       "      <td>0</td>\n",
       "      <td>0</td>\n",
       "      <td>0</td>\n",
       "      <td>0</td>\n",
       "      <td>NaN</td>\n",
       "    </tr>\n",
       "    <tr>\n",
       "      <th>0</th>\n",
       "      <td>ref_polyA</td>\n",
       "      <td>1221</td>\n",
       "      <td>0</td>\n",
       "      <td>0</td>\n",
       "      <td>0</td>\n",
       "      <td>0</td>\n",
       "      <td>0</td>\n",
       "      <td>0</td>\n",
       "      <td>0</td>\n",
       "      <td>0</td>\n",
       "      <td>0</td>\n",
       "      <td>0</td>\n",
       "      <td>0</td>\n",
       "      <td>0</td>\n",
       "      <td>NaN</td>\n",
       "    </tr>\n",
       "  </tbody>\n",
       "</table>\n",
       "<p>1221 rows × 15 columns</p>\n",
       "</div>"
      ],
      "text/plain": [
       "          chr   pos   A   C  G   T  N  a  c  g  t  n  IN  DEL  indel\n",
       "0   ref_polyA     1  12   0  0   0  0  0  0  0  0  0   0    0    NaN\n",
       "0   ref_polyA     2   0  12  0   0  0  0  0  0  0  0   0    0    NaN\n",
       "0   ref_polyA     3  12   0  0   0  0  0  0  0  0  0   0    0    NaN\n",
       "0   ref_polyA     4   0   0  0  12  0  0  0  0  0  0   0    0    NaN\n",
       "0   ref_polyA     5   0   0  0  18  0  0  0  0  0  0   1    0  1:+1C\n",
       "..        ...   ...  ..  .. ..  .. .. .. .. .. .. ..  ..  ...    ...\n",
       "0   ref_polyA  1217  13   0  0   0  0  0  0  0  0  0   0    0    NaN\n",
       "0   ref_polyA  1218   3   0  0   0  0  0  0  0  0  0   0    0    NaN\n",
       "0   ref_polyA  1219   2   0  0   0  0  0  0  0  0  0   0    0    NaN\n",
       "0   ref_polyA  1220   1   0  0   0  0  0  0  0  0  0   0    0    NaN\n",
       "0   ref_polyA  1221   0   0  0   0  0  0  0  0  0  0   0    0    NaN\n",
       "\n",
       "[1221 rows x 15 columns]"
      ]
     },
     "execution_count": 8,
     "metadata": {},
     "output_type": "execute_result"
    }
   ],
   "source": [
    "bp"
   ]
  },
  {
   "cell_type": "markdown",
   "id": "eca4be9c-9a17-4055-b891-331fa3726a82",
   "metadata": {},
   "source": [
    "This gives us an overview of the alignment results. For example, there are 113710 deletions in the alignment."
   ]
  },
  {
   "cell_type": "code",
   "execution_count": 24,
   "id": "4cc7f232",
   "metadata": {},
   "outputs": [
    {
     "name": "stderr",
     "output_type": "stream",
     "text": [
      "/Volumes/scratch/gardnerlab/cslim/tmp/ipykernel_128959/2237009953.py:1: FutureWarning: Dropping of nuisance columns in DataFrame reductions (with 'numeric_only=None') is deprecated; in a future version this will raise TypeError.  Select only valid columns before calling the reduction.\n",
      "  bp.sum()\n"
     ]
    },
    {
     "data": {
      "text/plain": [
       "chr    ref_polyAref_polyAref_polyAref_polyAref_polyAr...\n",
       "pos                                               746031\n",
       "A                                                2003810\n",
       "C                                                2097320\n",
       "G                                                2111112\n",
       "T                                                1201848\n",
       "N                                                      0\n",
       "a                                                      0\n",
       "c                                                      0\n",
       "g                                                      0\n",
       "t                                                      0\n",
       "n                                                      0\n",
       "IN                                                 94397\n",
       "DEL                                               113710\n",
       "dtype: object"
      ]
     },
     "execution_count": 24,
     "metadata": {},
     "output_type": "execute_result"
    }
   ],
   "source": [
    "bp.sum()"
   ]
  },
  {
   "cell_type": "markdown",
   "id": "e77512c3-73d6-49b0-b924-efd5a52caadc",
   "metadata": {},
   "source": [
    "Let's calculate the number of mismatches."
   ]
  },
  {
   "cell_type": "code",
   "execution_count": 9,
   "id": "c2d96d93-772d-44e6-9840-7a04d8b6648e",
   "metadata": {},
   "outputs": [
    {
     "data": {
      "text/html": [
       "<div>\n",
       "<style scoped>\n",
       "    .dataframe tbody tr th:only-of-type {\n",
       "        vertical-align: middle;\n",
       "    }\n",
       "\n",
       "    .dataframe tbody tr th {\n",
       "        vertical-align: top;\n",
       "    }\n",
       "\n",
       "    .dataframe thead th {\n",
       "        text-align: right;\n",
       "    }\n",
       "</style>\n",
       "<table border=\"1\" class=\"dataframe\">\n",
       "  <thead>\n",
       "    <tr style=\"text-align: right;\">\n",
       "      <th></th>\n",
       "      <th>position</th>\n",
       "      <th>reference base</th>\n",
       "      <th>pos</th>\n",
       "      <th>ref</th>\n",
       "      <th>chr</th>\n",
       "      <th>A</th>\n",
       "      <th>C</th>\n",
       "      <th>G</th>\n",
       "      <th>T</th>\n",
       "      <th>N</th>\n",
       "      <th>a</th>\n",
       "      <th>c</th>\n",
       "      <th>g</th>\n",
       "      <th>t</th>\n",
       "      <th>n</th>\n",
       "      <th>IN</th>\n",
       "      <th>DEL</th>\n",
       "      <th>indel</th>\n",
       "    </tr>\n",
       "  </thead>\n",
       "  <tbody>\n",
       "    <tr>\n",
       "      <th>0</th>\n",
       "      <td>0</td>\n",
       "      <td>A</td>\n",
       "      <td>1</td>\n",
       "      <td>0</td>\n",
       "      <td>ref_polyA</td>\n",
       "      <td>12</td>\n",
       "      <td>0</td>\n",
       "      <td>0</td>\n",
       "      <td>0</td>\n",
       "      <td>0</td>\n",
       "      <td>0</td>\n",
       "      <td>0</td>\n",
       "      <td>0</td>\n",
       "      <td>0</td>\n",
       "      <td>0</td>\n",
       "      <td>0</td>\n",
       "      <td>0</td>\n",
       "      <td>NaN</td>\n",
       "    </tr>\n",
       "    <tr>\n",
       "      <th>1</th>\n",
       "      <td>1</td>\n",
       "      <td>C</td>\n",
       "      <td>2</td>\n",
       "      <td>1</td>\n",
       "      <td>ref_polyA</td>\n",
       "      <td>0</td>\n",
       "      <td>12</td>\n",
       "      <td>0</td>\n",
       "      <td>0</td>\n",
       "      <td>0</td>\n",
       "      <td>0</td>\n",
       "      <td>0</td>\n",
       "      <td>0</td>\n",
       "      <td>0</td>\n",
       "      <td>0</td>\n",
       "      <td>0</td>\n",
       "      <td>0</td>\n",
       "      <td>NaN</td>\n",
       "    </tr>\n",
       "    <tr>\n",
       "      <th>2</th>\n",
       "      <td>2</td>\n",
       "      <td>A</td>\n",
       "      <td>3</td>\n",
       "      <td>0</td>\n",
       "      <td>ref_polyA</td>\n",
       "      <td>12</td>\n",
       "      <td>0</td>\n",
       "      <td>0</td>\n",
       "      <td>0</td>\n",
       "      <td>0</td>\n",
       "      <td>0</td>\n",
       "      <td>0</td>\n",
       "      <td>0</td>\n",
       "      <td>0</td>\n",
       "      <td>0</td>\n",
       "      <td>0</td>\n",
       "      <td>0</td>\n",
       "      <td>NaN</td>\n",
       "    </tr>\n",
       "    <tr>\n",
       "      <th>3</th>\n",
       "      <td>3</td>\n",
       "      <td>U</td>\n",
       "      <td>4</td>\n",
       "      <td>3</td>\n",
       "      <td>ref_polyA</td>\n",
       "      <td>0</td>\n",
       "      <td>0</td>\n",
       "      <td>0</td>\n",
       "      <td>12</td>\n",
       "      <td>0</td>\n",
       "      <td>0</td>\n",
       "      <td>0</td>\n",
       "      <td>0</td>\n",
       "      <td>0</td>\n",
       "      <td>0</td>\n",
       "      <td>0</td>\n",
       "      <td>0</td>\n",
       "      <td>NaN</td>\n",
       "    </tr>\n",
       "    <tr>\n",
       "      <th>4</th>\n",
       "      <td>4</td>\n",
       "      <td>U</td>\n",
       "      <td>5</td>\n",
       "      <td>3</td>\n",
       "      <td>ref_polyA</td>\n",
       "      <td>0</td>\n",
       "      <td>0</td>\n",
       "      <td>0</td>\n",
       "      <td>18</td>\n",
       "      <td>0</td>\n",
       "      <td>0</td>\n",
       "      <td>0</td>\n",
       "      <td>0</td>\n",
       "      <td>0</td>\n",
       "      <td>0</td>\n",
       "      <td>1</td>\n",
       "      <td>0</td>\n",
       "      <td>1:+1C</td>\n",
       "    </tr>\n",
       "    <tr>\n",
       "      <th>...</th>\n",
       "      <td>...</td>\n",
       "      <td>...</td>\n",
       "      <td>...</td>\n",
       "      <td>...</td>\n",
       "      <td>...</td>\n",
       "      <td>...</td>\n",
       "      <td>...</td>\n",
       "      <td>...</td>\n",
       "      <td>...</td>\n",
       "      <td>...</td>\n",
       "      <td>...</td>\n",
       "      <td>...</td>\n",
       "      <td>...</td>\n",
       "      <td>...</td>\n",
       "      <td>...</td>\n",
       "      <td>...</td>\n",
       "      <td>...</td>\n",
       "      <td>...</td>\n",
       "    </tr>\n",
       "    <tr>\n",
       "      <th>1216</th>\n",
       "      <td>1216</td>\n",
       "      <td>A</td>\n",
       "      <td>1217</td>\n",
       "      <td>0</td>\n",
       "      <td>ref_polyA</td>\n",
       "      <td>13</td>\n",
       "      <td>0</td>\n",
       "      <td>0</td>\n",
       "      <td>0</td>\n",
       "      <td>0</td>\n",
       "      <td>0</td>\n",
       "      <td>0</td>\n",
       "      <td>0</td>\n",
       "      <td>0</td>\n",
       "      <td>0</td>\n",
       "      <td>0</td>\n",
       "      <td>0</td>\n",
       "      <td>NaN</td>\n",
       "    </tr>\n",
       "    <tr>\n",
       "      <th>1217</th>\n",
       "      <td>1217</td>\n",
       "      <td>A</td>\n",
       "      <td>1218</td>\n",
       "      <td>0</td>\n",
       "      <td>ref_polyA</td>\n",
       "      <td>3</td>\n",
       "      <td>0</td>\n",
       "      <td>0</td>\n",
       "      <td>0</td>\n",
       "      <td>0</td>\n",
       "      <td>0</td>\n",
       "      <td>0</td>\n",
       "      <td>0</td>\n",
       "      <td>0</td>\n",
       "      <td>0</td>\n",
       "      <td>0</td>\n",
       "      <td>0</td>\n",
       "      <td>NaN</td>\n",
       "    </tr>\n",
       "    <tr>\n",
       "      <th>1218</th>\n",
       "      <td>1218</td>\n",
       "      <td>A</td>\n",
       "      <td>1219</td>\n",
       "      <td>0</td>\n",
       "      <td>ref_polyA</td>\n",
       "      <td>2</td>\n",
       "      <td>0</td>\n",
       "      <td>0</td>\n",
       "      <td>0</td>\n",
       "      <td>0</td>\n",
       "      <td>0</td>\n",
       "      <td>0</td>\n",
       "      <td>0</td>\n",
       "      <td>0</td>\n",
       "      <td>0</td>\n",
       "      <td>0</td>\n",
       "      <td>0</td>\n",
       "      <td>NaN</td>\n",
       "    </tr>\n",
       "    <tr>\n",
       "      <th>1219</th>\n",
       "      <td>1219</td>\n",
       "      <td>A</td>\n",
       "      <td>1220</td>\n",
       "      <td>0</td>\n",
       "      <td>ref_polyA</td>\n",
       "      <td>1</td>\n",
       "      <td>0</td>\n",
       "      <td>0</td>\n",
       "      <td>0</td>\n",
       "      <td>0</td>\n",
       "      <td>0</td>\n",
       "      <td>0</td>\n",
       "      <td>0</td>\n",
       "      <td>0</td>\n",
       "      <td>0</td>\n",
       "      <td>0</td>\n",
       "      <td>0</td>\n",
       "      <td>NaN</td>\n",
       "    </tr>\n",
       "    <tr>\n",
       "      <th>1220</th>\n",
       "      <td>1220</td>\n",
       "      <td>A</td>\n",
       "      <td>1221</td>\n",
       "      <td>0</td>\n",
       "      <td>ref_polyA</td>\n",
       "      <td>0</td>\n",
       "      <td>0</td>\n",
       "      <td>0</td>\n",
       "      <td>0</td>\n",
       "      <td>0</td>\n",
       "      <td>0</td>\n",
       "      <td>0</td>\n",
       "      <td>0</td>\n",
       "      <td>0</td>\n",
       "      <td>0</td>\n",
       "      <td>0</td>\n",
       "      <td>0</td>\n",
       "      <td>NaN</td>\n",
       "    </tr>\n",
       "  </tbody>\n",
       "</table>\n",
       "<p>1221 rows × 18 columns</p>\n",
       "</div>"
      ],
      "text/plain": [
       "      position reference base   pos  ref        chr   A   C  G   T  N  a  c  \\\n",
       "0            0              A     1    0  ref_polyA  12   0  0   0  0  0  0   \n",
       "1            1              C     2    1  ref_polyA   0  12  0   0  0  0  0   \n",
       "2            2              A     3    0  ref_polyA  12   0  0   0  0  0  0   \n",
       "3            3              U     4    3  ref_polyA   0   0  0  12  0  0  0   \n",
       "4            4              U     5    3  ref_polyA   0   0  0  18  0  0  0   \n",
       "...        ...            ...   ...  ...        ...  ..  .. ..  .. .. .. ..   \n",
       "1216      1216              A  1217    0  ref_polyA  13   0  0   0  0  0  0   \n",
       "1217      1217              A  1218    0  ref_polyA   3   0  0   0  0  0  0   \n",
       "1218      1218              A  1219    0  ref_polyA   2   0  0   0  0  0  0   \n",
       "1219      1219              A  1220    0  ref_polyA   1   0  0   0  0  0  0   \n",
       "1220      1220              A  1221    0  ref_polyA   0   0  0   0  0  0  0   \n",
       "\n",
       "      g  t  n  IN  DEL  indel  \n",
       "0     0  0  0   0    0    NaN  \n",
       "1     0  0  0   0    0    NaN  \n",
       "2     0  0  0   0    0    NaN  \n",
       "3     0  0  0   0    0    NaN  \n",
       "4     0  0  0   1    0  1:+1C  \n",
       "...  .. .. ..  ..  ...    ...  \n",
       "1216  0  0  0   0    0    NaN  \n",
       "1217  0  0  0   0    0    NaN  \n",
       "1218  0  0  0   0    0    NaN  \n",
       "1219  0  0  0   0    0    NaN  \n",
       "1220  0  0  0   0    0    NaN  \n",
       "\n",
       "[1221 rows x 18 columns]"
      ]
     },
     "execution_count": 9,
     "metadata": {},
     "output_type": "execute_result"
    }
   ],
   "source": [
    "bp = pd.merge(ref,bp)\n",
    "bp"
   ]
  },
  {
   "cell_type": "markdown",
   "id": "babc65cb-6539-4e21-ae59-a28020af9f6c",
   "metadata": {},
   "source": [
    "We will create a set of four bases {0,1,2,3} per position and delete the reference base from there to create a list of mismatched bases (nonref)."
   ]
  },
  {
   "cell_type": "code",
   "execution_count": 10,
   "id": "4c702448-c4dc-48af-b3b1-d7182d60a4f7",
   "metadata": {},
   "outputs": [],
   "source": [
    "bp['nonref'] = bp.ref.apply(lambda x: list({0,1,2,3} - set([x])))"
   ]
  },
  {
   "cell_type": "markdown",
   "id": "8843b773-689c-41c1-a154-2fc1ab0d35d6",
   "metadata": {},
   "source": [
    "We will make the list of counts by bases. Let's call that \"mismatches\" for now because we will overwrite it later on with the actually counts of mismatces."
   ]
  },
  {
   "cell_type": "code",
   "execution_count": 11,
   "id": "91ae38f0-a18f-4302-af8d-d8d648341950",
   "metadata": {},
   "outputs": [],
   "source": [
    "bp['mismatches'] = bp[['A','C','G','T']].values.tolist()"
   ]
  },
  {
   "cell_type": "markdown",
   "id": "69ee0f8a-f098-4971-a9fb-bed29cd4258b",
   "metadata": {},
   "source": [
    "We will then combine the mismatched bases (nonref) with the list of counts by bases (mismatchees)."
   ]
  },
  {
   "cell_type": "code",
   "execution_count": 12,
   "id": "802e83e9-7ef3-4d52-9d4a-c5b965f527ff",
   "metadata": {},
   "outputs": [],
   "source": [
    "bp['mismatches'] = bp[['nonref','mismatches']].values.tolist()"
   ]
  },
  {
   "cell_type": "markdown",
   "id": "e7644882-f714-41b1-ba28-58c5bd9fecbf",
   "metadata": {},
   "source": [
    "We will then use list comprehension to get the mismatches."
   ]
  },
  {
   "cell_type": "code",
   "execution_count": 13,
   "id": "ade81594-4817-4cb3-b981-9dacf99c5d0f",
   "metadata": {},
   "outputs": [],
   "source": [
    "bp['mismatches'] = bp['mismatches'].apply(lambda x: np.sum([x[1][i] for i in x[0]]))"
   ]
  },
  {
   "cell_type": "markdown",
   "id": "a5be3d49-cab4-4b1b-b748-6887324557d6",
   "metadata": {},
   "source": [
    "We will merge the mpile dataframe (bpile) with the new dataframe we created (bp). Remember that we have calculated average Q score per position using the original mpileup file."
   ]
  },
  {
   "cell_type": "code",
   "execution_count": 14,
   "id": "264d8e2b",
   "metadata": {},
   "outputs": [],
   "source": [
    "bpile = bpile[['sample',0,1,3,'qscores','mean qscore']]\n",
    "bpile.columns = ['sample','chr','pos','depth','qscores','mean qscore']\n",
    "bp = pd.merge(bpile, bp[['chr','pos','reference base','IN','DEL','mismatches']])"
   ]
  },
  {
   "cell_type": "markdown",
   "id": "95774595-5d40-4dc6-b513-8447af34838c",
   "metadata": {},
   "source": [
    "We will calculate the fractions of indels and mismatches before plotting."
   ]
  },
  {
   "cell_type": "code",
   "execution_count": 15,
   "id": "983e489d",
   "metadata": {},
   "outputs": [],
   "source": [
    "bp['IN frac'] = bp.IN/bp.depth\n",
    "bp['DEL frac'] = bp.DEL/bp.depth\n",
    "bp['mismatch frac'] = bp.mismatches/bp.depth"
   ]
  },
  {
   "cell_type": "markdown",
   "id": "e24ab5fc-99f7-4b6d-8705-71d5bbcc904c",
   "metadata": {},
   "source": [
    "Interestingly, deletions appear more frequently around the first half of the sequence."
   ]
  },
  {
   "cell_type": "code",
   "execution_count": 16,
   "id": "e391279a",
   "metadata": {},
   "outputs": [
    {
     "data": {
      "text/plain": [
       "<Axes: xlabel='pos', ylabel='IN frac'>"
      ]
     },
     "execution_count": 16,
     "metadata": {},
     "output_type": "execute_result"
    },
    {
     "data": {
      "image/png": "[encoded data removed]",
      "text/plain": [
       "<Figure size 640x480 with 1 Axes>"
      ]
     },
     "metadata": {},
     "output_type": "display_data"
    }
   ],
   "source": [
    "sns.lineplot(data=bp, x='pos', y='IN frac', label='IN frac')\n",
    "sns.lineplot(data=bp, x='pos', y='DEL frac', label='DEL frac')\n",
    "sns.lineplot(data=bp, x='pos', y='mismatch frac', label='mismatch frac')"
   ]
  },
  {
   "cell_type": "code",
   "execution_count": 17,
   "id": "a8b0c5b3",
   "metadata": {},
   "outputs": [
    {
     "data": {
      "text/html": [
       "<div>\n",
       "<style scoped>\n",
       "    .dataframe tbody tr th:only-of-type {\n",
       "        vertical-align: middle;\n",
       "    }\n",
       "\n",
       "    .dataframe tbody tr th {\n",
       "        vertical-align: top;\n",
       "    }\n",
       "\n",
       "    .dataframe thead th {\n",
       "        text-align: right;\n",
       "    }\n",
       "</style>\n",
       "<table border=\"1\" class=\"dataframe\">\n",
       "  <thead>\n",
       "    <tr style=\"text-align: right;\">\n",
       "      <th></th>\n",
       "      <th>sample</th>\n",
       "      <th>chr</th>\n",
       "      <th>pos</th>\n",
       "      <th>depth</th>\n",
       "      <th>qscores</th>\n",
       "      <th>mean qscore</th>\n",
       "      <th>reference base</th>\n",
       "      <th>IN</th>\n",
       "      <th>DEL</th>\n",
       "      <th>mismatches</th>\n",
       "      <th>IN frac</th>\n",
       "      <th>DEL frac</th>\n",
       "      <th>mismatch frac</th>\n",
       "    </tr>\n",
       "  </thead>\n",
       "  <tbody>\n",
       "    <tr>\n",
       "      <th>0</th>\n",
       "      <td>U</td>\n",
       "      <td>ref_polyA</td>\n",
       "      <td>1</td>\n",
       "      <td>12</td>\n",
       "      <td>[40, 28, 32, 29, 25, 18, 41, 34, 33, 24, 50, 27]</td>\n",
       "      <td>31.750000</td>\n",
       "      <td>A</td>\n",
       "      <td>0</td>\n",
       "      <td>0</td>\n",
       "      <td>0</td>\n",
       "      <td>0.000000</td>\n",
       "      <td>0.000000</td>\n",
       "      <td>0.000000</td>\n",
       "    </tr>\n",
       "    <tr>\n",
       "      <th>891</th>\n",
       "      <td>U</td>\n",
       "      <td>ref_polyA</td>\n",
       "      <td>892</td>\n",
       "      <td>7547</td>\n",
       "      <td>[40, 44, 44, 30, 34, 45, 35, 40, 49, 31, 50, 4...</td>\n",
       "      <td>37.139261</td>\n",
       "      <td>A</td>\n",
       "      <td>23</td>\n",
       "      <td>0</td>\n",
       "      <td>82</td>\n",
       "      <td>0.003048</td>\n",
       "      <td>0.000000</td>\n",
       "      <td>0.010865</td>\n",
       "    </tr>\n",
       "    <tr>\n",
       "      <th>889</th>\n",
       "      <td>U</td>\n",
       "      <td>ref_polyA</td>\n",
       "      <td>890</td>\n",
       "      <td>7749</td>\n",
       "      <td>[33, 41, 47, 40, 39, 40, 39, 47, 46, 39, 50, 2...</td>\n",
       "      <td>36.979223</td>\n",
       "      <td>C</td>\n",
       "      <td>8</td>\n",
       "      <td>0</td>\n",
       "      <td>9</td>\n",
       "      <td>0.001032</td>\n",
       "      <td>0.000000</td>\n",
       "      <td>0.001161</td>\n",
       "    </tr>\n",
       "    <tr>\n",
       "      <th>887</th>\n",
       "      <td>U</td>\n",
       "      <td>ref_polyA</td>\n",
       "      <td>888</td>\n",
       "      <td>7836</td>\n",
       "      <td>[38, 49, 50, 46, 45, 33, 34, 49, 50, 50, 50, 2...</td>\n",
       "      <td>38.472052</td>\n",
       "      <td>G</td>\n",
       "      <td>7</td>\n",
       "      <td>0</td>\n",
       "      <td>17</td>\n",
       "      <td>0.000893</td>\n",
       "      <td>0.000000</td>\n",
       "      <td>0.002169</td>\n",
       "    </tr>\n",
       "    <tr>\n",
       "      <th>833</th>\n",
       "      <td>U</td>\n",
       "      <td>ref_polyA</td>\n",
       "      <td>834</td>\n",
       "      <td>7613</td>\n",
       "      <td>[32, 33, 31, 48, 50, 50, 42, 40, 37, 37, 35, 4...</td>\n",
       "      <td>39.542887</td>\n",
       "      <td>A</td>\n",
       "      <td>44</td>\n",
       "      <td>0</td>\n",
       "      <td>176</td>\n",
       "      <td>0.005780</td>\n",
       "      <td>0.000000</td>\n",
       "      <td>0.023118</td>\n",
       "    </tr>\n",
       "    <tr>\n",
       "      <th>...</th>\n",
       "      <td>...</td>\n",
       "      <td>...</td>\n",
       "      <td>...</td>\n",
       "      <td>...</td>\n",
       "      <td>...</td>\n",
       "      <td>...</td>\n",
       "      <td>...</td>\n",
       "      <td>...</td>\n",
       "      <td>...</td>\n",
       "      <td>...</td>\n",
       "      <td>...</td>\n",
       "      <td>...</td>\n",
       "      <td>...</td>\n",
       "    </tr>\n",
       "    <tr>\n",
       "      <th>302</th>\n",
       "      <td>U</td>\n",
       "      <td>ref_polyA</td>\n",
       "      <td>303</td>\n",
       "      <td>4233</td>\n",
       "      <td>[23, 26, 22, 31, 33, 33, 25, 50, 17, 36, 13, 2...</td>\n",
       "      <td>23.613277</td>\n",
       "      <td>C</td>\n",
       "      <td>102</td>\n",
       "      <td>1380</td>\n",
       "      <td>23</td>\n",
       "      <td>0.024096</td>\n",
       "      <td>0.326010</td>\n",
       "      <td>0.005433</td>\n",
       "    </tr>\n",
       "    <tr>\n",
       "      <th>133</th>\n",
       "      <td>U</td>\n",
       "      <td>ref_polyA</td>\n",
       "      <td>134</td>\n",
       "      <td>5181</td>\n",
       "      <td>[17, 14, 16, 39, 39, 13, 18, 23, 14, 14, 16, 2...</td>\n",
       "      <td>27.548736</td>\n",
       "      <td>U</td>\n",
       "      <td>103</td>\n",
       "      <td>1825</td>\n",
       "      <td>579</td>\n",
       "      <td>0.019880</td>\n",
       "      <td>0.352249</td>\n",
       "      <td>0.111754</td>\n",
       "    </tr>\n",
       "    <tr>\n",
       "      <th>482</th>\n",
       "      <td>U</td>\n",
       "      <td>ref_polyA</td>\n",
       "      <td>483</td>\n",
       "      <td>6009</td>\n",
       "      <td>[15, 20, 16, 28, 28, 41, 30, 21, 16, 22, 25, 1...</td>\n",
       "      <td>28.800133</td>\n",
       "      <td>C</td>\n",
       "      <td>6</td>\n",
       "      <td>2267</td>\n",
       "      <td>3</td>\n",
       "      <td>0.000999</td>\n",
       "      <td>0.377267</td>\n",
       "      <td>0.000499</td>\n",
       "    </tr>\n",
       "    <tr>\n",
       "      <th>659</th>\n",
       "      <td>U</td>\n",
       "      <td>ref_polyA</td>\n",
       "      <td>660</td>\n",
       "      <td>4385</td>\n",
       "      <td>[14, 13, 19, 38, 13, 27, 44, 16, 18, 44, 31, 3...</td>\n",
       "      <td>24.663626</td>\n",
       "      <td>C</td>\n",
       "      <td>46</td>\n",
       "      <td>1721</td>\n",
       "      <td>3</td>\n",
       "      <td>0.010490</td>\n",
       "      <td>0.392474</td>\n",
       "      <td>0.000684</td>\n",
       "    </tr>\n",
       "    <tr>\n",
       "      <th>1220</th>\n",
       "      <td>U</td>\n",
       "      <td>ref_polyA</td>\n",
       "      <td>1221</td>\n",
       "      <td>0</td>\n",
       "      <td>[9]</td>\n",
       "      <td>9.000000</td>\n",
       "      <td>A</td>\n",
       "      <td>0</td>\n",
       "      <td>0</td>\n",
       "      <td>0</td>\n",
       "      <td>NaN</td>\n",
       "      <td>NaN</td>\n",
       "      <td>NaN</td>\n",
       "    </tr>\n",
       "  </tbody>\n",
       "</table>\n",
       "<p>1221 rows × 13 columns</p>\n",
       "</div>"
      ],
      "text/plain": [
       "     sample        chr   pos  depth  \\\n",
       "0         U  ref_polyA     1     12   \n",
       "891       U  ref_polyA   892   7547   \n",
       "889       U  ref_polyA   890   7749   \n",
       "887       U  ref_polyA   888   7836   \n",
       "833       U  ref_polyA   834   7613   \n",
       "...     ...        ...   ...    ...   \n",
       "302       U  ref_polyA   303   4233   \n",
       "133       U  ref_polyA   134   5181   \n",
       "482       U  ref_polyA   483   6009   \n",
       "659       U  ref_polyA   660   4385   \n",
       "1220      U  ref_polyA  1221      0   \n",
       "\n",
       "                                                qscores  mean qscore  \\\n",
       "0      [40, 28, 32, 29, 25, 18, 41, 34, 33, 24, 50, 27]    31.750000   \n",
       "891   [40, 44, 44, 30, 34, 45, 35, 40, 49, 31, 50, 4...    37.139261   \n",
       "889   [33, 41, 47, 40, 39, 40, 39, 47, 46, 39, 50, 2...    36.979223   \n",
       "887   [38, 49, 50, 46, 45, 33, 34, 49, 50, 50, 50, 2...    38.472052   \n",
       "833   [32, 33, 31, 48, 50, 50, 42, 40, 37, 37, 35, 4...    39.542887   \n",
       "...                                                 ...          ...   \n",
       "302   [23, 26, 22, 31, 33, 33, 25, 50, 17, 36, 13, 2...    23.613277   \n",
       "133   [17, 14, 16, 39, 39, 13, 18, 23, 14, 14, 16, 2...    27.548736   \n",
       "482   [15, 20, 16, 28, 28, 41, 30, 21, 16, 22, 25, 1...    28.800133   \n",
       "659   [14, 13, 19, 38, 13, 27, 44, 16, 18, 44, 31, 3...    24.663626   \n",
       "1220                                                [9]     9.000000   \n",
       "\n",
       "     reference base   IN   DEL  mismatches   IN frac  DEL frac  mismatch frac  \n",
       "0                 A    0     0           0  0.000000  0.000000       0.000000  \n",
       "891               A   23     0          82  0.003048  0.000000       0.010865  \n",
       "889               C    8     0           9  0.001032  0.000000       0.001161  \n",
       "887               G    7     0          17  0.000893  0.000000       0.002169  \n",
       "833               A   44     0         176  0.005780  0.000000       0.023118  \n",
       "...             ...  ...   ...         ...       ...       ...            ...  \n",
       "302               C  102  1380          23  0.024096  0.326010       0.005433  \n",
       "133               U  103  1825         579  0.019880  0.352249       0.111754  \n",
       "482               C    6  2267           3  0.000999  0.377267       0.000499  \n",
       "659               C   46  1721           3  0.010490  0.392474       0.000684  \n",
       "1220              A    0     0           0       NaN       NaN            NaN  \n",
       "\n",
       "[1221 rows x 13 columns]"
      ]
     },
     "execution_count": 17,
     "metadata": {},
     "output_type": "execute_result"
    }
   ],
   "source": [
    "bp.sort_values('DEL frac')"
   ]
  },
  {
   "cell_type": "markdown",
   "id": "6d67f8f1-5712-49c7-8324-29ad0faea16a",
   "metadata": {},
   "source": [
    "It is also interesting to see that insertions and deletions occur more frequently at U."
   ]
  },
  {
   "cell_type": "code",
   "execution_count": 18,
   "id": "70927db1",
   "metadata": {},
   "outputs": [
    {
     "data": {
      "text/plain": [
       "<Axes: xlabel='reference base', ylabel='IN frac'>"
      ]
     },
     "execution_count": 18,
     "metadata": {},
     "output_type": "execute_result"
    },
    {
     "data": {
      "image/png": "[encoded data removed]",
      "text/plain": [
       "<Figure size 640x480 with 1 Axes>"
      ]
     },
     "metadata": {},
     "output_type": "display_data"
    }
   ],
   "source": [
    "sns.boxplot(data=bp, y='IN frac', x='reference base')"
   ]
  },
  {
   "cell_type": "code",
   "execution_count": 19,
   "id": "5fe1907b",
   "metadata": {},
   "outputs": [
    {
     "data": {
      "text/plain": [
       "<Axes: xlabel='reference base', ylabel='DEL frac'>"
      ]
     },
     "execution_count": 19,
     "metadata": {},
     "output_type": "execute_result"
    },
    {
     "data": {
      "image/png": "[encoded data removed]",
      "text/plain": [
       "<Figure size 640x480 with 1 Axes>"
      ]
     },
     "metadata": {},
     "output_type": "display_data"
    }
   ],
   "source": [
    "sns.boxplot(data=bp, y='DEL frac', x='reference base')"
   ]
  },
  {
   "cell_type": "markdown",
   "id": "1d450cbd-27a1-4e66-90b0-e053aeb373fa",
   "metadata": {},
   "source": [
    "And mismatches occur more frequently at both A and U."
   ]
  },
  {
   "cell_type": "code",
   "execution_count": 20,
   "id": "3ecc8eb7",
   "metadata": {},
   "outputs": [
    {
     "data": {
      "text/plain": [
       "<Axes: xlabel='reference base', ylabel='mismatch frac'>"
      ]
     },
     "execution_count": 20,
     "metadata": {},
     "output_type": "execute_result"
    },
    {
     "data": {
      "image/png": "[encoded data removed]",
      "text/plain": [
       "<Figure size 640x480 with 1 Axes>"
      ]
     },
     "metadata": {},
     "output_type": "display_data"
    }
   ],
   "source": [
    "sns.boxplot(data=bp, y='mismatch frac', x='reference base')"
   ]
  },
  {
   "cell_type": "markdown",
   "id": "305dc6f6-48b5-4f51-a42a-1e0ca130f481",
   "metadata": {},
   "source": [
    "Let's compare in vitro transcribed RNAs with sample_B and (sample_C)."
   ]
  },
  {
   "cell_type": "code",
   "execution_count": 4,
   "id": "adc91495",
   "metadata": {},
   "outputs": [],
   "source": [
    "cpile = pd.read_csv('primary_sample_C_pass_aligned_polyA_sorted.mpileup', sep='\\t', header=None)\n",
    "cpile['encoded qscores'] = cpile[5].apply(lambda x: [*x])\n",
    "cpile['qscores'] = cpile['encoded qscores'].apply(lambda x: [qscore[i] for i in x])\n",
    "cpile['mean qscore'] = cpile['encoded qscores'].apply(lambda x: np.mean([qscore[i] for i in x]))\n",
    "cpile['sample'] = 'U+4SU'"
   ]
  },
  {
   "cell_type": "code",
   "execution_count": 6,
   "id": "bf8ae2b0",
   "metadata": {},
   "outputs": [],
   "source": [
    "mpiles = pd.merge(bpile,cpile, on=[1])\n",
    "mpiles['position'] = mpiles[1] - 1\n",
    "mpiles = pd.merge(ref, mpiles, on='position')"
   ]
  },
  {
   "cell_type": "markdown",
   "id": "3aa3bdca-4013-46dc-8e57-7c5beece4b78",
   "metadata": {},
   "source": [
    "They look similar on scatterplots."
   ]
  },
  {
   "cell_type": "code",
   "execution_count": 7,
   "id": "11141136",
   "metadata": {},
   "outputs": [
    {
     "data": {
      "text/plain": [
       "<AxesSubplot:xlabel='mean qscore_x', ylabel='mean qscore_y'>"
      ]
     },
     "execution_count": 7,
     "metadata": {},
     "output_type": "execute_result"
    },
    {
     "data": {
      "image/png": "[encoded data removed]",
      "text/plain": [
       "<Figure size 640x480 with 1 Axes>"
      ]
     },
     "metadata": {},
     "output_type": "display_data"
    }
   ],
   "source": [
    "sns.scatterplot(data=mpiles, x='mean qscore_x', y='mean qscore_y')"
   ]
  },
  {
   "cell_type": "code",
   "execution_count": 8,
   "id": "65b03f8b",
   "metadata": {},
   "outputs": [
    {
     "data": {
      "text/plain": [
       "<seaborn.axisgrid.FacetGrid at 0x7fef0dda6f10>"
      ]
     },
     "execution_count": 8,
     "metadata": {},
     "output_type": "execute_result"
    },
    {
     "data": {
      "image/png": "[encoded data removed]",
      "text/plain": [
       "<Figure size 1200x300 with 4 Axes>"
      ]
     },
     "metadata": {},
     "output_type": "display_data"
    }
   ],
   "source": [
    "g = sns.FacetGrid(mpiles, col=\"reference base\")\n",
    "g.map(sns.scatterplot, 'mean qscore_x', 'mean qscore_y')"
   ]
  },
  {
   "cell_type": "markdown",
   "id": "fa052719-b205-4c04-9d8f-f6b84d156a10",
   "metadata": {},
   "source": [
    "Let's do some t-tests and Mann–Whitney U tests to compare the two samples.\n",
    "\n",
    "We can compare them by all bases or by bases."
   ]
  },
  {
   "cell_type": "code",
   "execution_count": 14,
   "id": "c4b853e1",
   "metadata": {},
   "outputs": [
    {
     "data": {
      "text/html": [
       "<div>\n",
       "<style scoped>\n",
       "    .dataframe tbody tr th:only-of-type {\n",
       "        vertical-align: middle;\n",
       "    }\n",
       "\n",
       "    .dataframe tbody tr th {\n",
       "        vertical-align: top;\n",
       "    }\n",
       "\n",
       "    .dataframe thead th {\n",
       "        text-align: right;\n",
       "    }\n",
       "</style>\n",
       "<table border=\"1\" class=\"dataframe\">\n",
       "  <thead>\n",
       "    <tr style=\"text-align: right;\">\n",
       "      <th></th>\n",
       "      <th>T</th>\n",
       "      <th>dof</th>\n",
       "      <th>alternative</th>\n",
       "      <th>p-val</th>\n",
       "      <th>CI95%</th>\n",
       "      <th>cohen-d</th>\n",
       "      <th>BF10</th>\n",
       "      <th>power</th>\n",
       "    </tr>\n",
       "  </thead>\n",
       "  <tbody>\n",
       "    <tr>\n",
       "      <th>T-test</th>\n",
       "      <td>-5.464005</td>\n",
       "      <td>2440</td>\n",
       "      <td>two-sided</td>\n",
       "      <td>5.127163e-08</td>\n",
       "      <td>[-1.49, -0.7]</td>\n",
       "      <td>0.22114</td>\n",
       "      <td>1.16e+05</td>\n",
       "      <td>0.999769</td>\n",
       "    </tr>\n",
       "  </tbody>\n",
       "</table>\n",
       "</div>"
      ],
      "text/plain": [
       "               T   dof alternative         p-val          CI95%  cohen-d  \\\n",
       "T-test -5.464005  2440   two-sided  5.127163e-08  [-1.49, -0.7]  0.22114   \n",
       "\n",
       "            BF10     power  \n",
       "T-test  1.16e+05  0.999769  "
      ]
     },
     "execution_count": 14,
     "metadata": {},
     "output_type": "execute_result"
    }
   ],
   "source": [
    "pg.ttest(mpiles['mean qscore_x'], mpiles['mean qscore_y'])"
   ]
  },
  {
   "cell_type": "code",
   "execution_count": 15,
   "id": "c32c0903",
   "metadata": {},
   "outputs": [
    {
     "data": {
      "text/html": [
       "<div>\n",
       "<style scoped>\n",
       "    .dataframe tbody tr th:only-of-type {\n",
       "        vertical-align: middle;\n",
       "    }\n",
       "\n",
       "    .dataframe tbody tr th {\n",
       "        vertical-align: top;\n",
       "    }\n",
       "\n",
       "    .dataframe thead th {\n",
       "        text-align: right;\n",
       "    }\n",
       "</style>\n",
       "<table border=\"1\" class=\"dataframe\">\n",
       "  <thead>\n",
       "    <tr style=\"text-align: right;\">\n",
       "      <th></th>\n",
       "      <th>T</th>\n",
       "      <th>dof</th>\n",
       "      <th>alternative</th>\n",
       "      <th>p-val</th>\n",
       "      <th>CI95%</th>\n",
       "      <th>cohen-d</th>\n",
       "      <th>BF10</th>\n",
       "      <th>power</th>\n",
       "    </tr>\n",
       "  </thead>\n",
       "  <tbody>\n",
       "    <tr>\n",
       "      <th>T-test</th>\n",
       "      <td>-20.705948</td>\n",
       "      <td>1220</td>\n",
       "      <td>two-sided</td>\n",
       "      <td>7.369113e-82</td>\n",
       "      <td>[-1.2, -0.99]</td>\n",
       "      <td>0.22114</td>\n",
       "      <td>1.338e+78</td>\n",
       "      <td>1.0</td>\n",
       "    </tr>\n",
       "  </tbody>\n",
       "</table>\n",
       "</div>"
      ],
      "text/plain": [
       "                T   dof alternative         p-val          CI95%  cohen-d  \\\n",
       "T-test -20.705948  1220   two-sided  7.369113e-82  [-1.2, -0.99]  0.22114   \n",
       "\n",
       "             BF10  power  \n",
       "T-test  1.338e+78    1.0  "
      ]
     },
     "execution_count": 15,
     "metadata": {},
     "output_type": "execute_result"
    }
   ],
   "source": [
    "pg.ttest(mpiles['mean qscore_x'], mpiles['mean qscore_y'], paired=True)"
   ]
  },
  {
   "cell_type": "code",
   "execution_count": 20,
   "id": "fc591e4c",
   "metadata": {},
   "outputs": [],
   "source": [
    "pttest = []\n",
    "for i in mpiles['reference base'].unique():\n",
    "    d = mpiles[mpiles['reference base']==i]\n",
    "    t = pg.ttest(d['mean qscore_x'], d['mean qscore_y'], paired=True)\n",
    "    t['base'] = i\n",
    "    pttest.append(t)"
   ]
  },
  {
   "cell_type": "code",
   "execution_count": 22,
   "id": "fd66b826",
   "metadata": {},
   "outputs": [
    {
     "data": {
      "text/html": [
       "<div>\n",
       "<style scoped>\n",
       "    .dataframe tbody tr th:only-of-type {\n",
       "        vertical-align: middle;\n",
       "    }\n",
       "\n",
       "    .dataframe tbody tr th {\n",
       "        vertical-align: top;\n",
       "    }\n",
       "\n",
       "    .dataframe thead th {\n",
       "        text-align: right;\n",
       "    }\n",
       "</style>\n",
       "<table border=\"1\" class=\"dataframe\">\n",
       "  <thead>\n",
       "    <tr style=\"text-align: right;\">\n",
       "      <th></th>\n",
       "      <th>T</th>\n",
       "      <th>dof</th>\n",
       "      <th>alternative</th>\n",
       "      <th>p-val</th>\n",
       "      <th>CI95%</th>\n",
       "      <th>cohen-d</th>\n",
       "      <th>BF10</th>\n",
       "      <th>power</th>\n",
       "      <th>base</th>\n",
       "    </tr>\n",
       "  </thead>\n",
       "  <tbody>\n",
       "    <tr>\n",
       "      <th>T-test</th>\n",
       "      <td>-10.694500</td>\n",
       "      <td>343</td>\n",
       "      <td>two-sided</td>\n",
       "      <td>3.147092e-23</td>\n",
       "      <td>[-1.47, -1.01]</td>\n",
       "      <td>0.236007</td>\n",
       "      <td>1.147e+20</td>\n",
       "      <td>0.991914</td>\n",
       "      <td>A</td>\n",
       "    </tr>\n",
       "    <tr>\n",
       "      <th>T-test</th>\n",
       "      <td>-13.201234</td>\n",
       "      <td>346</td>\n",
       "      <td>two-sided</td>\n",
       "      <td>1.657134e-32</td>\n",
       "      <td>[-1.44, -1.07]</td>\n",
       "      <td>0.258073</td>\n",
       "      <td>1.652e+29</td>\n",
       "      <td>0.997702</td>\n",
       "      <td>C</td>\n",
       "    </tr>\n",
       "    <tr>\n",
       "      <th>T-test</th>\n",
       "      <td>-10.365159</td>\n",
       "      <td>212</td>\n",
       "      <td>two-sided</td>\n",
       "      <td>1.252552e-20</td>\n",
       "      <td>[-1.43, -0.97]</td>\n",
       "      <td>0.232376</td>\n",
       "      <td>3.544e+17</td>\n",
       "      <td>0.921619</td>\n",
       "      <td>U</td>\n",
       "    </tr>\n",
       "    <tr>\n",
       "      <th>T-test</th>\n",
       "      <td>-7.660702</td>\n",
       "      <td>316</td>\n",
       "      <td>two-sided</td>\n",
       "      <td>2.281832e-13</td>\n",
       "      <td>[-0.87, -0.52]</td>\n",
       "      <td>0.183184</td>\n",
       "      <td>2.461e+10</td>\n",
       "      <td>0.901755</td>\n",
       "      <td>G</td>\n",
       "    </tr>\n",
       "  </tbody>\n",
       "</table>\n",
       "</div>"
      ],
      "text/plain": [
       "                T  dof alternative         p-val           CI95%   cohen-d  \\\n",
       "T-test -10.694500  343   two-sided  3.147092e-23  [-1.47, -1.01]  0.236007   \n",
       "T-test -13.201234  346   two-sided  1.657134e-32  [-1.44, -1.07]  0.258073   \n",
       "T-test -10.365159  212   two-sided  1.252552e-20  [-1.43, -0.97]  0.232376   \n",
       "T-test  -7.660702  316   two-sided  2.281832e-13  [-0.87, -0.52]  0.183184   \n",
       "\n",
       "             BF10     power base  \n",
       "T-test  1.147e+20  0.991914    A  \n",
       "T-test  1.652e+29  0.997702    C  \n",
       "T-test  3.544e+17  0.921619    U  \n",
       "T-test  2.461e+10  0.901755    G  "
      ]
     },
     "execution_count": 22,
     "metadata": {},
     "output_type": "execute_result"
    }
   ],
   "source": [
    "pttest = pd.concat(pttest)\n",
    "pttest"
   ]
  },
  {
   "cell_type": "code",
   "execution_count": 23,
   "id": "230a009b",
   "metadata": {},
   "outputs": [
    {
     "data": {
      "text/html": [
       "<div>\n",
       "<style scoped>\n",
       "    .dataframe tbody tr th:only-of-type {\n",
       "        vertical-align: middle;\n",
       "    }\n",
       "\n",
       "    .dataframe tbody tr th {\n",
       "        vertical-align: top;\n",
       "    }\n",
       "\n",
       "    .dataframe thead th {\n",
       "        text-align: right;\n",
       "    }\n",
       "</style>\n",
       "<table border=\"1\" class=\"dataframe\">\n",
       "  <thead>\n",
       "    <tr style=\"text-align: right;\">\n",
       "      <th></th>\n",
       "      <th>T</th>\n",
       "      <th>dof</th>\n",
       "      <th>alternative</th>\n",
       "      <th>p-val</th>\n",
       "      <th>CI95%</th>\n",
       "      <th>cohen-d</th>\n",
       "      <th>BF10</th>\n",
       "      <th>power</th>\n",
       "      <th>base</th>\n",
       "    </tr>\n",
       "  </thead>\n",
       "  <tbody>\n",
       "    <tr>\n",
       "      <th>T-test</th>\n",
       "      <td>-3.095198</td>\n",
       "      <td>686</td>\n",
       "      <td>two-sided</td>\n",
       "      <td>0.002047</td>\n",
       "      <td>[-2.03, -0.45]</td>\n",
       "      <td>0.236007</td>\n",
       "      <td>9.016</td>\n",
       "      <td>0.870951</td>\n",
       "      <td>A</td>\n",
       "    </tr>\n",
       "    <tr>\n",
       "      <th>T-test</th>\n",
       "      <td>-3.399324</td>\n",
       "      <td>692</td>\n",
       "      <td>two-sided</td>\n",
       "      <td>0.000714</td>\n",
       "      <td>[-1.98, -0.53]</td>\n",
       "      <td>0.258073</td>\n",
       "      <td>23.347</td>\n",
       "      <td>0.924305</td>\n",
       "      <td>C</td>\n",
       "    </tr>\n",
       "    <tr>\n",
       "      <th>T-test</th>\n",
       "      <td>-2.398093</td>\n",
       "      <td>424</td>\n",
       "      <td>two-sided</td>\n",
       "      <td>0.016912</td>\n",
       "      <td>[-2.18, -0.22]</td>\n",
       "      <td>0.232376</td>\n",
       "      <td>1.71</td>\n",
       "      <td>0.667388</td>\n",
       "      <td>U</td>\n",
       "    </tr>\n",
       "    <tr>\n",
       "      <th>T-test</th>\n",
       "      <td>-2.306233</td>\n",
       "      <td>632</td>\n",
       "      <td>two-sided</td>\n",
       "      <td>0.021420</td>\n",
       "      <td>[-1.29, -0.1]</td>\n",
       "      <td>0.183184</td>\n",
       "      <td>1.181</td>\n",
       "      <td>0.634122</td>\n",
       "      <td>G</td>\n",
       "    </tr>\n",
       "  </tbody>\n",
       "</table>\n",
       "</div>"
      ],
      "text/plain": [
       "               T  dof alternative     p-val           CI95%   cohen-d    BF10  \\\n",
       "T-test -3.095198  686   two-sided  0.002047  [-2.03, -0.45]  0.236007   9.016   \n",
       "T-test -3.399324  692   two-sided  0.000714  [-1.98, -0.53]  0.258073  23.347   \n",
       "T-test -2.398093  424   two-sided  0.016912  [-2.18, -0.22]  0.232376    1.71   \n",
       "T-test -2.306233  632   two-sided  0.021420   [-1.29, -0.1]  0.183184   1.181   \n",
       "\n",
       "           power base  \n",
       "T-test  0.870951    A  \n",
       "T-test  0.924305    C  \n",
       "T-test  0.667388    U  \n",
       "T-test  0.634122    G  "
      ]
     },
     "execution_count": 23,
     "metadata": {},
     "output_type": "execute_result"
    }
   ],
   "source": [
    "uttest = []\n",
    "for i in mpiles['reference base'].unique():\n",
    "    d = mpiles[mpiles['reference base']==i]\n",
    "    t = pg.ttest(d['mean qscore_x'], d['mean qscore_y'])\n",
    "    t['base'] = i\n",
    "    uttest.append(t)\n",
    "    \n",
    "uttest = pd.concat(uttest)\n",
    "uttest"
   ]
  },
  {
   "cell_type": "markdown",
   "id": "1725e80a-7fb3-483f-8081-df63762c1a53",
   "metadata": {},
   "source": [
    "They are statistically significant!\n",
    "\n",
    "We will do a boxplot to visualise the two samples side-by-side. Before that we will merge the dataframes for the two samples and the reference sequence."
   ]
  },
  {
   "cell_type": "code",
   "execution_count": 24,
   "id": "e6dea5cd",
   "metadata": {},
   "outputs": [],
   "source": [
    "mp = pd.concat([bpile,cpile])\n",
    "mp['position'] = mp[1] - 1\n",
    "mp = pd.merge(ref, mp, on='position')"
   ]
  },
  {
   "cell_type": "markdown",
   "id": "bd478eca-de10-4429-8e58-81002b3f5e0b",
   "metadata": {},
   "source": [
    "We can create a custom palette for plotting. The U+4SU sample (sample_C) has as higher Q score than control (sample_B)."
   ]
  },
  {
   "cell_type": "code",
   "execution_count": 34,
   "id": "6d4f5012",
   "metadata": {},
   "outputs": [
    {
     "data": {
      "text/plain": [
       "Text(0, 0.5, 'Average Q-score')"
      ]
     },
     "execution_count": 34,
     "metadata": {},
     "output_type": "execute_result"
    },
    {
     "data": {
      "image/png": "[encoded data removed]",
      "text/plain": [
       "<Figure size 300x300 with 1 Axes>"
      ]
     },
     "metadata": {},
     "output_type": "display_data"
    }
   ],
   "source": [
    "my_pal = {\"U\": \"#004585\", \"U+4SU\": \"#99204B\"}\n",
    "# my_pal = {\"U\": \"#060190\", \"U+4SU\": \"#B02318\"}\n",
    "\n",
    "plt.figure(figsize=(3,3))\n",
    "g = sns.boxplot(data=mp, hue='sample', y='mean qscore', x='reference base', palette=my_pal)\n",
    "sns.move_legend(g, \"lower right\")\n",
    "g.legend_.set_title(None)\n",
    "plt.xlabel('Nucleotide')\n",
    "plt.ylabel('Average Q-score')"
   ]
  },
  {
   "cell_type": "code",
   "execution_count": 33,
   "id": "06b2b1a9",
   "metadata": {},
   "outputs": [
    {
     "data": {
      "text/plain": [
       "Text(0, 0.5, 'Average Q-score')"
      ]
     },
     "execution_count": 33,
     "metadata": {},
     "output_type": "execute_result"
    },
    {
     "data": {
      "image/png": "[encoded data removed]",
      "text/plain": [
       "<Figure size 300x300 with 1 Axes>"
      ]
     },
     "metadata": {},
     "output_type": "display_data"
    }
   ],
   "source": [
    "# my_pal = {\"U\": \"#004585\", \"U+4SU\": \"#99204B\"}\n",
    "my_pal = {\"U\": \"#0A00D7\", \"U+4SU\": \"#B02318\"}\n",
    "\n",
    "plt.figure(figsize=(3,3))\n",
    "g = sns.boxplot(data=mp, hue='sample', y='mean qscore', x='reference base', palette=my_pal)\n",
    "sns.move_legend(g, \"lower right\")\n",
    "g.legend_.set_title(None)\n",
    "plt.xlabel('Nucleotide')\n",
    "plt.ylabel('Average Q-score')"
   ]
  },
  {
   "cell_type": "code",
   "execution_count": null,
   "id": "791f1912",
   "metadata": {},
   "outputs": [],
   "source": []
  }
 ],
 "metadata": {
  "kernelspec": {
   "display_name": "Python 3 (ipykernel)",
   "language": "python",
   "name": "python3"
  },
  "language_info": {
   "codemirror_mode": {
    "name": "ipython",
    "version": 3
   },
   "file_extension": ".py",
   "mimetype": "text/x-python",
   "name": "python",
   "nbconvert_exporter": "python",
   "pygments_lexer": "ipython3",
   "version": "3.12.8"
  }
 },
 "nbformat": 4,
 "nbformat_minor": 5
}

{
 "cells": [
  {
   "cell_type": "markdown",
   "id": "230e6430-3a49-4cf1-a478-a056b3fafa73",
   "metadata": {},
   "source": [
    "### Analysing the consequences of amber codon suppression"
   ]
  },
  {
   "cell_type": "markdown",
   "id": "97bd4b0a-609a-4cd8-949f-13b87cbdccb2",
   "metadata": {},
   "source": [
    "This analysis aims to analyse the consequences of [amber codon suppression](https://en.wikipedia.org/wiki/Expanded_genetic_code). Amber codon suppression is a synthetic biology approach where an engineered tRNA (suppressor tRNA) can recognise the amber codon (UAG) and promote stop-codon readthrough. This approach is useful for incorporating non-canonical amino acids into specific proteins for various downstream applications.\n",
    "\n",
    "We are interested in the identifying the potential consequences of amber codon suppression, as stop-codon readthrough could occur on cellular proteins, resulting in C-terminal extensions."
   ]
  },
  {
   "cell_type": "code",
   "execution_count": 1,
   "id": "9ed62001",
   "metadata": {},
   "outputs": [],
   "source": [
    "import numpy as np\n",
    "import pandas as pd\n",
    "import matplotlib.pyplot as plt\n",
    "import seaborn as sns"
   ]
  },
  {
   "cell_type": "markdown",
   "id": "1db80ef5-ef0e-4c1d-be91-6546b72254c0",
   "metadata": {},
   "source": [
    "We will download the protein-coding sequences from GENCODE."
   ]
  },
  {
   "cell_type": "code",
   "execution_count": 2,
   "id": "b4aa196f",
   "metadata": {},
   "outputs": [
    {
     "name": "stdout",
     "output_type": "stream",
     "text": [
      "--2024-04-03 14:05:10--  https://ftp.ebi.ac.uk/pub/databases/gencode/Gencode_human/release_45/gencode.v45.pc_transcripts.fa.gz\n",
      "Resolving ftp.ebi.ac.uk (ftp.ebi.ac.uk)... 193.62.193.165\n",
      "Connecting to ftp.ebi.ac.uk (ftp.ebi.ac.uk)|193.62.193.165|:443... connected.\n",
      "HTTP request sent, awaiting response... 200 OK\n",
      "Length: 47890586 (46M) [application/x-gzip]\n",
      "Saving to: ‘gencode.v45.pc_transcripts.fa.gz’\n",
      "\n",
      "100%[======================================>] 47,890,586   214KB/s   in 3m 45s \n",
      "\n",
      "2024-04-03 14:08:57 (208 KB/s) - ‘gencode.v45.pc_transcripts.fa.gz’ saved [47890586/47890586]\n",
      "\n"
     ]
    }
   ],
   "source": [
    "! wget https://ftp.ebi.ac.uk/pub/databases/gencode/Gencode_human/release_45/gencode.v45.pc_transcripts.fa.gz -O ref"
   ]
  },
  {
   "cell_type": "markdown",
   "id": "72132da2-6f69-43fc-b3d9-c075ff612671",
   "metadata": {},
   "source": [
    "We will reuse our previously published dictionaries for translating codons to amino acids."
   ]
  },
  {
   "cell_type": "code",
   "execution_count": 2,
   "id": "6dc89efa",
   "metadata": {},
   "outputs": [],
   "source": [
    "# https://github.com/Gardner-BinfLab/TIsigner_paper_2019/blob/master/feature_analysis_and_optimisation/Benchmarking/libs/data.py\n",
    "\n",
    "#DEFAULT SETTINGS AND CONSTANTS\n",
    "STOP_CODONS = ['TAG', 'TAA', 'TGA']\n",
    "\n",
    "AA_TO_CODON = {'A' : ['GCT', 'GCC', 'GCA', 'GCG'],\n",
    "               'C' : ['TGT', 'TGC'],\n",
    "               'D' : ['GAT', 'GAC'],\n",
    "               'E' : ['GAA', 'GAG'],\n",
    "               'F' : ['TTT', 'TTC'],\n",
    "               'G' : ['GGT', 'GGC', 'GGA', 'GGG'],\n",
    "               'H' : ['CAT', 'CAC'],\n",
    "               'I' : ['ATT', 'ATC', 'ATA'],\n",
    "               'K' : ['AAG', 'AAA'],\n",
    "               'L' : ['TTA', 'TTG', 'CTT', 'CTC', 'CTG', 'CTA'],\n",
    "               'M' : ['ATG'],\n",
    "               'N' : ['AAT', 'AAC'],\n",
    "               'P' : ['CCT', 'CCC', 'CCA', 'CCG'],\n",
    "               'Q' : ['CAA', 'CAG'],\n",
    "               'R' : ['CGT', 'CGC', 'CGA', 'CGG', 'AGA', 'AGG'],\n",
    "               'S' : ['TCT', 'TCC', 'TCA', 'TCG', 'AGT', 'AGC'],\n",
    "               'T' : ['ACT', 'ACC', 'ACA', 'ACG'],\n",
    "               'V' : ['GTT', 'GTC', 'GTA', 'GTG'],\n",
    "               'W' : ['TGG'],\n",
    "               'Y' : ['TAT', 'TAC']}\n",
    "\n",
    "\n",
    "CODON_TO_AA = {'TTT' : 'F', 'TCT' : 'S', 'TAT' : 'Y', 'TGT' : 'C',\n",
    "               'TTC' : 'F', 'TCC' : 'S', 'TAC' : 'Y', 'TGC' : 'C',\n",
    "               'TTA' : 'L', 'TCA' : 'S', 'TTG' : 'L', 'TCG' : 'S',\n",
    "               'TGG' : 'W', 'CTT' : 'L', 'CCT' : 'P', 'CAT' : 'H',\n",
    "               'CGT' : 'R', 'CTC' : 'L', 'CCC' : 'P', 'CAC' : 'H',\n",
    "               'CGC' : 'R', 'CTA' : 'L', 'CCA' : 'P', 'CAA' : 'Q',\n",
    "               'CGA' : 'R', 'CTG' : 'L', 'CCG' : 'P', 'CAG' : 'Q',\n",
    "               'CGG' : 'R', 'ATT' : 'I', 'ACT' : 'T', 'AAT' : 'N',\n",
    "               'AGT' : 'S', 'ATC' : 'I', 'ACC' : 'T', 'AAC' : 'N',\n",
    "               'AGC' : 'S', 'ATA' : 'I', 'ACA' : 'T', 'AAA' : 'K',\n",
    "               'AGA' : 'R', 'ATG' : 'M', 'ACG' : 'T', 'AAG' : 'K',\n",
    "               'AGG' : 'R', 'GTT' : 'V', 'GCT' : 'A', 'GAT' : 'D',\n",
    "               'GGT' : 'G', 'GTC' : 'V', 'GCC' : 'A', 'GAC' : 'D',\n",
    "               'GGC' : 'G', 'GTA' : 'V', 'GCA' : 'A', 'GAA' : 'E',\n",
    "               'GGA' : 'G', 'GTG' : 'V', 'GCG' : 'A', 'GAG' : 'E',\n",
    "               'GGG' : 'G',\n",
    "              'TAG':'*', 'TAA':'*', 'TGA':'*'}"
   ]
  },
  {
   "cell_type": "markdown",
   "id": "5be75b01-0077-4dd6-8021-ea0a32eecde1",
   "metadata": {},
   "source": [
    "We reuse fasta_to_dataframe and create a function called gencode_parser to process the fasta headers with the start/stop codon positions."
   ]
  },
  {
   "cell_type": "code",
   "execution_count": 3,
   "id": "9c5dd4bd",
   "metadata": {},
   "outputs": [],
   "source": [
    "def fasta_to_dataframe(seq):\n",
    "    fasta_df = pd.read_csv(seq, sep='>', lineterminator='>', header=None)\n",
    "    df = fasta_df[0].str.split('\\n', n=1, expand=True)\n",
    "    df[1] = df[1].replace('\\n','', regex=True)\n",
    "    df = df[df[1] != '']\n",
    "    df = df.dropna()\n",
    "    df.columns = ['tid','seq']\n",
    "    return df\n",
    "\n",
    "def gencode_parser(seq):\n",
    "    df = fasta_to_dataframe(seq)\n",
    "    df['CDS'] = df.tid.str.split('|').apply(lambda x: [i for i in x if i.startswith('CDS:')]).apply(pd.Series)\n",
    "    df['tid'] = df.tid.str.split('|').apply(lambda x: x[0])\n",
    "    df[['CDS_start','CDS_end']] = df.CDS.str.replace('CDS:','').str.split('-', expand=True)\n",
    "    df.dropna(inplace=True)\n",
    "    df['CDS_start'] = df.CDS_start.astype('int')\n",
    "    df['CDS_start'] = df.CDS_start - 1\n",
    "    df['CDS_end'] = df.CDS_end.astype('int')\n",
    "    df = df[(df.CDS_end-df.CDS_start)%3==0]\n",
    "#     df['CDS_range'] = df[['CDS_start','CDS_end']].values.tolist()\n",
    "    df = df.drop('CDS', axis=1).reset_index(drop=True)\n",
    "    return df"
   ]
  },
  {
   "cell_type": "markdown",
   "id": "af5b1499-1c69-4adc-b1a9-e14e4641e49a",
   "metadata": {},
   "source": [
    "Using annotated start/stop codon positions, we can extract the stop codons."
   ]
  },
  {
   "cell_type": "code",
   "execution_count": 4,
   "id": "0e0e7380",
   "metadata": {},
   "outputs": [],
   "source": [
    "df = gencode_parser('../ref/gencode.v45.pc_transcripts.fa.gz')\n",
    "df['CDS'] = df[['seq','CDS_start','CDS_end']].values.tolist()\n",
    "df['stop_codon'] = df.CDS.apply(lambda x: x[0][x[1]:x[2]]).apply(lambda x: x[-3:])#.value_counts()"
   ]
  },
  {
   "cell_type": "markdown",
   "id": "a5c66acc-492d-4a2d-bf87-b831aa64879f",
   "metadata": {},
   "source": [
    "We can specifically take the subset transcripts with an amber codon."
   ]
  },
  {
   "cell_type": "code",
   "execution_count": 5,
   "id": "d8e5cb8b",
   "metadata": {},
   "outputs": [],
   "source": [
    "amber = df[df.stop_codon=='TAG'] # transcripts with amber codons and 3'UTRs\n",
    "\n",
    "# will deal with those without 3'UTRs later\n",
    "amber_3utr = amber[amber.CDS_end!=amber.seq.apply(lambda x: len(x))].copy()"
   ]
  },
  {
   "cell_type": "markdown",
   "id": "6821b74b-7b10-4b01-b855-417f7187ccfb",
   "metadata": {},
   "source": [
    "We will use list comprehension to split 3'UTR sequences by triplets and translate them into amino acids. The purpose is to find C-terminal extensions with downstream stop codons."
   ]
  },
  {
   "cell_type": "code",
   "execution_count": 6,
   "id": "c09c1f98-6e08-4f2e-a4ed-d263cf7e8fd9",
   "metadata": {},
   "outputs": [],
   "source": [
    "amber_3utr['codons'] = amber_3utr.CDS.apply(lambda x: x[0][x[1]:])\n",
    "amber_3utr['codons'] = amber_3utr.codons.apply(lambda x: [x[i:i+3] for i in range(0, len(x), 3)])\n",
    "\n",
    "amber_3utr['aa'] = amber_3utr.codons.apply(lambda x: x[:-1]).apply(lambda x: [CODON_TO_AA[i] for i in x])\n",
    "amber_3utr['aa_seq'] = amber_3utr.aa.apply(lambda x: ''.join(x))\n",
    "amber_3utr['aa_seq_split'] = amber_3utr['aa_seq'].str.split('*')"
   ]
  },
  {
   "cell_type": "markdown",
   "id": "c372fbb5-fd21-4767-abc6-df96a9b8e434",
   "metadata": {},
   "source": [
    "We will add lysine \"K\" to make create the C-terminal extended sequences."
   ]
  },
  {
   "cell_type": "code",
   "execution_count": 7,
   "id": "2af0d7a5-3ad1-4f84-83bb-0b0d8e62b2e1",
   "metadata": {},
   "outputs": [],
   "source": [
    "amber_3utr['aa_seq'] = amber_3utr['aa_seq_split'].apply(lambda x: x[0] + 'K' + x[1])"
   ]
  },
  {
   "cell_type": "markdown",
   "id": "a8e54301-405e-42af-9fd4-27b25ae7b98d",
   "metadata": {},
   "source": [
    "This is a sanity check showing that most of the first codons are ATGs."
   ]
  },
  {
   "cell_type": "code",
   "execution_count": 8,
   "id": "ab4e9efe",
   "metadata": {},
   "outputs": [
    {
     "data": {
      "text/plain": [
       "codons\n",
       "ATG    16500\n",
       "GTG       51\n",
       "CTG       34\n",
       "GAG       30\n",
       "GGA       27\n",
       "       ...  \n",
       "TTA        3\n",
       "ACG        3\n",
       "CGA        2\n",
       "TGT        1\n",
       "TCG        1\n",
       "Name: count, Length: 61, dtype: int64"
      ]
     },
     "execution_count": 8,
     "metadata": {},
     "output_type": "execute_result"
    }
   ],
   "source": [
    "amber_3utr['codons'].apply(lambda x: x[0]).value_counts()"
   ]
  },
  {
   "cell_type": "markdown",
   "id": "a9e2c182-0e9b-4be0-90be-71401007745d",
   "metadata": {},
   "source": [
    "There are 1169 sequences have no annotated 5'UTRs."
   ]
  },
  {
   "cell_type": "code",
   "execution_count": 9,
   "id": "4b279c25",
   "metadata": {},
   "outputs": [
    {
     "data": {
      "text/plain": [
       "(1169, 10)"
      ]
     },
     "execution_count": 9,
     "metadata": {},
     "output_type": "execute_result"
    }
   ],
   "source": [
    "amber_3utr[amber_3utr.CDS_start==0].shape"
   ]
  },
  {
   "cell_type": "markdown",
   "id": "76b7d818-5d8a-41ce-aa58-07927abd5d88",
   "metadata": {},
   "source": [
    "We will get the lengths of the C-terminal extended sequences and visualise them using a boxplot.\n",
    "\n",
    "The longest length of the C-terminal extended sequence is 652 amino acids."
   ]
  },
  {
   "cell_type": "code",
   "execution_count": 10,
   "id": "d7eb6a7f",
   "metadata": {},
   "outputs": [
    {
     "data": {
      "text/plain": [
       "aa_seq_split\n",
       "1       652\n",
       "0       631\n",
       "2       624\n",
       "4       573\n",
       "3       533\n",
       "       ... \n",
       "578       1\n",
       "388       1\n",
       "1758      1\n",
       "233       1\n",
       "221       1\n",
       "Name: count, Length: 327, dtype: int64"
      ]
     },
     "execution_count": 10,
     "metadata": {},
     "output_type": "execute_result"
    }
   ],
   "source": [
    "amber_3utr['aa_seq_split'].apply(lambda x: len(x[1])).value_counts()"
   ]
  },
  {
   "cell_type": "code",
   "execution_count": 11,
   "id": "76c85399",
   "metadata": {},
   "outputs": [
    {
     "data": {
      "image/png": "[encoded data removed]",
      "text/plain": [
       "<Figure size 300x300 with 1 Axes>"
      ]
     },
     "metadata": {},
     "output_type": "display_data"
    }
   ],
   "source": [
    "plt.figure(figsize=(3,3))\n",
    "sns.boxplot(amber_3utr['aa_seq_split'].apply(lambda x: len(x[1])))\n",
    "plt.yscale('log')"
   ]
  },
  {
   "cell_type": "markdown",
   "id": "53533f34-6160-4272-aafa-3b29656fc600",
   "metadata": {},
   "source": [
    "A total of 775 C-terminal extended sequences are greater than 100 amino acids."
   ]
  },
  {
   "cell_type": "code",
   "execution_count": 12,
   "id": "970002e7",
   "metadata": {},
   "outputs": [
    {
     "data": {
      "text/plain": [
       "(775, 10)"
      ]
     },
     "execution_count": 12,
     "metadata": {},
     "output_type": "execute_result"
    }
   ],
   "source": [
    "amber_3utr[amber_3utr['aa_seq_split'].apply(lambda x: len(x[1]))>100].shape"
   ]
  },
  {
   "cell_type": "markdown",
   "id": "3a541fed-703b-4796-a926-d43238d8f000",
   "metadata": {},
   "source": [
    "Here is the first example where \"ILYNCEINLR\" is the C-terminal extended sequence."
   ]
  },
  {
   "cell_type": "code",
   "execution_count": 14,
   "id": "c16bae6b-83bc-4096-8d00-5c03d3db01c9",
   "metadata": {},
   "outputs": [
    {
     "data": {
      "text/plain": [
       "['MKKVTAEAISWNESTSETNNSMVTEFIFLGLSDSQELQTFLFMLFFVFYGGIVFGNLLIVITVVSDSHLHSPMYFLLANLSLIDLSLSSVTAPKMITDFFSQRKVISFKGCLVQIFLLHFFGGSEMVILIAMGFDRYIAICKPLHYTTIMCGNACVGIMAVTWGIGFLHSVSQLAFAVHLLFCGPNEVDSFYCDLPRVIKLACTDTYRLDIMVIANSGVLTVCSFVLLIISYTIILMTIQHRPLDKSSKALSTLTAHITVVLLFFGPCVFIYAWPFPIKSLDKFLAVFYSVITPLLNPIIYTLRNKDMKTAIRQLRKWDAHSSVKF',\n",
       " 'ILYNCEINLR',\n",
       " '',\n",
       " 'HKI',\n",
       " '',\n",
       " 'SW',\n",
       " 'VI',\n",
       " '',\n",
       " 'SS',\n",
       " 'KLCPPFPYNLVIV',\n",
       " 'ELPHTLPQFIFQQLVCYILEYRYKVIMLSKYSFANS',\n",
       " 'NKERHKYISICVHLFLPV',\n",
       " 'P',\n",
       " 'V',\n",
       " '',\n",
       " 'KKGEKI',\n",
       " 'PSL',\n",
       " 'I',\n",
       " 'KKIYLVHFVKNIKKELSHLNLKNICLVVRRYMSTFKRLKNKRLPL',\n",
       " 'VYTSPPTTITTQNP',\n",
       " 'GHYQE',\n",
       " 'VEE',\n",
       " 'VCQCEMCLLGPRRLWYNCS',\n",
       " 'AVERI',\n",
       " 'RDPGSHHVGTKYITWIHLCHFPWLMFKSTGFKVKNKELDSTLLTLINHDFGHIT',\n",
       " 'LS',\n",
       " 'ALVSTFINRRLYLLCMVIMKENDKIDINQIAHFETY',\n",
       " 'A',\n",
       " 'INIRYY',\n",
       " 'NPIY',\n",
       " 'QSQKFQTLLFPNILVKYDTSQS',\n",
       " 'QMLIWDTVLVSGSVYICVQVCTHILPPYHPRKA',\n",
       " '',\n",
       " 'KFKIEGKYKLKKKNLNK',\n",
       " 'F',\n",
       " 'QISSLSRENH',\n",
       " 'ARIKLNTKYSKKKGI',\n",
       " 'FVKM',\n",
       " 'LELIDKESQMIRGSKLCLS',\n",
       " 'EK',\n",
       " 'NRKFISRLKTHNKSSK',\n",
       " '',\n",
       " '',\n",
       " 'QYLKSVQGGKAY',\n",
       " 'CDGGIIG',\n",
       " 'QYGKRYI',\n",
       " 'FICYTKCQDNL',\n",
       " 'VNSRHNSFFKK']"
      ]
     },
     "execution_count": 14,
     "metadata": {},
     "output_type": "execute_result"
    }
   ],
   "source": [
    "amber_3utr['aa_seq_split'].iloc[0]"
   ]
  },
  {
   "cell_type": "code",
   "execution_count": null,
   "id": "8767de66-02e8-4f15-b083-22db65051fc0",
   "metadata": {},
   "outputs": [],
   "source": []
  }
 ],
 "metadata": {
  "kernelspec": {
   "display_name": "Python 3 (ipykernel)",
   "language": "python",
   "name": "python3"
  },
  "language_info": {
   "codemirror_mode": {
    "name": "ipython",
    "version": 3
   },
   "file_extension": ".py",
   "mimetype": "text/x-python",
   "name": "python",
   "nbconvert_exporter": "python",
   "pygments_lexer": "ipython3",
   "version": "3.12.8"
  }
 },
 "nbformat": 4,
 "nbformat_minor": 5
}

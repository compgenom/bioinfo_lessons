{
 "cells": [
  {
   "cell_type": "markdown",
   "id": "9db60310-40a3-4fc9-9b06-0b4ec54f3fd3",
   "metadata": {},
   "source": [
    "### Exploring ribosome profiling datasets available on NCBI SRA"
   ]
  },
  {
   "cell_type": "markdown",
   "id": "a7a6589c-fede-4081-94e6-3e9c90b29190",
   "metadata": {},
   "source": [
    "This notebook explores ribosome profiling datasets available on NCBI SRA. We aim to group the datasets by kingdom for further analysis using [RIBOSS](https://github.com/lcscs12345/riboss).\n",
    "\n",
    "1. We will start by searching \"ribosome profiling\", \"ribo-seq\", and \"riboseq\" on NCBI SRA. We will send the search results to Run Selector."
   ]
  },
  {
   "cell_type": "markdown",
   "id": "ddbd01b2-c3a0-462d-918e-7f061f29257f",
   "metadata": {},
   "source": [
    "<img src=\"../screenshots/Screenshot-ncbi.png\" />"
   ]
  },
  {
   "cell_type": "markdown",
   "id": "2950660d-6547-4b96-b975-6e2ef7bbf310",
   "metadata": {},
   "source": [
    "2. We will download the Metadata, in which our browser will automatically save it as SraRunTable.txt (or .csv). We will rename it by _\\[keyword\\] and move it to doc."
   ]
  },
  {
   "cell_type": "markdown",
   "id": "9f5afee6-f6b5-47f6-8402-ade9c041e772",
   "metadata": {},
   "source": [
    "<img src=\"../screenshots/Screenshot-runselector.png\" />"
   ]
  },
  {
   "cell_type": "markdown",
   "id": "25e93a2e-3a5a-40c3-ba52-e6872653c6fd",
   "metadata": {},
   "source": [
    "3. The other important file we need to download is sra_result.csv. We will need to select the Format as Summary and click Create File. We will then rename the files and move them to doc."
   ]
  },
  {
   "cell_type": "markdown",
   "id": "4f5afb3f-7f59-45c3-a3d8-b789e444b46b",
   "metadata": {},
   "source": [
    "<img src=\"../screenshots/Screenshot-sra_result.png\" />"
   ]
  },
  {
   "cell_type": "markdown",
   "id": "4ba769ff-4559-49e7-8287-6054d1a31540",
   "metadata": {},
   "source": [
    "4. The reason of downloading sra_result.csv files is because the we want to get Study Title. Study Title is not available in SraRunTable, which is counterintuitive."
   ]
  },
  {
   "cell_type": "markdown",
   "id": "f12057ce-178b-4a48-b02b-37296a3156a5",
   "metadata": {},
   "source": [
    "5. Let's import some useful libraries for this analysis"
   ]
  },
  {
   "cell_type": "code",
   "execution_count": 1,
   "id": "4862a07a",
   "metadata": {},
   "outputs": [],
   "source": [
    "import pandas as pd\n",
    "from glob import glob\n",
    "\n",
    "import seaborn as sns\n",
    "import matplotlib.pyplot as plt"
   ]
  },
  {
   "cell_type": "markdown",
   "id": "e6554fae-da35-47bb-8355-499172516ae5",
   "metadata": {},
   "source": [
    "We will create a for loop to load the metadata csv files using pandas and append them into a list.\n",
    "\n",
    "We will concatenate the list as a single pandas dataframe. There are duplicates obtained from the keyword search, which can be removed using drop_duplicates."
   ]
  },
  {
   "cell_type": "code",
   "execution_count": 2,
   "id": "e9f7c2d7",
   "metadata": {},
   "outputs": [],
   "source": [
    "dfs = []\n",
    "for i in glob('../doc/sra_result_*.csv'):\n",
    "    df = pd.read_csv(i)\n",
    "    dfs.append(df)\n",
    "    \n",
    "sra_result = pd.concat(dfs)\n",
    "sra_result = sra_result.drop_duplicates()"
   ]
  },
  {
   "cell_type": "markdown",
   "id": "a865ce0c-4497-4a91-a4a3-84658838e962",
   "metadata": {},
   "source": [
    "Here is the header "
   ]
  },
  {
   "cell_type": "markdown",
   "id": "48c613e4-8571-4942-a725-96d82a34439b",
   "metadata": {},
   "source": [
    "sra_result.columns"
   ]
  },
  {
   "cell_type": "code",
   "execution_count": 4,
   "id": "85ec4c55",
   "metadata": {},
   "outputs": [
    {
     "name": "stderr",
     "output_type": "stream",
     "text": [
      "/Volumes/scratch/gardnerlab/cslim/tmp/ipykernel_32478/2839160295.py:3: DtypeWarning: Columns (39,91,95,98,101,111,120,125,127,130,134,135,136,139,141,143,145,146) have mixed types. Specify dtype option on import or set low_memory=False.\n",
      "  df = pd.read_csv(i)\n",
      "/Volumes/scratch/gardnerlab/cslim/tmp/ipykernel_32478/2839160295.py:3: DtypeWarning: Columns (55,56,64,65,67,68,69,70,71,76,77,79,84,86,87,88,89,93,94,95,99,100,105,108,110,111,112,113,114,115,117,118,119,120,121,122,123,124,125,127,128,129,130,131,132,133,134,135,136,137,138,139,140,142,143,144,145) have mixed types. Specify dtype option on import or set low_memory=False.\n",
      "  df = pd.read_csv(i)\n"
     ]
    }
   ],
   "source": [
    "dfs = []\n",
    "for i in glob('SraRunTable_*.txt'):\n",
    "    df = pd.read_csv(i)\n",
    "    dfs.append(df)\n",
    "    \n",
    "SraRunTable = pd.concat(dfs)\n",
    "SraRunTable = SraRunTable.drop_duplicates('Experiment')"
   ]
  },
  {
   "cell_type": "code",
   "execution_count": 5,
   "id": "37588a0d",
   "metadata": {},
   "outputs": [],
   "source": [
    "df = pd.merge(sra_result, \n",
    "              SraRunTable.rename(columns={'Experiment':'Experiment Accession'}), \n",
    "              on='Experiment Accession')"
   ]
  },
  {
   "cell_type": "markdown",
   "id": "f8c07f98-d0b8-4d50-989c-ccbaca09a6a3",
   "metadata": {},
   "source": [
    "Although we queried using specific keywords, we still get results that are not relevant."
   ]
  },
  {
   "cell_type": "code",
   "execution_count": 6,
   "id": "2a432a2c",
   "metadata": {},
   "outputs": [
    {
     "data": {
      "text/plain": [
       "Assay Type\n",
       "RNA-Seq             9075\n",
       "OTHER               8850\n",
       "ncRNA-Seq            376\n",
       "RIP-Seq              212\n",
       "miRNA-Seq            130\n",
       "ATAC-seq              42\n",
       "MNase-Seq             20\n",
       "ChIP-Seq               4\n",
       "Bisulfite-Seq          2\n",
       "Targeted-Capture       2\n",
       "WGS                    1\n",
       "Name: count, dtype: int64"
      ]
     },
     "execution_count": 6,
     "metadata": {},
     "output_type": "execute_result"
    }
   ],
   "source": [
    "df.value_counts('Assay Type')"
   ]
  },
  {
   "cell_type": "markdown",
   "id": "53a27d27-b312-4603-85f1-ac06b2c4ba4e",
   "metadata": {},
   "source": [
    "We will create a subset of OTHER, which may likely to be ribosome profiling"
   ]
  },
  {
   "cell_type": "code",
   "execution_count": 7,
   "id": "0f1cf62b",
   "metadata": {},
   "outputs": [],
   "source": [
    "df = df[df['Assay Type']=='OTHER'].copy()"
   ]
  },
  {
   "cell_type": "code",
   "execution_count": 8,
   "id": "a6f16698",
   "metadata": {},
   "outputs": [
    {
     "data": {
      "text/plain": [
       "Organism Name\n",
       "Homo sapiens                            2908\n",
       "Mus musculus                            2073\n",
       "Saccharomyces cerevisiae                 960\n",
       "Zea mays                                 401\n",
       "Arabidopsis thaliana                     242\n",
       "                                        ... \n",
       "Komagataella phaffii                       2\n",
       "Escherichia coli O157:H7 str. EDL933       2\n",
       "Moneuplotes crassus                        1\n",
       "Bubalus bubalis                            1\n",
       "Anolis carolinensis                        1\n",
       "Name: count, Length: 108, dtype: int64"
      ]
     },
     "execution_count": 8,
     "metadata": {},
     "output_type": "execute_result"
    }
   ],
   "source": [
    "df.value_counts('Organism Name')"
   ]
  },
  {
   "cell_type": "markdown",
   "id": "7f64e364-98fb-4a29-97a0-5033baed4f29",
   "metadata": {},
   "source": [
    "We can use a string split function to obtain genus from Organism Name."
   ]
  },
  {
   "cell_type": "code",
   "execution_count": 9,
   "id": "63920336",
   "metadata": {},
   "outputs": [
    {
     "data": {
      "text/plain": [
       "Genus\n",
       "Homo             2908\n",
       "Mus              2073\n",
       "Saccharomyces    1099\n",
       "Escherichia       432\n",
       "Zea               401\n",
       "                 ... \n",
       "Komagataella        2\n",
       "Caulobacter         2\n",
       "Moneuplotes         1\n",
       "Bubalus             1\n",
       "Anolis              1\n",
       "Name: count, Length: 70, dtype: int64"
      ]
     },
     "execution_count": 9,
     "metadata": {},
     "output_type": "execute_result"
    }
   ],
   "source": [
    "df['Genus'] = df['Organism Name'].str.split().apply(lambda x: x[0])\n",
    "df.value_counts('Genus')"
   ]
  },
  {
   "cell_type": "code",
   "execution_count": 10,
   "id": "796d1cad",
   "metadata": {},
   "outputs": [],
   "source": [
    "df['Species'] = df['Organism Name'].str.split()\\\n",
    ".apply(lambda x: x[0] + ' ' + x[1] if len(x)>1 else x[0])"
   ]
  },
  {
   "cell_type": "markdown",
   "id": "4a90045d-5d84-4572-9857-683262a98494",
   "metadata": {},
   "source": [
    "It is possible that the ribosome profiling keyword can be found in any columns. We will fill up NaN with \"X\" before concatenating the columns as single rows, and create a copy of the dataframe."
   ]
  },
  {
   "cell_type": "code",
   "execution_count": 11,
   "id": "ed38c1bd",
   "metadata": {},
   "outputs": [],
   "source": [
    "df_ = df.fillna('X').copy()"
   ]
  },
  {
   "cell_type": "markdown",
   "id": "528c5e16-1eeb-422b-abae-55239d46b5a5",
   "metadata": {},
   "source": [
    "This shows that there are 5177 experiments have \"ribo\" as a keyword in Experiment Title, Library Name or Sample Name."
   ]
  },
  {
   "cell_type": "code",
   "execution_count": 12,
   "id": "29e13b07",
   "metadata": {},
   "outputs": [
    {
     "data": {
      "text/plain": [
       "(5177, 252)"
      ]
     },
     "execution_count": 12,
     "metadata": {},
     "output_type": "execute_result"
    }
   ],
   "source": [
    "df_[df_['Experiment Title'].str.contains('[Rr][Ii][Bb][Oo]') | \\\n",
    "  df_['Library Name_x'].str.contains('[Rr][Ii][Bb][Oo]') | \\\n",
    "  df_['Sample Name'].str.contains('[Rr][Ii][Bb][Oo]')].shape"
   ]
  },
  {
   "cell_type": "markdown",
   "id": "c8bc252b-8b59-491b-9461-1f5f9fed40e5",
   "metadata": {},
   "source": [
    "To check if the SRA experiments are ribosome profiling, we need to find the ribosome profiling keyword in every single column. We will join all columns as strings using list comprehension. List comprehension allows us to create a new list based on an existing list with slight modifications. We can leverage list comprehension and join to create long, concatenated strings."
   ]
  },
  {
   "cell_type": "code",
   "execution_count": 13,
   "id": "0d86c1ee",
   "metadata": {},
   "outputs": [],
   "source": [
    "df_['cat'] = df_.values.tolist()\n",
    "df_['cat_str'] = df_['cat'].apply(lambda x: '_'.join([str(i) for i in x]))"
   ]
  },
  {
   "cell_type": "code",
   "execution_count": 14,
   "id": "4b79edb2",
   "metadata": {},
   "outputs": [
    {
     "data": {
      "text/plain": [
       "'SRX19973679_GSM7177581: AIM29 KO, Ribo-seq; Saccharomyces cerevisiae W303; OTHER_Saccharomyces cerevisiae W303_NextSeq 2000_Vladimir Denic, Molecular and Cellular Biology, Ha_SRP432738_Ribosome profiling of Aim29-knockout S.cerevisiae cells_SRS17320316_X_1162.08_1_28267859_3476946657_GSM7177581_OTHER_TRANSCRIPTOMIC_other_SRR24175965_OTHER_123.0_3476946657.0_PRJNA955811_SAMN34192137_1218531115.0_VLADIMIR DENIC, MOLECULAR AND CELLULAR BIOLOGY, HARVARD UNIVERSITY_public_fastq,sra_gs,ncbi,s3_gs.US,ncbi.public,s3.us-east-1_NextSeq 2000_SINGLE_other_TRANSCRIPTOMIC_Saccharomyces cerevisiae W303_ILLUMINA_2023-04-18T00:00:00Z_2023-04-14T17:32:00Z_1.0_GSM7177581_SRP432738_yeast cell_X_GSM7177581_X_W303_yeast cell_X_X_X_AIM29 KO_X_X_X_X_X_X_X_X_X_X_X_X_X_X_X_X_X_X_X_X_X_X_X_X_X_X_X_X_X_X_X_X_X_X_X_X_X_X_X_X_X_X_X_X_X_X_X_X_X_X_X_X_X_X_X_X_X_X_X_X_X_X_X_X_X_X_X_X_X_X_X_X_X_X_X_X_X_X_X_X_X_X_X_X_X_X_X_X_X_X_X_X_X_X_X_X_X_X_X_X_X_X_X_X_X_X_X_X_X_X_X_X_X_X_X_X_X_X_X_X_X_X_X_X_X_X_X_X_X_X_X_X_X_X_X_X_X_X_X_X_X_X_X_X_X_X_X_X_X_X_X_X_X_X_X_X_X_X_X_X_X_X_X_X_X_X_X_X_X_X_X_X_X_X_X_X_X_X_X_X_X_X_X_X_X_X_X_X_X_X_X_X_X_X_X_X_X_X_X_X_Saccharomyces_Saccharomyces cerevisiae'"
      ]
     },
     "execution_count": 14,
     "metadata": {},
     "output_type": "execute_result"
    }
   ],
   "source": [
    "df_['cat_str'][0]"
   ]
  },
  {
   "cell_type": "markdown",
   "id": "10543fb7-eb4d-4b0c-a739-fd95835d2b02",
   "metadata": {},
   "source": [
    "We will then use regular expression to find \"ribo\" and do a couple of list comprehension to determine the presence of the keyword and the counts"
   ]
  },
  {
   "cell_type": "code",
   "execution_count": 15,
   "id": "68da4e5d",
   "metadata": {},
   "outputs": [],
   "source": [
    "import re\n",
    "\n",
    "df_['cat_findall'] = df_['cat'].apply(lambda x: [re.findall(r'[Rr][Ii][Bb][Oo]', \\\n",
    "                                                            str(i)) for i in x])"
   ]
  },
  {
   "cell_type": "code",
   "execution_count": 16,
   "id": "178af6cc",
   "metadata": {},
   "outputs": [],
   "source": [
    "df_['cat_findall'] = df_['cat_findall'].apply(lambda x: [len(i) for i in x])"
   ]
  },
  {
   "cell_type": "code",
   "execution_count": 17,
   "id": "6b701f58",
   "metadata": {},
   "outputs": [],
   "source": [
    "df_['cat_findall'] = df_['cat_findall'].apply(lambda x: [k for k, v in enumerate(x) if v > 0])"
   ]
  },
  {
   "cell_type": "code",
   "execution_count": 18,
   "id": "55ae49b8",
   "metadata": {},
   "outputs": [
    {
     "data": {
      "text/plain": [
       "0                [1, 6]\n",
       "1                [1, 6]\n",
       "2        [1, 6, 13, 42]\n",
       "3        [1, 6, 13, 42]\n",
       "4        [1, 6, 13, 42]\n",
       "              ...      \n",
       "18709                []\n",
       "18710                []\n",
       "18711                []\n",
       "18712                []\n",
       "18713                []\n",
       "Name: cat_findall, Length: 8850, dtype: object"
      ]
     },
     "execution_count": 18,
     "metadata": {},
     "output_type": "execute_result"
    }
   ],
   "source": [
    "df_['cat_findall']"
   ]
  },
  {
   "cell_type": "code",
   "execution_count": 19,
   "id": "85442495",
   "metadata": {},
   "outputs": [],
   "source": [
    "cat_findall = [j for i in df_['cat_findall'] for j in i]"
   ]
  },
  {
   "cell_type": "code",
   "execution_count": 20,
   "id": "4ea08d90",
   "metadata": {},
   "outputs": [],
   "source": [
    "cat_findall = list(set(cat_findall))"
   ]
  },
  {
   "cell_type": "code",
   "execution_count": 21,
   "id": "952771a6",
   "metadata": {},
   "outputs": [],
   "source": [
    "ribo_counts = []\n",
    "for i in cat_findall:\n",
    "    ribo_count = df_[df_[df_.columns[i]].str.contains('[Rr][Ii][Bb][Oo]')]\\\n",
    "    .value_counts(df_.columns[i])\n",
    "    ribo_counts.append(ribo_count)"
   ]
  },
  {
   "cell_type": "markdown",
   "id": "7823b522-3234-487a-9c99-9337bd78f5d1",
   "metadata": {},
   "source": [
    "We can get any experiments of interest by subsetting."
   ]
  },
  {
   "cell_type": "code",
   "execution_count": 28,
   "id": "00f05622",
   "metadata": {},
   "outputs": [
    {
     "data": {
      "text/html": [
       "<div>\n",
       "<style scoped>\n",
       "    .dataframe tbody tr th:only-of-type {\n",
       "        vertical-align: middle;\n",
       "    }\n",
       "\n",
       "    .dataframe tbody tr th {\n",
       "        vertical-align: top;\n",
       "    }\n",
       "\n",
       "    .dataframe thead th {\n",
       "        text-align: right;\n",
       "    }\n",
       "</style>\n",
       "<table border=\"1\" class=\"dataframe\">\n",
       "  <thead>\n",
       "    <tr style=\"text-align: right;\">\n",
       "      <th></th>\n",
       "      <th>Experiment Accession</th>\n",
       "      <th>Experiment Title</th>\n",
       "      <th>Organism Name</th>\n",
       "      <th>Instrument_x</th>\n",
       "      <th>Submitter</th>\n",
       "      <th>Study Accession</th>\n",
       "      <th>Study Title</th>\n",
       "      <th>Sample Accession</th>\n",
       "      <th>Sample Title</th>\n",
       "      <th>Total Size, Mb</th>\n",
       "      <th>...</th>\n",
       "      <th>rrna_depletion</th>\n",
       "      <th>infection</th>\n",
       "      <th>Method</th>\n",
       "      <th>subcellular_compartment</th>\n",
       "      <th>plasmid</th>\n",
       "      <th>Genus</th>\n",
       "      <th>Species</th>\n",
       "      <th>cat</th>\n",
       "      <th>cat_str</th>\n",
       "      <th>cat_findall</th>\n",
       "    </tr>\n",
       "  </thead>\n",
       "  <tbody>\n",
       "    <tr>\n",
       "      <th>4185</th>\n",
       "      <td>SRX8488526</td>\n",
       "      <td>3'Ribo-seq of maize: V7 leaf</td>\n",
       "      <td>Zea mays</td>\n",
       "      <td>HiSeq X Ten</td>\n",
       "      <td>Huazhong Agricultural University</td>\n",
       "      <td>SRP266320</td>\n",
       "      <td>A new cost-effective ribosome profiling technique</td>\n",
       "      <td>SRS6788100</td>\n",
       "      <td>X</td>\n",
       "      <td>413.11</td>\n",
       "      <td>...</td>\n",
       "      <td>X</td>\n",
       "      <td>X</td>\n",
       "      <td>X</td>\n",
       "      <td>X</td>\n",
       "      <td>X</td>\n",
       "      <td>Zea</td>\n",
       "      <td>Zea mays</td>\n",
       "      <td>[SRX8488526, 3'Ribo-seq of maize: V7 leaf, Zea...</td>\n",
       "      <td>SRX8488526_3'Ribo-seq of maize: V7 leaf_Zea ma...</td>\n",
       "      <td>[1, 6, 146]</td>\n",
       "    </tr>\n",
       "    <tr>\n",
       "      <th>4186</th>\n",
       "      <td>SRX8488525</td>\n",
       "      <td>3'Ribo-seq of maize: V7 leaf</td>\n",
       "      <td>Zea mays</td>\n",
       "      <td>HiSeq X Ten</td>\n",
       "      <td>Huazhong Agricultural University</td>\n",
       "      <td>SRP266320</td>\n",
       "      <td>A new cost-effective ribosome profiling technique</td>\n",
       "      <td>SRS6788101</td>\n",
       "      <td>X</td>\n",
       "      <td>368.40</td>\n",
       "      <td>...</td>\n",
       "      <td>X</td>\n",
       "      <td>X</td>\n",
       "      <td>X</td>\n",
       "      <td>X</td>\n",
       "      <td>X</td>\n",
       "      <td>Zea</td>\n",
       "      <td>Zea mays</td>\n",
       "      <td>[SRX8488525, 3'Ribo-seq of maize: V7 leaf, Zea...</td>\n",
       "      <td>SRX8488525_3'Ribo-seq of maize: V7 leaf_Zea ma...</td>\n",
       "      <td>[1, 6, 146]</td>\n",
       "    </tr>\n",
       "    <tr>\n",
       "      <th>4187</th>\n",
       "      <td>SRX8488524</td>\n",
       "      <td>3'Ribo-seq of maize: V7 leaf</td>\n",
       "      <td>Zea mays</td>\n",
       "      <td>HiSeq X Ten</td>\n",
       "      <td>Huazhong Agricultural University</td>\n",
       "      <td>SRP266320</td>\n",
       "      <td>A new cost-effective ribosome profiling technique</td>\n",
       "      <td>SRS6788099</td>\n",
       "      <td>X</td>\n",
       "      <td>392.95</td>\n",
       "      <td>...</td>\n",
       "      <td>X</td>\n",
       "      <td>X</td>\n",
       "      <td>X</td>\n",
       "      <td>X</td>\n",
       "      <td>X</td>\n",
       "      <td>Zea</td>\n",
       "      <td>Zea mays</td>\n",
       "      <td>[SRX8488524, 3'Ribo-seq of maize: V7 leaf, Zea...</td>\n",
       "      <td>SRX8488524_3'Ribo-seq of maize: V7 leaf_Zea ma...</td>\n",
       "      <td>[1, 6, 146]</td>\n",
       "    </tr>\n",
       "    <tr>\n",
       "      <th>4188</th>\n",
       "      <td>SRX8488523</td>\n",
       "      <td>3'Ribo-seq of maize: V7 leaf</td>\n",
       "      <td>Zea mays</td>\n",
       "      <td>HiSeq X Ten</td>\n",
       "      <td>Huazhong Agricultural University</td>\n",
       "      <td>SRP266320</td>\n",
       "      <td>A new cost-effective ribosome profiling technique</td>\n",
       "      <td>SRS6788098</td>\n",
       "      <td>X</td>\n",
       "      <td>229.46</td>\n",
       "      <td>...</td>\n",
       "      <td>X</td>\n",
       "      <td>X</td>\n",
       "      <td>X</td>\n",
       "      <td>X</td>\n",
       "      <td>X</td>\n",
       "      <td>Zea</td>\n",
       "      <td>Zea mays</td>\n",
       "      <td>[SRX8488523, 3'Ribo-seq of maize: V7 leaf, Zea...</td>\n",
       "      <td>SRX8488523_3'Ribo-seq of maize: V7 leaf_Zea ma...</td>\n",
       "      <td>[1, 6, 146]</td>\n",
       "    </tr>\n",
       "    <tr>\n",
       "      <th>4189</th>\n",
       "      <td>SRX8488522</td>\n",
       "      <td>3'Ribo-seq of maize: V7 leaf</td>\n",
       "      <td>Zea mays</td>\n",
       "      <td>HiSeq X Ten</td>\n",
       "      <td>Huazhong Agricultural University</td>\n",
       "      <td>SRP266320</td>\n",
       "      <td>A new cost-effective ribosome profiling technique</td>\n",
       "      <td>SRS6788097</td>\n",
       "      <td>X</td>\n",
       "      <td>325.59</td>\n",
       "      <td>...</td>\n",
       "      <td>X</td>\n",
       "      <td>X</td>\n",
       "      <td>X</td>\n",
       "      <td>X</td>\n",
       "      <td>X</td>\n",
       "      <td>Zea</td>\n",
       "      <td>Zea mays</td>\n",
       "      <td>[SRX8488522, 3'Ribo-seq of maize: V7 leaf, Zea...</td>\n",
       "      <td>SRX8488522_3'Ribo-seq of maize: V7 leaf_Zea ma...</td>\n",
       "      <td>[1, 6, 146]</td>\n",
       "    </tr>\n",
       "    <tr>\n",
       "      <th>...</th>\n",
       "      <td>...</td>\n",
       "      <td>...</td>\n",
       "      <td>...</td>\n",
       "      <td>...</td>\n",
       "      <td>...</td>\n",
       "      <td>...</td>\n",
       "      <td>...</td>\n",
       "      <td>...</td>\n",
       "      <td>...</td>\n",
       "      <td>...</td>\n",
       "      <td>...</td>\n",
       "      <td>...</td>\n",
       "      <td>...</td>\n",
       "      <td>...</td>\n",
       "      <td>...</td>\n",
       "      <td>...</td>\n",
       "      <td>...</td>\n",
       "      <td>...</td>\n",
       "      <td>...</td>\n",
       "      <td>...</td>\n",
       "      <td>...</td>\n",
       "    </tr>\n",
       "    <tr>\n",
       "      <th>4483</th>\n",
       "      <td>SRX8488228</td>\n",
       "      <td>3'Ribo-seq of maize: V7 leaf</td>\n",
       "      <td>Zea mays</td>\n",
       "      <td>HiSeq X Ten</td>\n",
       "      <td>Huazhong Agricultural University</td>\n",
       "      <td>SRP266320</td>\n",
       "      <td>A new cost-effective ribosome profiling technique</td>\n",
       "      <td>SRS6787803</td>\n",
       "      <td>X</td>\n",
       "      <td>287.35</td>\n",
       "      <td>...</td>\n",
       "      <td>X</td>\n",
       "      <td>X</td>\n",
       "      <td>X</td>\n",
       "      <td>X</td>\n",
       "      <td>X</td>\n",
       "      <td>Zea</td>\n",
       "      <td>Zea mays</td>\n",
       "      <td>[SRX8488228, 3'Ribo-seq of maize: V7 leaf, Zea...</td>\n",
       "      <td>SRX8488228_3'Ribo-seq of maize: V7 leaf_Zea ma...</td>\n",
       "      <td>[1, 6, 146]</td>\n",
       "    </tr>\n",
       "    <tr>\n",
       "      <th>4484</th>\n",
       "      <td>SRX8488227</td>\n",
       "      <td>3'Ribo-seq of maize: V7 leaf</td>\n",
       "      <td>Zea mays</td>\n",
       "      <td>HiSeq X Ten</td>\n",
       "      <td>Huazhong Agricultural University</td>\n",
       "      <td>SRP266320</td>\n",
       "      <td>A new cost-effective ribosome profiling technique</td>\n",
       "      <td>SRS6787802</td>\n",
       "      <td>X</td>\n",
       "      <td>650.99</td>\n",
       "      <td>...</td>\n",
       "      <td>X</td>\n",
       "      <td>X</td>\n",
       "      <td>X</td>\n",
       "      <td>X</td>\n",
       "      <td>X</td>\n",
       "      <td>Zea</td>\n",
       "      <td>Zea mays</td>\n",
       "      <td>[SRX8488227, 3'Ribo-seq of maize: V7 leaf, Zea...</td>\n",
       "      <td>SRX8488227_3'Ribo-seq of maize: V7 leaf_Zea ma...</td>\n",
       "      <td>[1, 6, 146]</td>\n",
       "    </tr>\n",
       "    <tr>\n",
       "      <th>4485</th>\n",
       "      <td>SRX8488226</td>\n",
       "      <td>3'Ribo-seq of maize: V7 leaf</td>\n",
       "      <td>Zea mays</td>\n",
       "      <td>HiSeq X Ten</td>\n",
       "      <td>Huazhong Agricultural University</td>\n",
       "      <td>SRP266320</td>\n",
       "      <td>A new cost-effective ribosome profiling technique</td>\n",
       "      <td>SRS6787801</td>\n",
       "      <td>X</td>\n",
       "      <td>683.21</td>\n",
       "      <td>...</td>\n",
       "      <td>X</td>\n",
       "      <td>X</td>\n",
       "      <td>X</td>\n",
       "      <td>X</td>\n",
       "      <td>X</td>\n",
       "      <td>Zea</td>\n",
       "      <td>Zea mays</td>\n",
       "      <td>[SRX8488226, 3'Ribo-seq of maize: V7 leaf, Zea...</td>\n",
       "      <td>SRX8488226_3'Ribo-seq of maize: V7 leaf_Zea ma...</td>\n",
       "      <td>[1, 6, 146]</td>\n",
       "    </tr>\n",
       "    <tr>\n",
       "      <th>4486</th>\n",
       "      <td>SRX8488225</td>\n",
       "      <td>3'Ribo-seq of maize: V7 leaf</td>\n",
       "      <td>Zea mays</td>\n",
       "      <td>HiSeq X Ten</td>\n",
       "      <td>Huazhong Agricultural University</td>\n",
       "      <td>SRP266320</td>\n",
       "      <td>A new cost-effective ribosome profiling technique</td>\n",
       "      <td>SRS6787800</td>\n",
       "      <td>X</td>\n",
       "      <td>443.81</td>\n",
       "      <td>...</td>\n",
       "      <td>X</td>\n",
       "      <td>X</td>\n",
       "      <td>X</td>\n",
       "      <td>X</td>\n",
       "      <td>X</td>\n",
       "      <td>Zea</td>\n",
       "      <td>Zea mays</td>\n",
       "      <td>[SRX8488225, 3'Ribo-seq of maize: V7 leaf, Zea...</td>\n",
       "      <td>SRX8488225_3'Ribo-seq of maize: V7 leaf_Zea ma...</td>\n",
       "      <td>[1, 6, 146]</td>\n",
       "    </tr>\n",
       "    <tr>\n",
       "      <th>4487</th>\n",
       "      <td>SRX8488224</td>\n",
       "      <td>3'Ribo-seq of maize: V7 leaf</td>\n",
       "      <td>Zea mays</td>\n",
       "      <td>HiSeq X Ten</td>\n",
       "      <td>Huazhong Agricultural University</td>\n",
       "      <td>SRP266320</td>\n",
       "      <td>A new cost-effective ribosome profiling technique</td>\n",
       "      <td>SRS6787799</td>\n",
       "      <td>X</td>\n",
       "      <td>619.40</td>\n",
       "      <td>...</td>\n",
       "      <td>X</td>\n",
       "      <td>X</td>\n",
       "      <td>X</td>\n",
       "      <td>X</td>\n",
       "      <td>X</td>\n",
       "      <td>Zea</td>\n",
       "      <td>Zea mays</td>\n",
       "      <td>[SRX8488224, 3'Ribo-seq of maize: V7 leaf, Zea...</td>\n",
       "      <td>SRX8488224_3'Ribo-seq of maize: V7 leaf_Zea ma...</td>\n",
       "      <td>[1, 6, 146]</td>\n",
       "    </tr>\n",
       "  </tbody>\n",
       "</table>\n",
       "<p>252 rows × 255 columns</p>\n",
       "</div>"
      ],
      "text/plain": [
       "     Experiment Accession              Experiment Title Organism Name  \\\n",
       "4185           SRX8488526  3'Ribo-seq of maize: V7 leaf      Zea mays   \n",
       "4186           SRX8488525  3'Ribo-seq of maize: V7 leaf      Zea mays   \n",
       "4187           SRX8488524  3'Ribo-seq of maize: V7 leaf      Zea mays   \n",
       "4188           SRX8488523  3'Ribo-seq of maize: V7 leaf      Zea mays   \n",
       "4189           SRX8488522  3'Ribo-seq of maize: V7 leaf      Zea mays   \n",
       "...                   ...                           ...           ...   \n",
       "4483           SRX8488228  3'Ribo-seq of maize: V7 leaf      Zea mays   \n",
       "4484           SRX8488227  3'Ribo-seq of maize: V7 leaf      Zea mays   \n",
       "4485           SRX8488226  3'Ribo-seq of maize: V7 leaf      Zea mays   \n",
       "4486           SRX8488225  3'Ribo-seq of maize: V7 leaf      Zea mays   \n",
       "4487           SRX8488224  3'Ribo-seq of maize: V7 leaf      Zea mays   \n",
       "\n",
       "     Instrument_x                         Submitter Study Accession  \\\n",
       "4185  HiSeq X Ten  Huazhong Agricultural University       SRP266320   \n",
       "4186  HiSeq X Ten  Huazhong Agricultural University       SRP266320   \n",
       "4187  HiSeq X Ten  Huazhong Agricultural University       SRP266320   \n",
       "4188  HiSeq X Ten  Huazhong Agricultural University       SRP266320   \n",
       "4189  HiSeq X Ten  Huazhong Agricultural University       SRP266320   \n",
       "...           ...                               ...             ...   \n",
       "4483  HiSeq X Ten  Huazhong Agricultural University       SRP266320   \n",
       "4484  HiSeq X Ten  Huazhong Agricultural University       SRP266320   \n",
       "4485  HiSeq X Ten  Huazhong Agricultural University       SRP266320   \n",
       "4486  HiSeq X Ten  Huazhong Agricultural University       SRP266320   \n",
       "4487  HiSeq X Ten  Huazhong Agricultural University       SRP266320   \n",
       "\n",
       "                                            Study Title Sample Accession  \\\n",
       "4185  A new cost-effective ribosome profiling technique       SRS6788100   \n",
       "4186  A new cost-effective ribosome profiling technique       SRS6788101   \n",
       "4187  A new cost-effective ribosome profiling technique       SRS6788099   \n",
       "4188  A new cost-effective ribosome profiling technique       SRS6788098   \n",
       "4189  A new cost-effective ribosome profiling technique       SRS6788097   \n",
       "...                                                 ...              ...   \n",
       "4483  A new cost-effective ribosome profiling technique       SRS6787803   \n",
       "4484  A new cost-effective ribosome profiling technique       SRS6787802   \n",
       "4485  A new cost-effective ribosome profiling technique       SRS6787801   \n",
       "4486  A new cost-effective ribosome profiling technique       SRS6787800   \n",
       "4487  A new cost-effective ribosome profiling technique       SRS6787799   \n",
       "\n",
       "     Sample Title  Total Size, Mb  ...  rrna_depletion  infection  Method  \\\n",
       "4185            X          413.11  ...               X          X       X   \n",
       "4186            X          368.40  ...               X          X       X   \n",
       "4187            X          392.95  ...               X          X       X   \n",
       "4188            X          229.46  ...               X          X       X   \n",
       "4189            X          325.59  ...               X          X       X   \n",
       "...           ...             ...  ...             ...        ...     ...   \n",
       "4483            X          287.35  ...               X          X       X   \n",
       "4484            X          650.99  ...               X          X       X   \n",
       "4485            X          683.21  ...               X          X       X   \n",
       "4486            X          443.81  ...               X          X       X   \n",
       "4487            X          619.40  ...               X          X       X   \n",
       "\n",
       "     subcellular_compartment plasmid Genus   Species  \\\n",
       "4185                       X       X   Zea  Zea mays   \n",
       "4186                       X       X   Zea  Zea mays   \n",
       "4187                       X       X   Zea  Zea mays   \n",
       "4188                       X       X   Zea  Zea mays   \n",
       "4189                       X       X   Zea  Zea mays   \n",
       "...                      ...     ...   ...       ...   \n",
       "4483                       X       X   Zea  Zea mays   \n",
       "4484                       X       X   Zea  Zea mays   \n",
       "4485                       X       X   Zea  Zea mays   \n",
       "4486                       X       X   Zea  Zea mays   \n",
       "4487                       X       X   Zea  Zea mays   \n",
       "\n",
       "                                                    cat  \\\n",
       "4185  [SRX8488526, 3'Ribo-seq of maize: V7 leaf, Zea...   \n",
       "4186  [SRX8488525, 3'Ribo-seq of maize: V7 leaf, Zea...   \n",
       "4187  [SRX8488524, 3'Ribo-seq of maize: V7 leaf, Zea...   \n",
       "4188  [SRX8488523, 3'Ribo-seq of maize: V7 leaf, Zea...   \n",
       "4189  [SRX8488522, 3'Ribo-seq of maize: V7 leaf, Zea...   \n",
       "...                                                 ...   \n",
       "4483  [SRX8488228, 3'Ribo-seq of maize: V7 leaf, Zea...   \n",
       "4484  [SRX8488227, 3'Ribo-seq of maize: V7 leaf, Zea...   \n",
       "4485  [SRX8488226, 3'Ribo-seq of maize: V7 leaf, Zea...   \n",
       "4486  [SRX8488225, 3'Ribo-seq of maize: V7 leaf, Zea...   \n",
       "4487  [SRX8488224, 3'Ribo-seq of maize: V7 leaf, Zea...   \n",
       "\n",
       "                                                cat_str  cat_findall  \n",
       "4185  SRX8488526_3'Ribo-seq of maize: V7 leaf_Zea ma...  [1, 6, 146]  \n",
       "4186  SRX8488525_3'Ribo-seq of maize: V7 leaf_Zea ma...  [1, 6, 146]  \n",
       "4187  SRX8488524_3'Ribo-seq of maize: V7 leaf_Zea ma...  [1, 6, 146]  \n",
       "4188  SRX8488523_3'Ribo-seq of maize: V7 leaf_Zea ma...  [1, 6, 146]  \n",
       "4189  SRX8488522_3'Ribo-seq of maize: V7 leaf_Zea ma...  [1, 6, 146]  \n",
       "...                                                 ...          ...  \n",
       "4483  SRX8488228_3'Ribo-seq of maize: V7 leaf_Zea ma...  [1, 6, 146]  \n",
       "4484  SRX8488227_3'Ribo-seq of maize: V7 leaf_Zea ma...  [1, 6, 146]  \n",
       "4485  SRX8488226_3'Ribo-seq of maize: V7 leaf_Zea ma...  [1, 6, 146]  \n",
       "4486  SRX8488225_3'Ribo-seq of maize: V7 leaf_Zea ma...  [1, 6, 146]  \n",
       "4487  SRX8488224_3'Ribo-seq of maize: V7 leaf_Zea ma...  [1, 6, 146]  \n",
       "\n",
       "[252 rows x 255 columns]"
      ]
     },
     "execution_count": 28,
     "metadata": {},
     "output_type": "execute_result"
    }
   ],
   "source": [
    "df_[df_['Experiment Title'].str.contains('V7 leaf')]"
   ]
  },
  {
   "cell_type": "markdown",
   "id": "32d4bf2c-8057-4896-aff9-e9b5f0a8ef55",
   "metadata": {},
   "source": [
    "We can also filter the library size by Total Bases or Total Size in Mb."
   ]
  },
  {
   "cell_type": "code",
   "execution_count": 29,
   "id": "3cf4fb9f",
   "metadata": {},
   "outputs": [
    {
     "data": {
      "text/html": [
       "<div>\n",
       "<style scoped>\n",
       "    .dataframe tbody tr th:only-of-type {\n",
       "        vertical-align: middle;\n",
       "    }\n",
       "\n",
       "    .dataframe tbody tr th {\n",
       "        vertical-align: top;\n",
       "    }\n",
       "\n",
       "    .dataframe thead th {\n",
       "        text-align: right;\n",
       "    }\n",
       "</style>\n",
       "<table border=\"1\" class=\"dataframe\">\n",
       "  <thead>\n",
       "    <tr style=\"text-align: right;\">\n",
       "      <th></th>\n",
       "      <th>Experiment Accession</th>\n",
       "      <th>Experiment Title</th>\n",
       "      <th>Organism Name</th>\n",
       "      <th>Instrument_x</th>\n",
       "      <th>Submitter</th>\n",
       "      <th>Study Accession</th>\n",
       "      <th>Study Title</th>\n",
       "      <th>Sample Accession</th>\n",
       "      <th>Sample Title</th>\n",
       "      <th>Total Size, Mb</th>\n",
       "      <th>...</th>\n",
       "      <th>rrna_depletion</th>\n",
       "      <th>infection</th>\n",
       "      <th>Method</th>\n",
       "      <th>subcellular_compartment</th>\n",
       "      <th>plasmid</th>\n",
       "      <th>Genus</th>\n",
       "      <th>Species</th>\n",
       "      <th>cat</th>\n",
       "      <th>cat_str</th>\n",
       "      <th>cat_findall</th>\n",
       "    </tr>\n",
       "  </thead>\n",
       "  <tbody>\n",
       "    <tr>\n",
       "      <th>5000</th>\n",
       "      <td>ERX3957564</td>\n",
       "      <td>Illumina HiSeq 2500 sequencing</td>\n",
       "      <td>Streptomyces avermitilis MA-4680 = NBRC 14893</td>\n",
       "      <td>Illumina HiSeq 2500</td>\n",
       "      <td>KAIST</td>\n",
       "      <td>ERP120150</td>\n",
       "      <td>Trimmed read fastq files and mapped read bam f...</td>\n",
       "      <td>ERS4349686</td>\n",
       "      <td>X</td>\n",
       "      <td>5252.71</td>\n",
       "      <td>...</td>\n",
       "      <td>X</td>\n",
       "      <td>X</td>\n",
       "      <td>X</td>\n",
       "      <td>X</td>\n",
       "      <td>X</td>\n",
       "      <td>Streptomyces</td>\n",
       "      <td>Streptomyces avermitilis</td>\n",
       "      <td>[ERX3957564, Illumina HiSeq 2500 sequencing, S...</td>\n",
       "      <td>ERX3957564_Illumina HiSeq 2500 sequencing_Stre...</td>\n",
       "      <td>[6, 60, 61]</td>\n",
       "    </tr>\n",
       "    <tr>\n",
       "      <th>5001</th>\n",
       "      <td>ERX3957563</td>\n",
       "      <td>Illumina HiSeq 2500 sequencing</td>\n",
       "      <td>Streptomyces avermitilis MA-4680 = NBRC 14893</td>\n",
       "      <td>Illumina HiSeq 2500</td>\n",
       "      <td>KAIST</td>\n",
       "      <td>ERP120150</td>\n",
       "      <td>Trimmed read fastq files and mapped read bam f...</td>\n",
       "      <td>ERS4349686</td>\n",
       "      <td>X</td>\n",
       "      <td>7119.50</td>\n",
       "      <td>...</td>\n",
       "      <td>X</td>\n",
       "      <td>X</td>\n",
       "      <td>X</td>\n",
       "      <td>X</td>\n",
       "      <td>X</td>\n",
       "      <td>Streptomyces</td>\n",
       "      <td>Streptomyces avermitilis</td>\n",
       "      <td>[ERX3957563, Illumina HiSeq 2500 sequencing, S...</td>\n",
       "      <td>ERX3957563_Illumina HiSeq 2500 sequencing_Stre...</td>\n",
       "      <td>[6, 60, 61]</td>\n",
       "    </tr>\n",
       "    <tr>\n",
       "      <th>5014</th>\n",
       "      <td>ERX3957542</td>\n",
       "      <td>Illumina HiSeq 2500 sequencing</td>\n",
       "      <td>Streptomyces avermitilis MA-4680 = NBRC 14893</td>\n",
       "      <td>Illumina HiSeq 2500</td>\n",
       "      <td>KAIST</td>\n",
       "      <td>ERP120150</td>\n",
       "      <td>Trimmed read fastq files and mapped read bam f...</td>\n",
       "      <td>ERS4349683</td>\n",
       "      <td>X</td>\n",
       "      <td>4218.23</td>\n",
       "      <td>...</td>\n",
       "      <td>X</td>\n",
       "      <td>X</td>\n",
       "      <td>X</td>\n",
       "      <td>X</td>\n",
       "      <td>X</td>\n",
       "      <td>Streptomyces</td>\n",
       "      <td>Streptomyces avermitilis</td>\n",
       "      <td>[ERX3957542, Illumina HiSeq 2500 sequencing, S...</td>\n",
       "      <td>ERX3957542_Illumina HiSeq 2500 sequencing_Stre...</td>\n",
       "      <td>[6, 13, 42, 60, 61]</td>\n",
       "    </tr>\n",
       "    <tr>\n",
       "      <th>5017</th>\n",
       "      <td>ERX3957539</td>\n",
       "      <td>Illumina HiSeq 2500 sequencing</td>\n",
       "      <td>Streptomyces avermitilis MA-4680 = NBRC 14893</td>\n",
       "      <td>Illumina HiSeq 2500</td>\n",
       "      <td>KAIST</td>\n",
       "      <td>ERP120150</td>\n",
       "      <td>Trimmed read fastq files and mapped read bam f...</td>\n",
       "      <td>ERS4349683</td>\n",
       "      <td>X</td>\n",
       "      <td>4134.72</td>\n",
       "      <td>...</td>\n",
       "      <td>X</td>\n",
       "      <td>X</td>\n",
       "      <td>X</td>\n",
       "      <td>X</td>\n",
       "      <td>X</td>\n",
       "      <td>Streptomyces</td>\n",
       "      <td>Streptomyces avermitilis</td>\n",
       "      <td>[ERX3957539, Illumina HiSeq 2500 sequencing, S...</td>\n",
       "      <td>ERX3957539_Illumina HiSeq 2500 sequencing_Stre...</td>\n",
       "      <td>[6, 13, 42, 60, 61]</td>\n",
       "    </tr>\n",
       "  </tbody>\n",
       "</table>\n",
       "<p>4 rows × 255 columns</p>\n",
       "</div>"
      ],
      "text/plain": [
       "     Experiment Accession                Experiment Title  \\\n",
       "5000           ERX3957564  Illumina HiSeq 2500 sequencing   \n",
       "5001           ERX3957563  Illumina HiSeq 2500 sequencing   \n",
       "5014           ERX3957542  Illumina HiSeq 2500 sequencing   \n",
       "5017           ERX3957539  Illumina HiSeq 2500 sequencing   \n",
       "\n",
       "                                      Organism Name         Instrument_x  \\\n",
       "5000  Streptomyces avermitilis MA-4680 = NBRC 14893  Illumina HiSeq 2500   \n",
       "5001  Streptomyces avermitilis MA-4680 = NBRC 14893  Illumina HiSeq 2500   \n",
       "5014  Streptomyces avermitilis MA-4680 = NBRC 14893  Illumina HiSeq 2500   \n",
       "5017  Streptomyces avermitilis MA-4680 = NBRC 14893  Illumina HiSeq 2500   \n",
       "\n",
       "     Submitter Study Accession  \\\n",
       "5000     KAIST       ERP120150   \n",
       "5001     KAIST       ERP120150   \n",
       "5014     KAIST       ERP120150   \n",
       "5017     KAIST       ERP120150   \n",
       "\n",
       "                                            Study Title Sample Accession  \\\n",
       "5000  Trimmed read fastq files and mapped read bam f...       ERS4349686   \n",
       "5001  Trimmed read fastq files and mapped read bam f...       ERS4349686   \n",
       "5014  Trimmed read fastq files and mapped read bam f...       ERS4349683   \n",
       "5017  Trimmed read fastq files and mapped read bam f...       ERS4349683   \n",
       "\n",
       "     Sample Title  Total Size, Mb  ...  rrna_depletion  infection  Method  \\\n",
       "5000            X         5252.71  ...               X          X       X   \n",
       "5001            X         7119.50  ...               X          X       X   \n",
       "5014            X         4218.23  ...               X          X       X   \n",
       "5017            X         4134.72  ...               X          X       X   \n",
       "\n",
       "     subcellular_compartment plasmid         Genus                   Species  \\\n",
       "5000                       X       X  Streptomyces  Streptomyces avermitilis   \n",
       "5001                       X       X  Streptomyces  Streptomyces avermitilis   \n",
       "5014                       X       X  Streptomyces  Streptomyces avermitilis   \n",
       "5017                       X       X  Streptomyces  Streptomyces avermitilis   \n",
       "\n",
       "                                                    cat  \\\n",
       "5000  [ERX3957564, Illumina HiSeq 2500 sequencing, S...   \n",
       "5001  [ERX3957563, Illumina HiSeq 2500 sequencing, S...   \n",
       "5014  [ERX3957542, Illumina HiSeq 2500 sequencing, S...   \n",
       "5017  [ERX3957539, Illumina HiSeq 2500 sequencing, S...   \n",
       "\n",
       "                                                cat_str          cat_findall  \n",
       "5000  ERX3957564_Illumina HiSeq 2500 sequencing_Stre...          [6, 60, 61]  \n",
       "5001  ERX3957563_Illumina HiSeq 2500 sequencing_Stre...          [6, 60, 61]  \n",
       "5014  ERX3957542_Illumina HiSeq 2500 sequencing_Stre...  [6, 13, 42, 60, 61]  \n",
       "5017  ERX3957539_Illumina HiSeq 2500 sequencing_Stre...  [6, 13, 42, 60, 61]  \n",
       "\n",
       "[4 rows x 255 columns]"
      ]
     },
     "execution_count": 29,
     "metadata": {},
     "output_type": "execute_result"
    }
   ],
   "source": [
    "df_[(df_['Total Bases']<10) & (df_['Total Size, Mb']>1000)]"
   ]
  },
  {
   "cell_type": "markdown",
   "id": "9e84b35b-0d99-4336-a35d-0d84e8d4158e",
   "metadata": {},
   "source": [
    "We expect that Total Bases strongly correlate with Total Size. We can also mark the first quartile (Q1) of the dataset, which is about 0.5 GB."
   ]
  },
  {
   "cell_type": "code",
   "execution_count": 31,
   "id": "5255e998",
   "metadata": {},
   "outputs": [
    {
     "data": {
      "text/html": [
       "<div>\n",
       "<style scoped>\n",
       "    .dataframe tbody tr th:only-of-type {\n",
       "        vertical-align: middle;\n",
       "    }\n",
       "\n",
       "    .dataframe tbody tr th {\n",
       "        vertical-align: top;\n",
       "    }\n",
       "\n",
       "    .dataframe thead th {\n",
       "        text-align: right;\n",
       "    }\n",
       "</style>\n",
       "<table border=\"1\" class=\"dataframe\">\n",
       "  <thead>\n",
       "    <tr style=\"text-align: right;\">\n",
       "      <th></th>\n",
       "      <th>Total Size, Mb</th>\n",
       "      <th>Total RUNs</th>\n",
       "      <th>Total Spots</th>\n",
       "      <th>Total Bases</th>\n",
       "    </tr>\n",
       "  </thead>\n",
       "  <tbody>\n",
       "    <tr>\n",
       "      <th>count</th>\n",
       "      <td>8850.000000</td>\n",
       "      <td>8850.000000</td>\n",
       "      <td>8.850000e+03</td>\n",
       "      <td>8.850000e+03</td>\n",
       "    </tr>\n",
       "    <tr>\n",
       "      <th>mean</th>\n",
       "      <td>1549.013992</td>\n",
       "      <td>1.237288</td>\n",
       "      <td>5.456143e+07</td>\n",
       "      <td>3.559568e+09</td>\n",
       "    </tr>\n",
       "    <tr>\n",
       "      <th>std</th>\n",
       "      <td>2682.845154</td>\n",
       "      <td>1.146402</td>\n",
       "      <td>5.965477e+07</td>\n",
       "      <td>7.378940e+09</td>\n",
       "    </tr>\n",
       "    <tr>\n",
       "      <th>min</th>\n",
       "      <td>0.000000</td>\n",
       "      <td>1.000000</td>\n",
       "      <td>0.000000e+00</td>\n",
       "      <td>0.000000e+00</td>\n",
       "    </tr>\n",
       "    <tr>\n",
       "      <th>25%</th>\n",
       "      <td>461.295000</td>\n",
       "      <td>1.000000</td>\n",
       "      <td>1.891277e+07</td>\n",
       "      <td>1.016397e+09</td>\n",
       "    </tr>\n",
       "    <tr>\n",
       "      <th>50%</th>\n",
       "      <td>943.030000</td>\n",
       "      <td>1.000000</td>\n",
       "      <td>3.757532e+07</td>\n",
       "      <td>2.079079e+09</td>\n",
       "    </tr>\n",
       "    <tr>\n",
       "      <th>75%</th>\n",
       "      <td>1877.562500</td>\n",
       "      <td>1.000000</td>\n",
       "      <td>6.848509e+07</td>\n",
       "      <td>4.211758e+09</td>\n",
       "    </tr>\n",
       "    <tr>\n",
       "      <th>max</th>\n",
       "      <td>99215.560000</td>\n",
       "      <td>16.000000</td>\n",
       "      <td>9.918211e+08</td>\n",
       "      <td>2.975463e+11</td>\n",
       "    </tr>\n",
       "  </tbody>\n",
       "</table>\n",
       "</div>"
      ],
      "text/plain": [
       "       Total Size, Mb   Total RUNs   Total Spots   Total Bases\n",
       "count     8850.000000  8850.000000  8.850000e+03  8.850000e+03\n",
       "mean      1549.013992     1.237288  5.456143e+07  3.559568e+09\n",
       "std       2682.845154     1.146402  5.965477e+07  7.378940e+09\n",
       "min          0.000000     1.000000  0.000000e+00  0.000000e+00\n",
       "25%        461.295000     1.000000  1.891277e+07  1.016397e+09\n",
       "50%        943.030000     1.000000  3.757532e+07  2.079079e+09\n",
       "75%       1877.562500     1.000000  6.848509e+07  4.211758e+09\n",
       "max      99215.560000    16.000000  9.918211e+08  2.975463e+11"
      ]
     },
     "execution_count": 31,
     "metadata": {},
     "output_type": "execute_result"
    }
   ],
   "source": [
    "df_.describe()"
   ]
  },
  {
   "cell_type": "code",
   "execution_count": 30,
   "id": "b709596e",
   "metadata": {},
   "outputs": [
    {
     "data": {
      "image/png": "[encoded data removed]",
      "text/plain": [
       "<Figure size 640x480 with 1 Axes>"
      ]
     },
     "metadata": {},
     "output_type": "display_data"
    }
   ],
   "source": [
    "ax = sns.scatterplot(data = df_, x='Total Size, Mb', y='Total Bases', alpha=0.1)\n",
    "plt.axvline(x=461.295)\n",
    "plt.axhline(y=1.016397e+09)\n",
    "ax.set_xscale(\"log\")\n",
    "ax.set_yscale(\"log\")\n",
    "plt.show()"
   ]
  },
  {
   "cell_type": "markdown",
   "id": "c781bf9b-c435-40de-af36-f06b079f5e47",
   "metadata": {},
   "source": [
    "We can also get descriptive statistics of the SRA experiments"
   ]
  },
  {
   "cell_type": "code",
   "execution_count": 32,
   "id": "7f51e6a3",
   "metadata": {},
   "outputs": [
    {
     "data": {
      "image/png": "[encoded data removed]",
      "text/plain": [
       "<Figure size 640x480 with 1 Axes>"
      ]
     },
     "metadata": {},
     "output_type": "display_data"
    }
   ],
   "source": [
    "ax = sns.histplot(df_['Total Size, Mb'])\n",
    "ax.set_xscale(\"log\")\n",
    "ax.set_yscale(\"log\")\n",
    "plt.axvline(x = 461.295000, color = 'r')\n",
    "plt.show()"
   ]
  },
  {
   "cell_type": "markdown",
   "id": "b6a0f990-1404-4fea-817e-3c7d450636f2",
   "metadata": {},
   "source": [
    "Let's say we are interested in data larger than the Q1 of Total Size, we can count the number of experiments by species."
   ]
  },
  {
   "cell_type": "code",
   "execution_count": 33,
   "id": "34a8af3d",
   "metadata": {},
   "outputs": [
    {
     "data": {
      "text/plain": [
       "Organism Name\n",
       "Homo sapiens                   2293\n",
       "Mus musculus                   1626\n",
       "Saccharomyces cerevisiae        738\n",
       "Arabidopsis thaliana            193\n",
       "Rattus norvegicus               172\n",
       "                               ... \n",
       "Solanum pennellii                 1\n",
       "Kluyveromyces marxianus           1\n",
       "Bubalus bubalis                   1\n",
       "Pseudomonas aeruginosa PA14       1\n",
       "Anolis carolinensis               1\n",
       "Length: 100, dtype: int64"
      ]
     },
     "execution_count": 33,
     "metadata": {},
     "output_type": "execute_result"
    }
   ],
   "source": [
    "df_[df_['Total Size, Mb']>461.295000].value_counts('Organism Name')"
   ]
  },
  {
   "cell_type": "markdown",
   "id": "c56a2246-8b39-431e-af09-440ef110c0d5",
   "metadata": {},
   "source": [
    "To group the SRA experiments by kingdom, we will first create text file using Organism Name below."
   ]
  },
  {
   "cell_type": "code",
   "execution_count": 34,
   "id": "e94b315b",
   "metadata": {},
   "outputs": [
    {
     "data": {
      "text/plain": [
       "'Saccharomyces cerevisiae W303\\nMus musculus\\nHomo sapiens\\nSaccharomyces cerevisiae\\nArabidopsis thaliana\\nStreptococcus pneumoniae D39\\nDrosophila melanogaster\\nChlorocebus sabaeus\\nBos taurus\\nEscherichia coli\\nLacticaseibacillus rhamnosus GG\\nCricetulus griseus\\nEscherichia coli str. K-12 substr. W3110\\nSorghum bicolor\\nNeurospora crassa\\nEscherichia coli str. K-12 substr. MG1655\\nDanio rerio\\nEscherichia coli K-12\\nSynechocystis sp. PCC 6803\\nOryza sativa Japonica Group\\nArabidopsis\\nZea mays\\nXenopus laevis\\nStreptomyces clavuligerus\\nRattus norvegicus\\nCulex tarsalis\\nKomagataella phaffii\\nCandida albicans\\nMycobacterium tuberculosis H37Rv\\nChlorocebus aethiops aethiops\\nsynthetic construct\\nStreptomyces tsukubensis NRRL18488\\nStreptomyces venezuelae\\nStreptomyces avermitilis MA-4680 = NBRC 14893\\nSolanum lycopersicum\\nCaenorhabditis elegans\\nHaloferax volcanii DS2\\nStreptomyces griseus\\nGallus gallus\\nSchizosaccharomyces pombe\\nSaccharomyces cerevisiae BY4741\\nSolanum pennellii\\nBacillus subtilis\\nLeishmania major\\nLeishmania donovani\\nCondylostoma magnum\\nEquus caballus\\nClostridium ljungdahlii\\nZika virus\\nDengue virus type 4\\nDengue virus type 3\\nDengue virus type 2\\ndengue virus type I\\nHalobacterium salinarum\\nSaccharomyces paradoxus\\nOryza sativa\\nEubacterium limosum\\nPseudomonas aeruginosa PAO1\\nPseudomonas aeruginosa\\nSalmonella enterica subsp. enterica serovar Typhimurium str. 14028S\\nMacaca mulatta\\nPan troglodytes\\nMycolicibacterium smegmatis MC2 155\\nHistoplasma capsulatum\\nPlasmodium falciparum\\nmixed culture\\nCaenorhabditis brenneri\\nCaenorhabditis remanei\\nCaenorhabditis briggsae\\nSaccharomyces cerevisiae x Saccharomyces paradoxus\\nAcer truncatum\\nHaloferax volcanii\\nCyprinus carpio\\nChlamydomonas reinhardtii\\nNicotiana benthamiana\\nBubalus bubalis\\nBrassica napus\\nFusarium graminearum\\nTriticum aestivum\\nOenothera elata subsp. hookeri x Oenothera grandiflora\\nOenothera elata subsp. hookeri\\nClostridium drakei\\nClostridium aceticum\\nAcetobacterium woodii DSM 1030\\nEscherichia coli BW25113\\nAnolis carolinensis\\nKlebsiella michiganensis M5al\\nKlebsiella michiganensis\\nStreptomyces lividans TK24\\nSaccharomyces cerevisiae Sigma1278b\\nEscherichia coli BL21\\nAedes aegypti\\nSaccharomyces uvarum\\nStreptomyces tsukubensis\\nVaccinia virus WR\\nTrypanosoma cruzi Dm28c\\nMesocricetus auratus\\nKluyveromyces marxianus\\nPseudomonas aeruginosa PA14\\nStaphylococcus aureus'"
      ]
     },
     "execution_count": 34,
     "metadata": {},
     "output_type": "execute_result"
    }
   ],
   "source": [
    "'\\n'.join(df_[df_['Total Size, Mb']>461.295]['Organism Name'].unique().tolist())"
   ]
  },
  {
   "cell_type": "markdown",
   "id": "d7dc159f-2337-44fc-b5aa-d8618a59e668",
   "metadata": {},
   "source": [
    "We will then run efetch and xtract"
   ]
  },
  {
   "cell_type": "markdown",
   "id": "3a3095b3",
   "metadata": {},
   "source": [
    "```\n",
    "while read i <&3; do \\\n",
    "    paste <(esearch -db taxonomy -query \"${i}\" \\\n",
    "    | efetch -format native -mode xml \\\n",
    "    | xtract -pattern TaxaSet \\\n",
    "      -group LineageEx \\\n",
    "      -block Taxon \\\n",
    "      -if Rank -equals \"kingdom\" \\\n",
    "      -subset Taxon -tab '\\n' -def NA \\\n",
    "      -element TaxId,Rank,ScientificName) \\\n",
    "     <(echo ${i})\n",
    "done 3< ../doc/orgname.txt > ../doc/orgkingdom.txt\n",
    "```"
   ]
  },
  {
   "cell_type": "markdown",
   "id": "beb27be1-37c7-44eb-b987-7211d843cf86",
   "metadata": {},
   "source": [
    "We can also run shell commands within a cell"
   ]
  },
  {
   "cell_type": "code",
   "execution_count": 21,
   "id": "b7504941",
   "metadata": {},
   "outputs": [
    {
     "name": "stdout",
     "output_type": "stream",
     "text": [
      "2759\tsuperkingdom\tEukaryota\tSaccharomyces cerevisiae W303\n",
      "4751\tkingdom\tFungi\t\n",
      "451864\tsubkingdom\tDikarya\t\n",
      "2759\tsuperkingdom\tEukaryota\tMus musculus\n",
      "33208\tkingdom\tMetazoa\t\n",
      "2759\tsuperkingdom\tEukaryota\tHomo sapiens\n",
      "33208\tkingdom\tMetazoa\t\n",
      "2759\tsuperkingdom\tEukaryota\tSaccharomyces cerevisiae\n",
      "4751\tkingdom\tFungi\t\n",
      "451864\tsubkingdom\tDikarya\t\n"
     ]
    }
   ],
   "source": [
    "! head ../doc/orgkingdom.txt"
   ]
  },
  {
   "cell_type": "markdown",
   "id": "0ab7241d-6865-4b6f-872a-b35cd8890cc7",
   "metadata": {},
   "source": [
    "Let's import the efetch/xtract result."
   ]
  },
  {
   "cell_type": "code",
   "execution_count": 22,
   "id": "e765b2d0",
   "metadata": {},
   "outputs": [],
   "source": [
    "orgkingdom = pd.read_csv('orgkingdom.txt', sep='\\t', header=None)\n",
    "orgkingdom.columns = ['taxid','hierarchy','taxa','Organism Name']\n",
    "orgkingdom.fillna(method='ffill', inplace=True)\n",
    "orgkingdom = orgkingdom[orgkingdom.hierarchy=='kingdom']"
   ]
  },
  {
   "cell_type": "markdown",
   "id": "c983c7ed-d1e3-46e8-abdd-885e2fed3474",
   "metadata": {},
   "source": [
    "This gives us an idea of the ribosome profiling experiments performed across kingdom."
   ]
  },
  {
   "cell_type": "code",
   "execution_count": 23,
   "id": "4af47cb5",
   "metadata": {},
   "outputs": [
    {
     "data": {
      "text/plain": [
       "taxa\n",
       "Metazoa          24\n",
       "Viridiplantae    15\n",
       "Fungi            13\n",
       "Orthornavirae     5\n",
       "Bamfordvirae      1\n",
       "Name: count, dtype: int64"
      ]
     },
     "execution_count": 23,
     "metadata": {},
     "output_type": "execute_result"
    }
   ],
   "source": [
    "orgkingdom.value_counts('taxa')"
   ]
  },
  {
   "cell_type": "code",
   "execution_count": 24,
   "id": "8ee60531",
   "metadata": {},
   "outputs": [
    {
     "data": {
      "text/html": [
       "<div>\n",
       "<style scoped>\n",
       "    .dataframe tbody tr th:only-of-type {\n",
       "        vertical-align: middle;\n",
       "    }\n",
       "\n",
       "    .dataframe tbody tr th {\n",
       "        vertical-align: top;\n",
       "    }\n",
       "\n",
       "    .dataframe thead th {\n",
       "        text-align: right;\n",
       "    }\n",
       "</style>\n",
       "<table border=\"1\" class=\"dataframe\">\n",
       "  <thead>\n",
       "    <tr style=\"text-align: right;\">\n",
       "      <th></th>\n",
       "      <th>taxid</th>\n",
       "      <th>hierarchy</th>\n",
       "      <th>taxa</th>\n",
       "      <th>Organism Name</th>\n",
       "    </tr>\n",
       "  </thead>\n",
       "  <tbody>\n",
       "    <tr>\n",
       "      <th>162</th>\n",
       "      <td>2732005.0</td>\n",
       "      <td>kingdom</td>\n",
       "      <td>Bamfordvirae</td>\n",
       "      <td>Vaccinia virus WR</td>\n",
       "    </tr>\n",
       "  </tbody>\n",
       "</table>\n",
       "</div>"
      ],
      "text/plain": [
       "         taxid hierarchy          taxa      Organism Name\n",
       "162  2732005.0   kingdom  Bamfordvirae  Vaccinia virus WR"
      ]
     },
     "execution_count": 24,
     "metadata": {},
     "output_type": "execute_result"
    }
   ],
   "source": [
    "orgkingdom[orgkingdom['taxa']=='Bamfordvirae']"
   ]
  },
  {
   "cell_type": "markdown",
   "id": "8a464e06-c916-4b30-8fa9-980b422db78c",
   "metadata": {},
   "source": [
    "We can check the shape (rows, columns) of the dataframes"
   ]
  },
  {
   "cell_type": "code",
   "execution_count": 25,
   "id": "590118c0",
   "metadata": {},
   "outputs": [
    {
     "data": {
      "text/plain": [
       "((8850, 252), (8850, 255))"
      ]
     },
     "execution_count": 25,
     "metadata": {},
     "output_type": "execute_result"
    }
   ],
   "source": [
    "df.shape, df_.shape"
   ]
  },
  {
   "cell_type": "markdown",
   "id": "774b4c20-5179-4cd1-9603-a5d86e380381",
   "metadata": {},
   "source": [
    "Let's merge taxa with SRA experiments"
   ]
  },
  {
   "cell_type": "code",
   "execution_count": 26,
   "id": "80cfd133",
   "metadata": {
    "scrolled": true
   },
   "outputs": [],
   "source": [
    "df_kingdom = pd.merge(orgkingdom, df_)"
   ]
  },
  {
   "cell_type": "code",
   "execution_count": 27,
   "id": "9b04cbce",
   "metadata": {},
   "outputs": [
    {
     "data": {
      "text/plain": [
       "taxa\n",
       "Metazoa          5886\n",
       "Fungi            1259\n",
       "Viridiplantae     844\n",
       "Orthornavirae      83\n",
       "Bamfordvirae       12\n",
       "Name: count, dtype: int64"
      ]
     },
     "execution_count": 27,
     "metadata": {},
     "output_type": "execute_result"
    }
   ],
   "source": [
    "df_kingdom.value_counts('taxa')"
   ]
  },
  {
   "cell_type": "markdown",
   "id": "c4f641cd-1b03-4ca8-bc16-c094ead94db4",
   "metadata": {},
   "source": [
    "There are 617 Study Accessions"
   ]
  },
  {
   "cell_type": "code",
   "execution_count": 29,
   "id": "6b7e061f",
   "metadata": {},
   "outputs": [
    {
     "data": {
      "text/plain": [
       "(617,)"
      ]
     },
     "execution_count": 29,
     "metadata": {},
     "output_type": "execute_result"
    }
   ],
   "source": [
    "df_kingdom['Study Accession'].unique().shape"
   ]
  },
  {
   "cell_type": "markdown",
   "id": "c52997e7-e0fc-4505-b58f-194a343a5e80",
   "metadata": {},
   "source": [
    "If we are interested in plants, we can subset the dataframe and count the SRA experiments by species"
   ]
  },
  {
   "cell_type": "code",
   "execution_count": 41,
   "id": "831c1334",
   "metadata": {},
   "outputs": [
    {
     "data": {
      "text/plain": [
       "Organism Name\n",
       "Zea mays                                                  401\n",
       "Arabidopsis thaliana                                      242\n",
       "Solanum lycopersicum                                       43\n",
       "Oryza sativa Japonica Group                                35\n",
       "Oryza sativa                                               27\n",
       "Solanum pennellii                                          17\n",
       "Chlamydomonas reinhardtii                                  16\n",
       "Arabidopsis                                                14\n",
       "Triticum aestivum                                          12\n",
       "Nicotiana benthamiana                                       9\n",
       "Acer truncatum                                              6\n",
       "Oenothera elata subsp. hookeri                              6\n",
       "Oenothera elata subsp. hookeri x Oenothera grandiflora      6\n",
       "Sorghum bicolor                                             6\n",
       "Brassica napus                                              4\n",
       "dtype: int64"
      ]
     },
     "execution_count": 41,
     "metadata": {},
     "output_type": "execute_result"
    }
   ],
   "source": [
    "df_kingdom[df_kingdom.taxa=='Viridiplantae'].value_counts('Organism Name')"
   ]
  },
  {
   "cell_type": "code",
   "execution_count": 42,
   "id": "88518449",
   "metadata": {},
   "outputs": [
    {
     "data": {
      "text/plain": [
       "8047    Ribo-seq, 4 h  post VACV infection, Lactimidom...\n",
       "8048    Ribo-seq, 2 h  post VACV infection, Lactimidom...\n",
       "8049    Ribo-seq, 8 h  post VACV infection, Harrington...\n",
       "8050    Ribo-seq, 4 h  post VACV infection, Harrington...\n",
       "8051    Ribo-seq, 2 h  post VACV infection, Harrington...\n",
       "8052    Ribo-seq, 8 h  post VACV infection, cyclohexim...\n",
       "8053    Ribo-seq, 4 h  post VACV infection, cyclohexim...\n",
       "8054    Ribo-seq, 2 h  post VACV infection, cyclohexim...\n",
       "8055                    Ribo-seq, 8 h post VACV infection\n",
       "8056                    Ribo-seq, 4 h post VACV infection\n",
       "8057                     Ribo-seq, 2h post VACV infection\n",
       "8058    Ribo-seq, 8h post VACV infection, Lactimidomyc...\n",
       "Name: Experiment Title, dtype: object"
      ]
     },
     "execution_count": 42,
     "metadata": {},
     "output_type": "execute_result"
    }
   ],
   "source": [
    "df_kingdom[df_kingdom['taxa']=='Bamfordvirae']['Experiment Title']"
   ]
  },
  {
   "cell_type": "code",
   "execution_count": null,
   "id": "691b382b",
   "metadata": {},
   "outputs": [],
   "source": []
  }
 ],
 "metadata": {
  "kernelspec": {
   "display_name": "Python 3 (ipykernel)",
   "language": "python",
   "name": "python3"
  },
  "language_info": {
   "codemirror_mode": {
    "name": "ipython",
    "version": 3
   },
   "file_extension": ".py",
   "mimetype": "text/x-python",
   "name": "python",
   "nbconvert_exporter": "python",
   "pygments_lexer": "ipython3",
   "version": "3.12.8"
  }
 },
 "nbformat": 4,
 "nbformat_minor": 5
}

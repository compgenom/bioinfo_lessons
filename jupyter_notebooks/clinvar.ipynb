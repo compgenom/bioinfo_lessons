{
 "cells": [
  {
   "cell_type": "markdown",
   "id": "e31c9de6-3023-4cba-87d1-89e59085ec68",
   "metadata": {},
   "source": [
    "### Analysis of clinically associated variants at translation initiation and termination sites and splice sites"
   ]
  },
  {
   "cell_type": "markdown",
   "id": "610cb4e6-447c-4359-a399-3ca452f2fb85",
   "metadata": {},
   "source": [
    "This analysis aims to create metagene plots for the clinically associated variants at important regions of protein-coding genes. \n",
    "\n",
    "[Clinically associated variants](https://asia.ensembl.org/info/genome/variation/species/sets.html) are variants described by ClinVar as being probable-pathogenic, pathogenic, drug-response or histocompatibility. We are curious about how frequent is that for a clinically associated variant to occur at the important regions of a protein coding gene, e.g. translation initiation and termination sites and splice sites. To learn more about phenotype and disease annotations see [here](https://asia.ensembl.org/info/genome/variation/phenotype/phenotype_annotation.html)\n",
    "\n",
    "Ensembl has a [VCF](https://www.internationalgenome.org/wiki/Analysis/Variant%20Call%20Format/vcf-variant-call-format-version-41) file storing the clinically associated variants. A handle way to find the download link is through [42basepairs.com](https://42basepairs.com/browse/web/ensembl/release-98/variation/vcf/homo_sapiens?file=homo_sapiens_clinically_associated.vcf.gz)"
   ]
  },
  {
   "cell_type": "markdown",
   "id": "ef2e93ce-5652-4127-aa95-e962518cb539",
   "metadata": {},
   "source": [
    "<img src=\"../screenshots/Screenshot-homo_sapiens_clinically_associated.png\" />"
   ]
  },
  {
   "cell_type": "markdown",
   "id": "9e4f40bc-f684-4b54-bae1-81dd19d01a65",
   "metadata": {},
   "source": [
    "1. Let's create a reference directory called ref and download the VCF file to ref"
   ]
  },
  {
   "cell_type": "markdown",
   "id": "ed390cdc-6e6d-4515-8d29-bceb5d4d38ce",
   "metadata": {},
   "source": [
    "```\n",
    "mkdir -p doc\n",
    "\n",
    "wget https://42basepairs.com/download/web/ensembl/release-98/variation/vcf/homo_sapiens/homo_sapiens_clinically_associated.vcf.gz -O doc"
   ]
  },
  {
   "cell_type": "markdown",
   "id": "e515e60f-b60a-4f99-805c-721b8e31398c",
   "metadata": {},
   "source": [
    "2. We will use [GENCODE](https://www.gencodegenes.org/human/) [GTF](https://genome.ucsc.edu/FAQ/FAQformat.html#format4) annotation for this analysis. The GTF file has well annotated translation initiation and termination sites. We will also use this file for analysing the variants at splice sites later on."
   ]
  },
  {
   "cell_type": "markdown",
   "id": "e1429743-96e1-442f-8f24-48f7c9eee90b",
   "metadata": {},
   "source": [
    "```\n",
    "wget https://ftp.ebi.ac.uk/pub/databases/gencode/Gencode_human/release_43/gencode.v43.annotation.gtf.gz -O doc"
   ]
  },
  {
   "cell_type": "markdown",
   "id": "3ce43f3f-d8f7-4a89-9448-a33364f37066",
   "metadata": {},
   "source": [
    "3. To make the analysis later one easier, we can extract and use only the annotations for start/stop codons from this GTF file. To create [BED](https://genome.ucsc.edu/FAQ/FAQformat.html#format1) files for start/stop codons, we need to adjust the start positions because GTF uses one-based coordinate system. There are some advanced commands that I will go through one-by-one."
   ]
  },
  {
   "cell_type": "markdown",
   "id": "a8bbf367-11c9-49c5-9b91-43dc73a9ee62",
   "metadata": {},
   "source": [
    "```\n",
    "cd doc\n",
    "\n",
    "zcat gencode.v43.annotation.gtf.gz \\\n",
    "| awk 'BEGIN{OFS=\"\\t\"} $3~/start_codon/ {print $1,$4-1,$5,$10,$12,$7}' \\\n",
    "| awk '!seen[$1,$2,$3,$4]++' \\\n",
    "| sed 's/[\";]//g' > gencode.v43.annotation_start_codon.bed\n",
    "\n",
    "zcat gencode.v43.annotation.gtf.gz \\\n",
    "| awk 'BEGIN{OFS=\"\\t\"} $3~/stop_codon/ {print $1,$4-1,$5,$10,$12,$7}' \\\n",
    "| awk '!seen[$1,$2,$3,$4]++' \\\n",
    "| sed 's/[\";]//g' > gencode.v43.annotation_stop_codon.bed"
   ]
  },
  {
   "cell_type": "markdown",
   "id": "a8d6059f-ec50-4dfc-80f2-2ee7491c7201",
   "metadata": {},
   "source": [
    "4. The plan is to intersect clinically associated variants with translation initiation and termination sites.\n",
    "\n",
    "Before getting the intersection, we will need to solve a technical issue. The two files use different naming convention for chromosomes. The chromosome names in the GENCODE GTF file has chr as prefix. Also the mitochondrial chromosome is MT in the VCF file and chrM in the GTF file.\n",
    "\n",
    "Therefore, we need to first separate the VCF file header from the content. To get the VCF header in one line, we will combine the commands as follows."
   ]
  },
  {
   "cell_type": "markdown",
   "id": "4cf181b7-87ba-40f7-b519-721f8bd9cd9f",
   "metadata": {},
   "source": [
    "```\n",
    "zcat homo_sapiens_clinically_associated.vcf.gz | grep -E \"^##|#CHROM\" > homo_sapiens_clinically_associated.header\n",
    "\n",
    "# grep -E allows us to search for multiple patterns"
   ]
  },
  {
   "cell_type": "markdown",
   "id": "eabee3f9-1573-462a-b1d9-49fdfc7dc27b",
   "metadata": {},
   "source": [
    "5. We can then do some quick and dirty way to get the content and edit the chromosome names, followed by concatenating the header with the content."
   ]
  },
  {
   "cell_type": "markdown",
   "id": "72e3d061-e00b-4238-accc-160e673e3e07",
   "metadata": {},
   "source": [
    "```\n",
    "cat \\\n",
    "<(zcat homo_sapiens_clinically_associated.vcf.gz | grep -v \"^#\" | grep -v \">\") \\\n",
    "<(zcat homo_sapiens_clinically_associated.vcf.gz | awk '$5~/</' | sed 's/[<>]//g') \\\n",
    "| sort -k1,1 -k2,2n \\\n",
    "| sed 's/^/chr/;s/^chrMT/chrM/' \\\n",
    "| cat homo_sapiens_clinically_associated.header - \\\n",
    "> homo_sapiens_clinically_associated_clean.vcf"
   ]
  },
  {
   "cell_type": "markdown",
   "id": "734183b8-5583-41cd-ad34-167023318c31",
   "metadata": {},
   "source": [
    "6. To further process the VCF file properly, we will first create a conda environment and install bcftools. Let's create a conda environment called bcftools."
   ]
  },
  {
   "cell_type": "markdown",
   "id": "c0a06edd-30f3-4a65-9a5e-d55addf3ebff",
   "metadata": {},
   "source": [
    "```\n",
    "conda create -n bcftools -y\n",
    "\n",
    "conda install -c bioconda bcftools"
   ]
  },
  {
   "cell_type": "markdown",
   "id": "64e4ef96-7e69-4d4c-8abc-13ca12228696",
   "metadata": {},
   "source": [
    "7. We can then create index and sort the new VCF file properly for any downstream analysis."
   ]
  },
  {
   "cell_type": "markdown",
   "id": "eda04eb4-1760-46c8-a11e-da91b74d80b0",
   "metadata": {},
   "source": [
    "```\n",
    "bgzip homo_sapiens_clinically_associated_clean.vcf\n",
    "tabix homo_sapiens_clinically_associated_clean.vcf.gz\n",
    "bcftools sort homo_sapiens_clinically_associated_clean.vcf.gz -o homo_sapiens_clinically_associated_sorted.vcf"
   ]
  },
  {
   "cell_type": "markdown",
   "id": "a32ccedb-c8c4-4f49-89f4-55193b7802f7",
   "metadata": {},
   "source": [
    "8. We will also need to install bedtools to find intersections between the clinically associated variants and translation initiation and termination sites."
   ]
  },
  {
   "cell_type": "markdown",
   "id": "09d96fad-eb6f-4165-87fc-475a4f0a2b3e",
   "metadata": {},
   "source": [
    "```\n",
    "conda install -c bioconda bedtools -y"
   ]
  },
  {
   "cell_type": "markdown",
   "id": "a0c0476c-bd3b-4fd2-88a9-67c9223e7459",
   "metadata": {},
   "source": [
    "9. We will use a bedtools window to find the intersection between 1000 nt flanking regions around start/stop codons and the clinically associated variants."
   ]
  },
  {
   "cell_type": "markdown",
   "id": "a30ee237-0656-41f6-96b2-727c2cbcc2f7",
   "metadata": {},
   "source": [
    "```\n",
    "bedtools window \\\n",
    "-a gencode.v43.annotation_start_codon.bed \\\n",
    "-b homo_sapiens_clinically_associated_sorted.vcf -w > gencode.v43.annotation_start_codon.w\n",
    "\n",
    "bedtools window \\\n",
    "-a gencode.v43.annotation_stop_codon.bed \\\n",
    "-b homo_sapiens_clinically_associated_sorted.vcf -w > gencode.v43.annotation_stop_codon.w"
   ]
  },
  {
   "cell_type": "markdown",
   "id": "347270cd-d6db-471e-90d3-49f4ba29a57d",
   "metadata": {},
   "source": [
    "10. To get clinically associated variants around splice sites, we will first convert the GENCODE GTF file to UCSC genePred format. We will install gtfToGenePred using conda and convert the file format."
   ]
  },
  {
   "cell_type": "markdown",
   "id": "7ff63c5f-eb59-43d0-92ac-ae8db4671ac2",
   "metadata": {},
   "source": [
    "```\n",
    "conda install -c bioconda ucsc-gtftogenepred -y\n",
    "\n",
    "gtfToGenePred gencode.v43.annotation.gtf.gz gencode.v43.annotation.txt -ignoreGroupsWithoutExons"
   ]
  },
  {
   "cell_type": "markdown",
   "id": "70c083eb-e67a-4155-b096-3fc54f4c5420",
   "metadata": {},
   "source": [
    "11. We will then split the GENCODE GTF file into separate BED files using [extractTranscriptRegions](https://github.com/bdo311/metagene-maker/tree/master). We are particularly interested in getting uniq_noncoding5ss and uniq_noncoding3ss.\n",
    "\n",
    "We will need to install python 2 (which has deprecated) using miniconda2."
   ]
  },
  {
   "cell_type": "markdown",
   "id": "a035795a-6136-40e6-ba29-c51ecba3fa12",
   "metadata": {},
   "source": [
    "```\n",
    "wget https://repo.continuum.io/miniconda/Miniconda2-latest-Linux-x86_64.sh"
   ]
  },
  {
   "cell_type": "markdown",
   "id": "504ef41d-269d-4d3b-a6ad-a054c2f29eb9",
   "metadata": {},
   "source": [
    "12. We will then clone the GitHub [repository](https://github.com/bdo311/metagene-maker) and install it"
   ]
  },
  {
   "cell_type": "markdown",
   "id": "d07b0d31-ac7b-4229-ba83-eaf9f4a9d027",
   "metadata": {},
   "source": [
    "```\n",
    "git clone https://github.com/bdo311/metagene-maker.git\n",
    "\n",
    "cd metagene-maker\n",
    "\n",
    "python setup.py install --user"
   ]
  },
  {
   "cell_type": "markdown",
   "id": "bed3c3f0-065c-4506-9d93-8eb6b665e822",
   "metadata": {},
   "source": [
    "13. We will extract different regions of transcripts. We will create a new subdirectory and store these new files."
   ]
  },
  {
   "cell_type": "markdown",
   "id": "832f101f-0fef-4189-a1d9-73b365c92b14",
   "metadata": {},
   "source": [
    "```\n",
    "mkdir regions\n",
    "\n",
    "extractTranscriptRegions -i gencode.v43.annotation.txt -o regions/gencode --ucsc"
   ]
  },
  {
   "cell_type": "markdown",
   "id": "18e15c7e-49f2-4694-858e-ad9491d6ac9d",
   "metadata": {},
   "source": [
    "15. Rename extracted files. The [rename](http://plasmasturm.org/code/rename/) tool works similarly as sed"
   ]
  },
  {
   "cell_type": "markdown",
   "id": "03420dec-ad2e-438e-8679-7a406351b0bf",
   "metadata": {},
   "source": [
    "```\n",
    "conda install -c bioconda rename -y\n",
    "\n",
    "rename 's/genecode_//' *.bed"
   ]
  },
  {
   "cell_type": "markdown",
   "id": "48c0cc2e-de37-425e-8870-5381368355fe",
   "metadata": {},
   "source": [
    "16. Similarly, we will find the intersection between the extracted regions and the clinically associated variants."
   ]
  },
  {
   "cell_type": "markdown",
   "id": "2bd6337e-a504-4c7f-b41c-b81033118d74",
   "metadata": {},
   "source": [
    "```\n",
    "cd regions\n",
    "\n",
    "for i in *.bed; do \\\n",
    "    bedtools window \\\n",
    "    -a $i \\\n",
    "    -b ../homo_sapiens_clinically_associated_sorted.vcf -w > ${i%.*}.w\n",
    "done\n",
    "\n",
    "# ${i%.*} bash variable syntax allow us to remove the shortest matching suffix pattern from the end of the variable $i\n",
    "# this will create file names with a different extension (.w in this case)"
   ]
  },
  {
   "cell_type": "markdown",
   "id": "c5f88803-dadc-4d2a-be9c-0d4a30bbac6f",
   "metadata": {},
   "source": [
    "17. Finally we will organise our files into separate directories. We create ref to store the original reference annotation files and keep the processed files in doc"
   ]
  },
  {
   "cell_type": "markdown",
   "id": "7327d1d8-36b7-4f90-9263-05510e108d53",
   "metadata": {},
   "source": [
    "```\n",
    "mkdir ../ref\n",
    "\n",
    "mv gencode.v43.annotation.gtf.gz homo_sapiens_clinically_associated.vcf.gz ../ref"
   ]
  },
  {
   "cell_type": "markdown",
   "id": "290d9440-9524-45cf-b45e-5551db73cbd4",
   "metadata": {},
   "source": [
    "18. Now let's make some plots!"
   ]
  },
  {
   "cell_type": "code",
   "execution_count": 1,
   "id": "9ea6b7a1",
   "metadata": {},
   "outputs": [],
   "source": [
    "import pandas as pd\n",
    "import matplotlib.pyplot as plt\n",
    "import seaborn as sns"
   ]
  },
  {
   "cell_type": "markdown",
   "id": "58684f01",
   "metadata": {},
   "source": [
    "#### Clinically associated variants around the main translation initiation sites"
   ]
  },
  {
   "cell_type": "code",
   "execution_count": 2,
   "id": "8f675cb6",
   "metadata": {},
   "outputs": [],
   "source": [
    "# start codon windows\n",
    "startw = pd.read_csv('../doc/gencode.v43.annotation_start_codon.w', \n",
    "            sep='\\t', header=None)\n",
    "\n",
    "# startw[startw[8]=='rs104894307']\n",
    "\n",
    "# upstream (left)\n",
    "d_plus_left = startw[startw[5]=='+'].copy()\n",
    "d_minus_left = startw[startw[5]=='-'].copy()\n",
    "\n",
    "d_plus_left['distance'] = d_plus_left[7]-d_plus_left[1]-1\n",
    "d_plus_left['abs_distance'] = abs(d_plus_left['distance'])\n",
    "d_minus_left['distance'] = d_minus_left[2]-d_minus_left[7]-1\n",
    "d_minus_left['abs_distance'] = abs(d_minus_left['distance'])\n",
    "\n",
    "# downstream (right)\n",
    "d_plus_right = startw[startw[5]=='+'].copy()\n",
    "d_minus_right = startw[startw[5]=='-'].copy()\n",
    "\n",
    "d_plus_right['distance'] = d_plus_right[7]-d_plus_right[1]-1-d_minus_right[9].apply(len)\n",
    "d_plus_right['abs_distance'] = abs(d_plus_right['distance'])\n",
    "d_minus_right['distance'] = d_minus_right[2]-d_minus_right[7]-1-d_minus_right[9].apply(len)\n",
    "d_minus_right['abs_distance'] = abs(d_minus_right['distance'])\n",
    "\n",
    "# combine all possible distances\n",
    "d_start = pd.concat([d_plus_left,d_minus_left,d_plus_right,d_minus_right])\\\n",
    ".sort_values('abs_distance').drop_duplicates([8])"
   ]
  },
  {
   "cell_type": "code",
   "execution_count": 4,
   "id": "2df2f4ed",
   "metadata": {},
   "outputs": [
    {
     "data": {
      "image/png": "[encoded data removed]",
      "text/plain": [
       "<Figure size 300x300 with 1 Axes>"
      ]
     },
     "metadata": {},
     "output_type": "display_data"
    }
   ],
   "source": [
    "plt.figure(figsize=(3,3))\n",
    "sns.histplot(d_start['distance'], binwidth=1, \n",
    "             linewidth=1, color='#1f77b4')\n",
    "plt.xlim(-10,10)\n",
    "plt.xlabel('Distance from main AUG')\n",
    "plt.ylabel('Number of ClinVar variants')\n",
    "plt.savefig('clinvar_maugs.pdf')"
   ]
  },
  {
   "cell_type": "code",
   "execution_count": 8,
   "id": "fc379049",
   "metadata": {},
   "outputs": [],
   "source": [
    "# stop codon windows\n",
    "stopw = pd.read_csv('../doc/gencode.v43.annotation_stop_codon.w', \n",
    "            sep='\\t', header=None)\n",
    "\n",
    "# upstream (left)\n",
    "d_plus_left = stopw[stopw[5]=='+'].copy()\n",
    "d_minus_left = stopw[stopw[5]=='-'].copy()\n",
    "\n",
    "d_plus_left['distance'] = d_plus_left[7]-d_plus_left[1]-1\n",
    "d_plus_left['abs_distance'] = abs(d_plus_left['distance'])\n",
    "d_minus_left['distance'] = d_minus_left[2]-d_minus_left[7]-1\n",
    "d_minus_left['abs_distance'] = abs(d_minus_left['distance'])\n",
    "\n",
    "# downstream (right)\n",
    "d_plus_right = stopw[stopw[5]=='+'].copy()\n",
    "d_minus_right = stopw[stopw[5]=='-'].copy()\n",
    "\n",
    "d_plus_right['distance'] = d_plus_right[7]-d_plus_right[1]-1-d_minus_right[9].apply(len)\n",
    "d_plus_right['abs_distance'] = abs(d_plus_right['distance'])\n",
    "d_minus_right['distance'] = d_minus_right[2]-d_minus_right[7]-1-d_minus_right[9].apply(len)\n",
    "d_minus_right['abs_distance'] = abs(d_minus_right['distance'])\n",
    "\n",
    "# combine all possible distances\n",
    "d_stop = pd.concat([d_plus_left,d_minus_left,d_plus_right,d_minus_right])\\\n",
    ".sort_values('abs_distance').drop_duplicates([8])"
   ]
  },
  {
   "cell_type": "code",
   "execution_count": 12,
   "id": "cf9f5051",
   "metadata": {},
   "outputs": [
    {
     "data": {
      "image/png": "[encoded data removed]",
      "text/plain": [
       "<Figure size 500x500 with 1 Axes>"
      ]
     },
     "metadata": {},
     "output_type": "display_data"
    }
   ],
   "source": [
    "sns.displot(d_stop['distance'])\n",
    "plt.show()"
   ]
  },
  {
   "cell_type": "code",
   "execution_count": 13,
   "id": "590f2a6a",
   "metadata": {},
   "outputs": [
    {
     "data": {
      "image/png": "[encoded data removed]",
      "text/plain": [
       "<Figure size 500x500 with 1 Axes>"
      ]
     },
     "metadata": {},
     "output_type": "display_data"
    }
   ],
   "source": [
    "sns.displot(d_stop['distance'], kind='kde')\n",
    "plt.show()"
   ]
  },
  {
   "cell_type": "code",
   "execution_count": 24,
   "id": "7477eea2",
   "metadata": {},
   "outputs": [
    {
     "data": {
      "image/png": "[encoded data removed]",
      "text/plain": [
       "<Figure size 640x480 with 1 Axes>"
      ]
     },
     "metadata": {},
     "output_type": "display_data"
    }
   ],
   "source": [
    "sns.histplot(d_stop['distance'], binwidth=1)\n",
    "plt.xlim(-10,10)\n",
    "plt.show()"
   ]
  },
  {
   "cell_type": "code",
   "execution_count": null,
   "id": "62bf2e4e-1198-4e59-8001-e74c5f8de4a2",
   "metadata": {},
   "outputs": [],
   "source": []
  },
  {
   "cell_type": "markdown",
   "id": "22a2e234",
   "metadata": {},
   "source": [
    "#### Clinically associated variants around upstream translation initiation sites (uTIS) annotated by [RiboUORF](http://rnainformatics.org.cn/RiboUORF/download.php) "
   ]
  },
  {
   "cell_type": "markdown",
   "id": "7eeb2147-3ed5-4d6e-adf8-5d34f303293a",
   "metadata": {},
   "source": [
    "```\n",
    "wget https://rnainformatics.org.cn/RiboUORF/data/download/utis.df.hg38.forsql.rev.txt.v4.gz -O ref"
   ]
  },
  {
   "cell_type": "markdown",
   "id": "1a4bb3dc-af87-4d23-a898-3ebbd13332f8",
   "metadata": {},
   "source": [
    "We will extract uTIS and adjust the coordinates to create BED files."
   ]
  },
  {
   "cell_type": "markdown",
   "id": "2dfc1a50-7611-4240-82c4-c6e299227571",
   "metadata": {},
   "source": [
    "```\n",
    "# zcat ref/utis.df.hg38.forsql.rev.txt.v4.gz | awk 'NR>1 && $(NF-1)<0.0000000005 {print toupper($7)}' | sort | uniq -c\n",
    "zcat ref/utis.df.hg38.forsql.rev.txt.v4.gz | awk 'BEGIN{OFS=\"\\t\"} $6~/+/ {print $1,$2,$2+3,$4,$5,$6,$7,$8,$9,$10,$11}' > doc/utis.df.hg38_start_codon.bed\n",
    "zcat ref/utis.df.hg38.forsql.rev.txt.v4.gz | awk 'BEGIN{OFS=\"\\t\"} $6~/-/ {print $1,$3-3,$3,$4,$5,$6,$7,$8,$9,$10,$11}' >> doc/utis.df.hg38_start_codon.bed\n",
    "\n",
    "zcat ref/utis.df.hg38.forsql.rev.txt.v4.gz | awk 'BEGIN{OFS=\"\\t\"} $6~/-/ {print $1,$2,$2+3,$4,$5,$6,$7,$8,$9,$10,$11}' > doc/utis.df.hg38_stop_codon.bed\n",
    "zcat ref/utis.df.hg38.forsql.rev.txt.v4.gz | awk 'BEGIN{OFS=\"\\t\"} $6~/+/ {print $1,$3,$3+3,$4,$5,$6,$7,$8,$9,$10,$11}' >> doc/utis.df.hg38_stop_codon.bed"
   ]
  },
  {
   "cell_type": "markdown",
   "id": "97a71517-59e6-46ab-b3b4-338d18fa2795",
   "metadata": {},
   "source": [
    "We will do a sanity check and filtering to ensure that the uTIS are limited AUG and uORF stop codons are TAA, TAG or TGA. We will go through these complicated, dirty commands one by one."
   ]
  },
  {
   "cell_type": "markdown",
   "id": "b887ccb7-5b75-42cc-81ee-cd1b7414fd44",
   "metadata": {},
   "source": [
    "```\n",
    "# extract fasta sequences for uORF start and stop codons\n",
    "bedtools getfasta -bed doc/utis.df.hg38_start_codon.bed -fi ref/hg38.fa -tab -s \\\n",
    "| sed 's/:/\\t/;s/-/\\t/;s/(/\\t/;s/)//' \\\n",
    "| awk 'BEGIN{OFS=\"\\t\"} doc/toupper($5)==\"ATG\" {print $1,$2,$3,toupper($5),\"start_codon\",$4}' > doc/utis.df.hg38_extracted.bed\n",
    "bedtools getfasta -bed doc/utis.df.hg38_stop_codon.bed -fi ref/hg38.fa -tab -s \\\n",
    "| sed 's/:/\\t/;s/-/\\t/;s/(/\\t/;s/)//' \\\n",
    "| awk 'BEGIN{OFS=\"\\t\"} doc/toupper($5)~/TAA|TAG|TGA/ {print $1,$2,$3,toupper($5),\"stop_codon\",$4}' >> doc/utis.df.hg38_extracted.bed\n",
    "\n",
    "bedtools intersect -b doc/utis.df.hg38_start_codon.bed -a doc/utis.df.hg38_extracted.bed -wao \\\n",
    "| awk '$NF==3 && toupper($4)~/ATG/' \\\n",
    "| awk 'BEGIN{FS=OFS=\"\\t\"} !seen[$0]++ {print $7,$8,$9,$10,$11,$12,$4,$14,$15,$16,$17}' > doc/utis.df.hg38.bed\n",
    "bedtools intersect -b doc/utis.df.hg38_stop_codon.bed -a doc/utis.df.hg38_extracted.bed -wao \\\n",
    "| awk '$NF==3 && toupper($4)~/TAA|TAG|TGA/' \\\n",
    "| awk 'BEGIN{FS=OFS=\"\\t\"} !seen[$0]++ {print $7,$8,$9,$10,$11,$12,$4,$14,$15,$16,$17}' >> doc/utis.df.hg38.bed\n",
    "\n",
    "\n",
    "bedtools window -a doc/utis.df.hg38.bed \\\n",
    "-b ref/homo_sapiens_clinically_associated_sorted.vcf -w > doc/utis.df.hg38.w\n",
    "\n",
    "\n",
    "# remove non-uTIS\n",
    "bedtools intersect -b doc/gencode.v43.annotation_start_codon.bed -a doc/utis.df.hg38_start_codon.bed -v > doc/utis.df.hg38_start_codon_clean.bed\n",
    "bedtools window -a doc/utis.df.hg38_start_codon_clean.bed \\\n",
    "-b ref/homo_sapiens_clinically_associated_sorted.vcf -w > doc/utis.df.hg38_start_codon_clean.w\n",
    "\n",
    "zcat ref/gencode.v43.annotation.gtf.gz \\\n",
    "| awk 'BEGIN{OFS=\"\\t\"} /upstream_ATG/ && $3~/start_codon/ {print $1,$4-1,$5,$10,$12,$7}' \\\n",
    "| awk '!seen[$1,$2,$3,$4]++' \\\n",
    "| sed 's/[\";]//g' > doc/gencode.v43.annotation_upstream_ATG.bed\n",
    "\n",
    "comm -13 <(cut -f-3,6 doc/gencode.v43.annotation_start_codon.bed | sort -u) <(cut -f-3,6 doc/gencode.v43.annotation_upstream_ATG.bed | sort -u) \\\n",
    "> doc/gencode.v43.annotation_upstream_ATG.bed2\n",
    "\n",
    "mv doc/gencode.v43.annotation_upstream_ATG.bed2 doc/gencode.v43.annotation_upstream_ATG.bed\n",
    "\n",
    "bedtools window -a doc/gencode.v43.annotation_upstream_ATG.bed2 \\\n",
    "-b ref/homo_sapiens_clinically_associated_sorted.vcf -w > doc/gencode.v43.annotation_upstream_ATG.bed.w2"
   ]
  },
  {
   "cell_type": "code",
   "execution_count": 18,
   "id": "e49d95fa",
   "metadata": {},
   "outputs": [],
   "source": [
    "utis = pd.read_csv('../doc/utis.df.hg38_start_codon_clean.w',\n",
    "                   sep='\\t', header=None)\n",
    "\n",
    "# upstream (left)\n",
    "d_plus_left = utis[utis[5]=='+'].copy()\n",
    "d_minus_left = utis[utis[5]=='-'].copy()\n",
    "\n",
    "d_plus_left['distance'] = d_plus_left[12]-d_plus_left[1]-1\n",
    "d_plus_left['abs_distance'] = abs(d_plus_left['distance'])\n",
    "d_minus_left['distance'] = d_minus_left[2]-d_minus_left[12]-1\n",
    "d_minus_left['abs_distance'] = abs(d_minus_left['distance'])\n",
    "\n",
    "# downstream (right)\n",
    "d_plus_right = utis[utis[5]=='+'].copy()\n",
    "d_minus_right = utis[utis[5]=='-'].copy()\n",
    "\n",
    "d_plus_right['distance'] = d_plus_right[12]-d_plus_right[1]-1-d_minus_right[14].apply(len)\n",
    "d_plus_right['abs_distance'] = abs(d_plus_right['distance'])\n",
    "d_minus_right['distance'] = d_minus_right[2]-d_minus_right[12]-1-d_minus_right[14].apply(len)\n",
    "d_minus_right['abs_distance'] = abs(d_minus_right['distance'])\n",
    "\n",
    "# combine all possible distances\n",
    "utis_ = pd.concat([d_plus_left,d_minus_left,d_plus_right,d_minus_right])\\\n",
    ".sort_values('abs_distance').drop_duplicates([13])\n",
    "utis_[6] = utis_[6].apply(lambda x: x.upper())"
   ]
  },
  {
   "cell_type": "code",
   "execution_count": 24,
   "id": "b9f2d643",
   "metadata": {},
   "outputs": [
    {
     "data": {
      "text/plain": [
       "6  \n",
       "ATG    348\n",
       "dtype: int64"
      ]
     },
     "execution_count": 24,
     "metadata": {},
     "output_type": "execute_result"
    }
   ],
   "source": [
    "utis_[(utis_[9]<0.05) & (utis_[6]=='ATG')].value_counts([6])"
   ]
  },
  {
   "cell_type": "code",
   "execution_count": 25,
   "id": "c2845589",
   "metadata": {},
   "outputs": [
    {
     "data": {
      "text/plain": [
       "6  \n",
       "ATG    348\n",
       "CTG    318\n",
       "GTG     92\n",
       "ACG     84\n",
       "ATC     43\n",
       "TTG     25\n",
       "ATT     14\n",
       "ATA      9\n",
       "AAG      5\n",
       "AGG      3\n",
       "dtype: int64"
      ]
     },
     "execution_count": 25,
     "metadata": {},
     "output_type": "execute_result"
    }
   ],
   "source": [
    "utis_[(utis_[9]<0.05)].value_counts([6])"
   ]
  },
  {
   "cell_type": "code",
   "execution_count": 20,
   "id": "dd6dcb6c",
   "metadata": {},
   "outputs": [
    {
     "data": {
      "image/png": "[encoded data removed]",
      "text/plain": [
       "<Figure size 300x300 with 1 Axes>"
      ]
     },
     "metadata": {},
     "output_type": "display_data"
    }
   ],
   "source": [
    "plt.figure(figsize=(3,3))\n",
    "sns.histplot(utis_[(utis_[9]<0.05) & (utis_[6]=='ATG')]['distance'], \n",
    "             binwidth=1, linewidth=1, color='#e377c2')\n",
    "plt.xlim(-10,10)\n",
    "plt.xlabel('Distance from upstream AUG')\n",
    "plt.ylabel('Number of ClinVar variants')\n",
    "plt.savefig('clinvar_uaugs.pdf')"
   ]
  },
  {
   "cell_type": "code",
   "execution_count": null,
   "id": "bb06fa35-9cc8-425e-ad9e-62a0ce7567ef",
   "metadata": {},
   "outputs": [],
   "source": []
  },
  {
   "cell_type": "markdown",
   "id": "777a2dfd",
   "metadata": {},
   "source": [
    "#### Clinically associated variants around splice sites"
   ]
  },
  {
   "cell_type": "markdown",
   "id": "59266d03-9e34-4886-ab67-e5bfdc266f8a",
   "metadata": {},
   "source": [
    "Again, we will go through these commands one-by-one.\n",
    "\n",
    "We will get transcription regions including splice sites and restrict the intersection within a window of 10 nt."
   ]
  },
  {
   "cell_type": "markdown",
   "id": "c17fe5a9-5a4c-4d57-abfe-3fb2b72d53d8",
   "metadata": {},
   "source": [
    "```\n",
    "cd doc/regions\n",
    "bedtools intersect -a uniq_noncoding5ss.bed -b uniq_coding5ss.bed -v > uniq_noncoding5ss_clean.bed\n",
    "bedtools intersect -a uniq_noncoding3ss.bed -b uniq_coding3ss.bed -v > uniq_noncoding3ss_clean.bed\n",
    "mv uniq_noncoding5ss_clean.bed uniq_noncoding5ss.bed\n",
    "mv uniq_noncoding3ss_clean.bed uniq_noncoding3ss.bed\n",
    "\n",
    "for i in 5 3; do \\\n",
    "    bedtools window -w 10 \\\n",
    "    -a uniq_noncoding${i}ss.bed \\\n",
    "    -b ../ref/homo_sapiens_clinically_associated_sorted.vcf -w \\\n",
    "    > uniq_noncoding${i}ss.w10\n",
    "\n",
    "    bedtools window -w 10 \\\n",
    "    -a uniq_coding${i}ss.bed \\\n",
    "    -b ../ref/homo_sapiens_clinically_associated_sorted.vcf -w \\\n",
    "    > uniq_coding${i}ss.w10\n",
    "done"
   ]
  },
  {
   "cell_type": "markdown",
   "id": "3a22fc9a-bd91-44a3-917b-e79f580d8f06",
   "metadata": {},
   "source": [
    "We are curious to see how many splice sites are located in the 5' and 3' UTRs"
   ]
  },
  {
   "cell_type": "markdown",
   "id": "34b496ea-1642-4b79-b8a0-38bbc94a6572",
   "metadata": {
    "jp-MarkdownHeadingCollapsed": true
   },
   "source": [
    "```\n",
    "cut -f-3,5,6 uniq_noncoding5ss.w10 | awk '!seen[$0]++' | wc -l\n",
    "# 169\n",
    "cut -f-3,5,6 uniq_noncoding3ss.w10 | awk '!seen[$0]++' | wc -l\n",
    "# 195\n",
    "\n",
    "# 5UTR\n",
    "bedtools intersect -a <(cut -f-6 uniq_noncoding5ss.w10 | awk '!seen[$0]++' | sort) -b uniq_5utr.bed -wao | awk '$NF>0' | cut -f-3,5,6 | awk '!seen[$0]++' | wc -l\n",
    "# 17\n",
    "bedtools intersect -a <(cut -f-6 uniq_noncoding3ss.w10 | awk '!seen[$0]++' | sort) -b uniq_5utr.bed -wao | awk '$NF>0' | cut -f-3,5,6 | awk '!seen[$0]++' | wc -l\n",
    "# 17\n",
    "bedtools intersect -a <(cut -f-6 uniq_noncoding5ss.w10 | awk '!seen[$0]++' | sort) -b uniq_3utr.bed -wao | awk '$NF>0' | cut -f-3,5,6 | awk '!seen[$0]++' | wc -l\n",
    "# 68\n",
    "bedtools intersect -a <(cut -f-6 uniq_noncoding3ss.w10 | awk '!seen[$0]++' | sort) -b uniq_3utr.bed -wao | awk '$NF>0' | cut -f-3,5,6 | awk '!seen[$0]++' | wc -l\n",
    "# 82\n",
    "\n",
    "bedtools intersect -a <(cut -f-6 uniq_noncoding5ss.w10 | awk '!seen[$0]++' | sort) -b uniq_5utr.bed -v | awk '!seen[$0]++' | wc -l\n",
    "# 152\n",
    "bedtools intersect -a <(cut -f-6 uniq_noncoding3ss.w10 | awk '!seen[$0]++' | sort) -b uniq_5utr.bed -v | awk '!seen[$0]++' | wc -l\n",
    "# 178\n",
    "bedtools intersect -a <(cut -f-6 uniq_noncoding5ss.w10 | awk '!seen[$0]++' | sort) -b uniq_3utr.bed -v | awk '!seen[$0]++' | wc -l\n",
    "# 101\n",
    "bedtools intersect -a <(cut -f-6 uniq_noncoding3ss.w10 | awk '!seen[$0]++' | sort) -b uniq_3utr.bed -v | awk '!seen[$0]++' | wc -l\n",
    "# 113"
   ]
  },
  {
   "cell_type": "markdown",
   "id": "2334c689-f830-4fbf-9b29-3ba2989bebd4",
   "metadata": {},
   "source": [
    "To make sure that we dont double count, we need to get the transcript IDs for these unique splice sites."
   ]
  },
  {
   "cell_type": "markdown",
   "id": "bdd485e0-369c-4ff4-940b-b7b554f75431",
   "metadata": {},
   "source": [
    "```\n",
    "bedtools intersect -a <(cut -f-6 uniq_noncoding5ss.w10 | awk '!seen[$0]++' | sort) -b uniq_5utr.bed -wao | awk '$NF>0' | cut -f4 | sort -u > uniq_5utr_5ss.id\n",
    "bedtools intersect -a <(cut -f-6 uniq_noncoding3ss.w10 | awk '!seen[$0]++' | sort) -b uniq_5utr.bed -wao | awk '$NF>0' | cut -f4 | sort -u > uniq_5utr_3ss.id\n",
    "bedtools intersect -a <(cut -f-6 uniq_noncoding5ss.w10 | awk '!seen[$0]++' | sort) -b uniq_3utr.bed -wao | awk '$NF>0' | cut -f4 | sort -u > uniq_3utr_5ss.id\n",
    "bedtools intersect -a <(cut -f-6 uniq_noncoding3ss.w10 | awk '!seen[$0]++' | sort) -b uniq_3utr.bed -wao | awk '$NF>0' | cut -f4 | sort -u > uniq_3utr_3ss.id"
   ]
  },
  {
   "cell_type": "code",
   "execution_count": 2,
   "id": "325167a4",
   "metadata": {},
   "outputs": [],
   "source": [
    "from glob import glob\n",
    "from pathlib import Path"
   ]
  },
  {
   "cell_type": "code",
   "execution_count": 3,
   "id": "d216a035",
   "metadata": {},
   "outputs": [],
   "source": [
    "dfs = []\n",
    "\n",
    "for i in glob('../doc/regions/*.w'):\n",
    "    df = pd.read_csv(i, sep='\\t', header=None)\n",
    "\n",
    "    # upstream (left)\n",
    "    d_plus_left = df[df[5]=='+'].copy()\n",
    "    d_minus_left = df[df[5]=='-'].copy()\n",
    "\n",
    "    d_plus_left['distance'] = d_plus_left[7]-d_plus_left[1]-1\n",
    "    d_plus_left['abs_distance'] = abs(d_plus_left['distance'])\n",
    "    d_minus_left['distance'] = d_minus_left[2]-d_minus_left[7]-1\n",
    "    d_minus_left['abs_distance'] = abs(d_minus_left['distance'])\n",
    "\n",
    "    # downstream (right)\n",
    "    d_plus_right = df[df[5]=='+'].copy()\n",
    "    d_minus_right = df[df[5]=='-'].copy()\n",
    "\n",
    "    d_plus_right['distance'] = d_plus_right[7]-d_plus_right[1]-1-d_minus_right[9].apply(len)\n",
    "    d_plus_right['abs_distance'] = abs(d_plus_right['distance'])\n",
    "    d_minus_right['distance'] = d_minus_right[2]-d_minus_right[7]-1-d_minus_right[9].apply(len)\n",
    "    d_minus_right['abs_distance'] = abs(d_minus_right['distance'])\n",
    "\n",
    "    # combine all possible distances\n",
    "    df_ = pd.concat([d_plus_left,d_minus_left,d_plus_right,d_minus_right])\\\n",
    "    .sort_values('abs_distance').drop_duplicates([8])\n",
    "    df_['splice sites'] = Path(i).stem\n",
    "    \n",
    "    dfs.append(df_)"
   ]
  },
  {
   "cell_type": "code",
   "execution_count": 4,
   "id": "051b02ff",
   "metadata": {},
   "outputs": [],
   "source": [
    "df = pd.concat(dfs)"
   ]
  },
  {
   "cell_type": "code",
   "execution_count": 5,
   "id": "b2deae33",
   "metadata": {},
   "outputs": [
    {
     "data": {
      "text/html": [
       "<div>\n",
       "<style scoped>\n",
       "    .dataframe tbody tr th:only-of-type {\n",
       "        vertical-align: middle;\n",
       "    }\n",
       "\n",
       "    .dataframe tbody tr th {\n",
       "        vertical-align: top;\n",
       "    }\n",
       "\n",
       "    .dataframe thead th {\n",
       "        text-align: right;\n",
       "    }\n",
       "</style>\n",
       "<table border=\"1\" class=\"dataframe\">\n",
       "  <thead>\n",
       "    <tr style=\"text-align: right;\">\n",
       "      <th></th>\n",
       "      <th>0</th>\n",
       "      <th>1</th>\n",
       "      <th>2</th>\n",
       "      <th>3</th>\n",
       "      <th>4</th>\n",
       "      <th>5</th>\n",
       "      <th>6</th>\n",
       "      <th>7</th>\n",
       "      <th>8</th>\n",
       "      <th>9</th>\n",
       "      <th>10</th>\n",
       "      <th>11</th>\n",
       "      <th>12</th>\n",
       "      <th>13</th>\n",
       "      <th>distance</th>\n",
       "      <th>abs_distance</th>\n",
       "      <th>splice sites</th>\n",
       "    </tr>\n",
       "  </thead>\n",
       "  <tbody>\n",
       "    <tr>\n",
       "      <th>52968</th>\n",
       "      <td>chr11</td>\n",
       "      <td>108245026</td>\n",
       "      <td>108245027</td>\n",
       "      <td>ENST00000675843.1__-1,0,0,2,1,1,2,1,0,2,2,2,2,...</td>\n",
       "      <td>0</td>\n",
       "      <td>+</td>\n",
       "      <td>chr11</td>\n",
       "      <td>108245026</td>\n",
       "      <td>rs1380265721</td>\n",
       "      <td>GGTATAAAGGAAATGTTTACTGTTTTG</td>\n",
       "      <td>G</td>\n",
       "      <td>.</td>\n",
       "      <td>.</td>\n",
       "      <td>dbSNP_154;TSA=indel;E_Freq;E_Cited;E_Phenotype...</td>\n",
       "      <td>-1.0</td>\n",
       "      <td>1.0</td>\n",
       "      <td>uniq_coding5ss</td>\n",
       "    </tr>\n",
       "    <tr>\n",
       "      <th>52967</th>\n",
       "      <td>chr11</td>\n",
       "      <td>108245026</td>\n",
       "      <td>108245027</td>\n",
       "      <td>ENST00000675843.1__-1,0,0,2,1,1,2,1,0,2,2,2,2,...</td>\n",
       "      <td>0</td>\n",
       "      <td>+</td>\n",
       "      <td>chr11</td>\n",
       "      <td>108245026</td>\n",
       "      <td>rs1064797160</td>\n",
       "      <td>G</td>\n",
       "      <td>A</td>\n",
       "      <td>.</td>\n",
       "      <td>.</td>\n",
       "      <td>dbSNP_154;TSA=SNV;E_Cited;E_Phenotype_or_Disea...</td>\n",
       "      <td>-1.0</td>\n",
       "      <td>1.0</td>\n",
       "      <td>uniq_coding5ss</td>\n",
       "    </tr>\n",
       "    <tr>\n",
       "      <th>192167</th>\n",
       "      <td>chr2</td>\n",
       "      <td>190244885</td>\n",
       "      <td>190244886</td>\n",
       "      <td>ENST00000359678.10__1,0,0,2,0,0,1,0,1,1,0,0,2,...</td>\n",
       "      <td>0</td>\n",
       "      <td>-</td>\n",
       "      <td>chr2</td>\n",
       "      <td>190244886</td>\n",
       "      <td>rs915412371</td>\n",
       "      <td>C</td>\n",
       "      <td>T</td>\n",
       "      <td>.</td>\n",
       "      <td>.</td>\n",
       "      <td>dbSNP_154;TSA=SNV;E_Freq;E_Cited;E_Phenotype_o...</td>\n",
       "      <td>-1.0</td>\n",
       "      <td>1.0</td>\n",
       "      <td>uniq_coding5ss</td>\n",
       "    </tr>\n",
       "    <tr>\n",
       "      <th>84047</th>\n",
       "      <td>chr14</td>\n",
       "      <td>67784332</td>\n",
       "      <td>67784333</td>\n",
       "      <td>ENST00000347230.9__0,0,0,0,2,0,0,0,0,2,0,1,2,0...</td>\n",
       "      <td>0</td>\n",
       "      <td>-</td>\n",
       "      <td>chr14</td>\n",
       "      <td>67784333</td>\n",
       "      <td>rs1555397310</td>\n",
       "      <td>C</td>\n",
       "      <td>G</td>\n",
       "      <td>.</td>\n",
       "      <td>.</td>\n",
       "      <td>dbSNP_154;TSA=SNV;E_Phenotype_or_Disease;CLIN_...</td>\n",
       "      <td>-1.0</td>\n",
       "      <td>1.0</td>\n",
       "      <td>uniq_coding5ss</td>\n",
       "    </tr>\n",
       "    <tr>\n",
       "      <th>248864</th>\n",
       "      <td>chr6</td>\n",
       "      <td>33432806</td>\n",
       "      <td>33432807</td>\n",
       "      <td>ENST00000638142.2__-1,0,1,0,1,0,2,0,0,0,1,2,-1...</td>\n",
       "      <td>0</td>\n",
       "      <td>+</td>\n",
       "      <td>chr6</td>\n",
       "      <td>33432806</td>\n",
       "      <td>rs1057519546</td>\n",
       "      <td>G</td>\n",
       "      <td>A</td>\n",
       "      <td>.</td>\n",
       "      <td>.</td>\n",
       "      <td>dbSNP_154;TSA=SNV;E_Cited;E_Phenotype_or_Disea...</td>\n",
       "      <td>-1.0</td>\n",
       "      <td>1.0</td>\n",
       "      <td>uniq_coding5ss</td>\n",
       "    </tr>\n",
       "    <tr>\n",
       "      <th>...</th>\n",
       "      <td>...</td>\n",
       "      <td>...</td>\n",
       "      <td>...</td>\n",
       "      <td>...</td>\n",
       "      <td>...</td>\n",
       "      <td>...</td>\n",
       "      <td>...</td>\n",
       "      <td>...</td>\n",
       "      <td>...</td>\n",
       "      <td>...</td>\n",
       "      <td>...</td>\n",
       "      <td>...</td>\n",
       "      <td>...</td>\n",
       "      <td>...</td>\n",
       "      <td>...</td>\n",
       "      <td>...</td>\n",
       "      <td>...</td>\n",
       "    </tr>\n",
       "    <tr>\n",
       "      <th>600</th>\n",
       "      <td>chr1</td>\n",
       "      <td>54875134</td>\n",
       "      <td>54875135</td>\n",
       "      <td>ENST00000658428.1__-1,-1,-1,-1,__5ss__2of3</td>\n",
       "      <td>0</td>\n",
       "      <td>+</td>\n",
       "      <td>chr1</td>\n",
       "      <td>54875134</td>\n",
       "      <td>rs119475041</td>\n",
       "      <td>C</td>\n",
       "      <td>G,T</td>\n",
       "      <td>.</td>\n",
       "      <td>.</td>\n",
       "      <td>dbSNP_154;TSA=SNV;E_Freq;E_Cited;E_Phenotype_o...</td>\n",
       "      <td>-1.0</td>\n",
       "      <td>1.0</td>\n",
       "      <td>uniq_noncoding5ss</td>\n",
       "    </tr>\n",
       "    <tr>\n",
       "      <th>911</th>\n",
       "      <td>chr1</td>\n",
       "      <td>155239971</td>\n",
       "      <td>155239972</td>\n",
       "      <td>ENST00000484489.5__-1,-1,-1,-1,-1,-1,-1,__5ss_...</td>\n",
       "      <td>0</td>\n",
       "      <td>-</td>\n",
       "      <td>chr1</td>\n",
       "      <td>155239968</td>\n",
       "      <td>rs761621516</td>\n",
       "      <td>GGTA</td>\n",
       "      <td>G</td>\n",
       "      <td>.</td>\n",
       "      <td>.</td>\n",
       "      <td>dbSNP_154;TSA=deletion;E_Freq;E_Cited;E_Phenot...</td>\n",
       "      <td>-1.0</td>\n",
       "      <td>1.0</td>\n",
       "      <td>uniq_noncoding5ss</td>\n",
       "    </tr>\n",
       "    <tr>\n",
       "      <th>7560</th>\n",
       "      <td>chr17</td>\n",
       "      <td>81239403</td>\n",
       "      <td>81239404</td>\n",
       "      <td>ENST00000577158.2__-1,-1,-1,__5ss__1of2</td>\n",
       "      <td>0</td>\n",
       "      <td>+</td>\n",
       "      <td>chr17</td>\n",
       "      <td>81239403</td>\n",
       "      <td>rs1598367619</td>\n",
       "      <td>C</td>\n",
       "      <td>CGCCTCCGC</td>\n",
       "      <td>.</td>\n",
       "      <td>.</td>\n",
       "      <td>dbSNP_154;TSA=indel;E_Cited;E_Phenotype_or_Dis...</td>\n",
       "      <td>-1.0</td>\n",
       "      <td>1.0</td>\n",
       "      <td>uniq_noncoding5ss</td>\n",
       "    </tr>\n",
       "    <tr>\n",
       "      <th>7636</th>\n",
       "      <td>chr18</td>\n",
       "      <td>31545734</td>\n",
       "      <td>31545735</td>\n",
       "      <td>ENST00000583706.5__-1,-1,-1,-1,-1,-1,__5ss__4of5</td>\n",
       "      <td>0</td>\n",
       "      <td>-</td>\n",
       "      <td>chr18</td>\n",
       "      <td>31545735</td>\n",
       "      <td>rs1064793983</td>\n",
       "      <td>C</td>\n",
       "      <td>A</td>\n",
       "      <td>.</td>\n",
       "      <td>.</td>\n",
       "      <td>dbSNP_154;TSA=SNV;E_Freq;E_Phenotype_or_Diseas...</td>\n",
       "      <td>-1.0</td>\n",
       "      <td>1.0</td>\n",
       "      <td>uniq_noncoding5ss</td>\n",
       "    </tr>\n",
       "    <tr>\n",
       "      <th>10106</th>\n",
       "      <td>chr2</td>\n",
       "      <td>178583648</td>\n",
       "      <td>178583649</td>\n",
       "      <td>ENST00000586831.5__-1,-1,-1,-1,-1,__5ss__4of4</td>\n",
       "      <td>0</td>\n",
       "      <td>+</td>\n",
       "      <td>chr2</td>\n",
       "      <td>178583648</td>\n",
       "      <td>rs201662134</td>\n",
       "      <td>G</td>\n",
       "      <td>A</td>\n",
       "      <td>.</td>\n",
       "      <td>.</td>\n",
       "      <td>dbSNP_154;TSA=SNV;E_Freq;E_Cited;E_ESP;E_Pheno...</td>\n",
       "      <td>-1.0</td>\n",
       "      <td>1.0</td>\n",
       "      <td>uniq_noncoding5ss</td>\n",
       "    </tr>\n",
       "  </tbody>\n",
       "</table>\n",
       "<p>7514 rows × 17 columns</p>\n",
       "</div>"
      ],
      "text/plain": [
       "            0          1          2  \\\n",
       "52968   chr11  108245026  108245027   \n",
       "52967   chr11  108245026  108245027   \n",
       "192167   chr2  190244885  190244886   \n",
       "84047   chr14   67784332   67784333   \n",
       "248864   chr6   33432806   33432807   \n",
       "...       ...        ...        ...   \n",
       "600      chr1   54875134   54875135   \n",
       "911      chr1  155239971  155239972   \n",
       "7560    chr17   81239403   81239404   \n",
       "7636    chr18   31545734   31545735   \n",
       "10106    chr2  178583648  178583649   \n",
       "\n",
       "                                                        3  4  5      6  \\\n",
       "52968   ENST00000675843.1__-1,0,0,2,1,1,2,1,0,2,2,2,2,...  0  +  chr11   \n",
       "52967   ENST00000675843.1__-1,0,0,2,1,1,2,1,0,2,2,2,2,...  0  +  chr11   \n",
       "192167  ENST00000359678.10__1,0,0,2,0,0,1,0,1,1,0,0,2,...  0  -   chr2   \n",
       "84047   ENST00000347230.9__0,0,0,0,2,0,0,0,0,2,0,1,2,0...  0  -  chr14   \n",
       "248864  ENST00000638142.2__-1,0,1,0,1,0,2,0,0,0,1,2,-1...  0  +   chr6   \n",
       "...                                                   ... .. ..    ...   \n",
       "600            ENST00000658428.1__-1,-1,-1,-1,__5ss__2of3  0  +   chr1   \n",
       "911     ENST00000484489.5__-1,-1,-1,-1,-1,-1,-1,__5ss_...  0  -   chr1   \n",
       "7560              ENST00000577158.2__-1,-1,-1,__5ss__1of2  0  +  chr17   \n",
       "7636     ENST00000583706.5__-1,-1,-1,-1,-1,-1,__5ss__4of5  0  -  chr18   \n",
       "10106       ENST00000586831.5__-1,-1,-1,-1,-1,__5ss__4of4  0  +   chr2   \n",
       "\n",
       "                7             8                            9         10 11 12  \\\n",
       "52968   108245026  rs1380265721  GGTATAAAGGAAATGTTTACTGTTTTG          G  .  .   \n",
       "52967   108245026  rs1064797160                            G          A  .  .   \n",
       "192167  190244886   rs915412371                            C          T  .  .   \n",
       "84047    67784333  rs1555397310                            C          G  .  .   \n",
       "248864   33432806  rs1057519546                            G          A  .  .   \n",
       "...           ...           ...                          ...        ... .. ..   \n",
       "600      54875134   rs119475041                            C        G,T  .  .   \n",
       "911     155239968   rs761621516                         GGTA          G  .  .   \n",
       "7560     81239403  rs1598367619                            C  CGCCTCCGC  .  .   \n",
       "7636     31545735  rs1064793983                            C          A  .  .   \n",
       "10106   178583648   rs201662134                            G          A  .  .   \n",
       "\n",
       "                                                       13  distance  \\\n",
       "52968   dbSNP_154;TSA=indel;E_Freq;E_Cited;E_Phenotype...      -1.0   \n",
       "52967   dbSNP_154;TSA=SNV;E_Cited;E_Phenotype_or_Disea...      -1.0   \n",
       "192167  dbSNP_154;TSA=SNV;E_Freq;E_Cited;E_Phenotype_o...      -1.0   \n",
       "84047   dbSNP_154;TSA=SNV;E_Phenotype_or_Disease;CLIN_...      -1.0   \n",
       "248864  dbSNP_154;TSA=SNV;E_Cited;E_Phenotype_or_Disea...      -1.0   \n",
       "...                                                   ...       ...   \n",
       "600     dbSNP_154;TSA=SNV;E_Freq;E_Cited;E_Phenotype_o...      -1.0   \n",
       "911     dbSNP_154;TSA=deletion;E_Freq;E_Cited;E_Phenot...      -1.0   \n",
       "7560    dbSNP_154;TSA=indel;E_Cited;E_Phenotype_or_Dis...      -1.0   \n",
       "7636    dbSNP_154;TSA=SNV;E_Freq;E_Phenotype_or_Diseas...      -1.0   \n",
       "10106   dbSNP_154;TSA=SNV;E_Freq;E_Cited;E_ESP;E_Pheno...      -1.0   \n",
       "\n",
       "        abs_distance       splice sites  \n",
       "52968            1.0     uniq_coding5ss  \n",
       "52967            1.0     uniq_coding5ss  \n",
       "192167           1.0     uniq_coding5ss  \n",
       "84047            1.0     uniq_coding5ss  \n",
       "248864           1.0     uniq_coding5ss  \n",
       "...              ...                ...  \n",
       "600              1.0  uniq_noncoding5ss  \n",
       "911              1.0  uniq_noncoding5ss  \n",
       "7560             1.0  uniq_noncoding5ss  \n",
       "7636             1.0  uniq_noncoding5ss  \n",
       "10106            1.0  uniq_noncoding5ss  \n",
       "\n",
       "[7514 rows x 17 columns]"
      ]
     },
     "execution_count": 5,
     "metadata": {},
     "output_type": "execute_result"
    }
   ],
   "source": [
    "df[df.distance==-1]\n",
    "# chr11 \t108245026"
   ]
  },
  {
   "cell_type": "code",
   "execution_count": 6,
   "id": "8551d7e7",
   "metadata": {},
   "outputs": [
    {
     "data": {
      "text/plain": [
       "splice sites\n",
       "uniq_coding3ss       147240\n",
       "uniq_coding5ss       145580\n",
       "uniq_noncoding5ss     14516\n",
       "uniq_noncoding3ss     12024\n",
       "dtype: int64"
      ]
     },
     "execution_count": 6,
     "metadata": {},
     "output_type": "execute_result"
    }
   ],
   "source": [
    "df.value_counts('splice sites')"
   ]
  },
  {
   "cell_type": "code",
   "execution_count": 7,
   "id": "760e77fd",
   "metadata": {},
   "outputs": [],
   "source": [
    "df['ClinVar variants'] = df[9] + '>' + df[10]"
   ]
  },
  {
   "cell_type": "markdown",
   "id": "72797d9a-e960-4a77-afa4-5063224435f3",
   "metadata": {},
   "source": [
    "We can get the hex codes for the seaborn default colour palete. We can then choose specific colours for plotting."
   ]
  },
  {
   "cell_type": "code",
   "execution_count": 5,
   "id": "1d22142d",
   "metadata": {},
   "outputs": [
    {
     "data": {
      "text/html": [
       "<svg  width=\"550\" height=\"55\"><rect x=\"0\" y=\"0\" width=\"55\" height=\"55\" style=\"fill:#1f77b4;stroke-width:2;stroke:rgb(255,255,255)\"/><rect x=\"55\" y=\"0\" width=\"55\" height=\"55\" style=\"fill:#ff7f0e;stroke-width:2;stroke:rgb(255,255,255)\"/><rect x=\"110\" y=\"0\" width=\"55\" height=\"55\" style=\"fill:#2ca02c;stroke-width:2;stroke:rgb(255,255,255)\"/><rect x=\"165\" y=\"0\" width=\"55\" height=\"55\" style=\"fill:#d62728;stroke-width:2;stroke:rgb(255,255,255)\"/><rect x=\"220\" y=\"0\" width=\"55\" height=\"55\" style=\"fill:#9467bd;stroke-width:2;stroke:rgb(255,255,255)\"/><rect x=\"275\" y=\"0\" width=\"55\" height=\"55\" style=\"fill:#8c564b;stroke-width:2;stroke:rgb(255,255,255)\"/><rect x=\"330\" y=\"0\" width=\"55\" height=\"55\" style=\"fill:#e377c2;stroke-width:2;stroke:rgb(255,255,255)\"/><rect x=\"385\" y=\"0\" width=\"55\" height=\"55\" style=\"fill:#7f7f7f;stroke-width:2;stroke:rgb(255,255,255)\"/><rect x=\"440\" y=\"0\" width=\"55\" height=\"55\" style=\"fill:#bcbd22;stroke-width:2;stroke:rgb(255,255,255)\"/><rect x=\"495\" y=\"0\" width=\"55\" height=\"55\" style=\"fill:#17becf;stroke-width:2;stroke:rgb(255,255,255)\"/></svg>"
      ],
      "text/plain": [
       "[(0.12156862745098039, 0.4666666666666667, 0.7058823529411765),\n",
       " (1.0, 0.4980392156862745, 0.054901960784313725),\n",
       " (0.17254901960784313, 0.6274509803921569, 0.17254901960784313),\n",
       " (0.8392156862745098, 0.15294117647058825, 0.1568627450980392),\n",
       " (0.5803921568627451, 0.403921568627451, 0.7411764705882353),\n",
       " (0.5490196078431373, 0.33725490196078434, 0.29411764705882354),\n",
       " (0.8901960784313725, 0.4666666666666667, 0.7607843137254902),\n",
       " (0.4980392156862745, 0.4980392156862745, 0.4980392156862745),\n",
       " (0.7372549019607844, 0.7411764705882353, 0.13333333333333333),\n",
       " (0.09019607843137255, 0.7450980392156863, 0.8117647058823529)]"
      ]
     },
     "execution_count": 5,
     "metadata": {},
     "output_type": "execute_result"
    }
   ],
   "source": [
    "sns.color_palette()"
   ]
  },
  {
   "cell_type": "code",
   "execution_count": 9,
   "id": "3058bb72",
   "metadata": {
    "scrolled": true
   },
   "outputs": [
    {
     "name": "stdout",
     "output_type": "stream",
     "text": [
      "['#1f77b4', '#ff7f0e', '#2ca02c', '#d62728', '#9467bd', '#8c564b', '#e377c2', '#7f7f7f', '#bcbd22', '#17becf']\n"
     ]
    }
   ],
   "source": [
    "print(sns.color_palette().as_hex())"
   ]
  },
  {
   "cell_type": "code",
   "execution_count": 10,
   "id": "60855c25",
   "metadata": {},
   "outputs": [
    {
     "data": {
      "image/png": "[encoded data removed]",
      "text/plain": [
       "<Figure size 300x300 with 1 Axes>"
      ]
     },
     "metadata": {},
     "output_type": "display_data"
    }
   ],
   "source": [
    "plt.figure(figsize=(3,3))\n",
    "sns.histplot(df[(df['splice sites']=='uniq_coding5ss')]['distance'], \n",
    "             binwidth=1, linewidth=1, color='#9467bd')\n",
    "plt.xlim(-10,10)\n",
    "plt.ylim(0,4500)\n",
    "plt.xlabel(r'Distance from 5$^{\\prime}$ coding splice site')\n",
    "plt.ylabel('Number of ClinVar variants')\n",
    "plt.savefig('clinvar_uniq_coding5ss.pdf')"
   ]
  },
  {
   "cell_type": "code",
   "execution_count": 11,
   "id": "29841cc2",
   "metadata": {},
   "outputs": [
    {
     "data": {
      "image/png": "[encoded data removed]",
      "text/plain": [
       "<Figure size 300x300 with 1 Axes>"
      ]
     },
     "metadata": {},
     "output_type": "display_data"
    }
   ],
   "source": [
    "plt.figure(figsize=(3,3))\n",
    "sns.histplot(df[(df['splice sites']=='uniq_coding3ss')]['distance'], \n",
    "             binwidth=1, linewidth=1, color='#ff7f0e')\n",
    "plt.xlim(-10,10)\n",
    "plt.ylim(0,4500)\n",
    "plt.xlabel(r'Distance from 3$^{\\prime}$ coding splice site')\n",
    "plt.ylabel('Number of ClinVar variants')\n",
    "plt.savefig('clinvar_uniq_coding3ss.pdf')"
   ]
  },
  {
   "cell_type": "code",
   "execution_count": 15,
   "id": "834c8fc9",
   "metadata": {},
   "outputs": [],
   "source": [
    "ids = []\n",
    "for i in glob('../doc/regions/*.id'):\n",
    "    ids.append(pd.read_csv(i, sep='\\t', header=None))\n",
    "    \n",
    "ids = pd.concat(ids)\n",
    "ids.rename(columns={0:3}, inplace=True)\n",
    "\n",
    "df_ = pd.merge(df, ids, on=[3]).sort_values('abs_distance').drop_duplicates([3,8,'splice sites'])"
   ]
  },
  {
   "cell_type": "code",
   "execution_count": 16,
   "id": "1c22fdc9",
   "metadata": {},
   "outputs": [
    {
     "data": {
      "image/png": "[encoded data removed]",
      "text/plain": [
       "<Figure size 300x300 with 1 Axes>"
      ]
     },
     "metadata": {},
     "output_type": "display_data"
    }
   ],
   "source": [
    "plt.figure(figsize=(3,3))\n",
    "sns.histplot(df_[(df_['splice sites']=='uniq_noncoding5ss')]['distance'], \n",
    "             binwidth=1, linewidth=1, color='#9467bd')\n",
    "plt.xlim(-10,10)\n",
    "plt.ylim(0,15)\n",
    "plt.xlabel(r'Distance from 5$^{\\prime}$ noncoding splice site')\n",
    "plt.ylabel('Number of ClinVar variants')\n",
    "plt.savefig('clinvar_uniq_utr5ss.pdf')"
   ]
  },
  {
   "cell_type": "code",
   "execution_count": 17,
   "id": "a39bbe19",
   "metadata": {},
   "outputs": [
    {
     "data": {
      "image/png": "[encoded data removed]",
      "text/plain": [
       "<Figure size 300x300 with 1 Axes>"
      ]
     },
     "metadata": {},
     "output_type": "display_data"
    }
   ],
   "source": [
    "plt.figure(figsize=(3,3))\n",
    "sns.histplot(df_[(df_['splice sites']=='uniq_noncoding3ss')]['distance'], \n",
    "             binwidth=1, linewidth=1, color='#ff7f0e')\n",
    "plt.xlim(-10,10)\n",
    "plt.ylim(0,15)\n",
    "plt.xlabel(r'Distance from 3$^{\\prime}$ noncoding splice site')\n",
    "plt.ylabel('Number of ClinVar variants')\n",
    "plt.savefig('clinvar_uniq_utr3ss.pdf')"
   ]
  },
  {
   "cell_type": "code",
   "execution_count": 17,
   "id": "51172746",
   "metadata": {},
   "outputs": [
    {
     "data": {
      "text/plain": [
       "splice sites\n",
       "uniq_coding5ss       4205\n",
       "uniq_coding3ss       2588\n",
       "uniq_noncoding5ss      16\n",
       "uniq_noncoding3ss      13\n",
       "dtype: int64"
      ]
     },
     "execution_count": 17,
     "metadata": {},
     "output_type": "execute_result"
    }
   ],
   "source": [
    "df[df.distance==0].value_counts('splice sites') "
   ]
  },
  {
   "cell_type": "code",
   "execution_count": 18,
   "id": "499a1624",
   "metadata": {},
   "outputs": [
    {
     "data": {
      "text/plain": [
       "splice sites\n",
       "uniq_coding5ss       1336\n",
       "uniq_coding3ss        892\n",
       "uniq_noncoding5ss      12\n",
       "uniq_noncoding3ss       8\n",
       "dtype: int64"
      ]
     },
     "execution_count": 18,
     "metadata": {},
     "output_type": "execute_result"
    }
   ],
   "source": [
    "df[df.distance==1].value_counts('splice sites') "
   ]
  },
  {
   "cell_type": "code",
   "execution_count": 19,
   "id": "3d0bbedd",
   "metadata": {},
   "outputs": [
    {
     "data": {
      "text/plain": [
       "splice sites\n",
       "uniq_coding5ss       4044\n",
       "uniq_coding3ss       3443\n",
       "uniq_noncoding5ss      14\n",
       "uniq_noncoding3ss      13\n",
       "dtype: int64"
      ]
     },
     "execution_count": 19,
     "metadata": {},
     "output_type": "execute_result"
    }
   ],
   "source": [
    "df[df.distance==-1].value_counts('splice sites') "
   ]
  },
  {
   "cell_type": "code",
   "execution_count": 21,
   "id": "d4248b54",
   "metadata": {},
   "outputs": [],
   "source": [
    "snp = df[(df[9].apply(len)==1) & (df[10].apply(len)==1)]"
   ]
  },
  {
   "cell_type": "code",
   "execution_count": 42,
   "id": "16ba3de4",
   "metadata": {},
   "outputs": [
    {
     "data": {
      "text/html": [
       "<div>\n",
       "<style scoped>\n",
       "    .dataframe tbody tr th:only-of-type {\n",
       "        vertical-align: middle;\n",
       "    }\n",
       "\n",
       "    .dataframe tbody tr th {\n",
       "        vertical-align: top;\n",
       "    }\n",
       "\n",
       "    .dataframe thead th {\n",
       "        text-align: right;\n",
       "    }\n",
       "</style>\n",
       "<table border=\"1\" class=\"dataframe\">\n",
       "  <thead>\n",
       "    <tr style=\"text-align: right;\">\n",
       "      <th></th>\n",
       "      <th>0</th>\n",
       "      <th>1</th>\n",
       "      <th>2</th>\n",
       "      <th>3</th>\n",
       "      <th>4</th>\n",
       "      <th>5</th>\n",
       "      <th>6</th>\n",
       "      <th>7</th>\n",
       "      <th>8</th>\n",
       "      <th>9</th>\n",
       "      <th>10</th>\n",
       "      <th>11</th>\n",
       "      <th>12</th>\n",
       "      <th>13</th>\n",
       "      <th>distance</th>\n",
       "      <th>abs_distance</th>\n",
       "      <th>splice sites</th>\n",
       "      <th>ClinVar variants</th>\n",
       "    </tr>\n",
       "  </thead>\n",
       "  <tbody>\n",
       "    <tr>\n",
       "      <th>30918</th>\n",
       "      <td>chr10</td>\n",
       "      <td>99834535</td>\n",
       "      <td>99834536</td>\n",
       "      <td>ENST00000647814.1__0,0,0,0,0,0,2,0,2,0,0,0,0,0...</td>\n",
       "      <td>0</td>\n",
       "      <td>+</td>\n",
       "      <td>chr10</td>\n",
       "      <td>99834536</td>\n",
       "      <td>rs781481868</td>\n",
       "      <td>G</td>\n",
       "      <td>A</td>\n",
       "      <td>.</td>\n",
       "      <td>.</td>\n",
       "      <td>dbSNP_154;TSA=SNV;E_Freq;E_Cited;E_Phenotype_o...</td>\n",
       "      <td>0.0</td>\n",
       "      <td>0.0</td>\n",
       "      <td>uniq_coding5ss</td>\n",
       "      <td>G&gt;A</td>\n",
       "    </tr>\n",
       "    <tr>\n",
       "      <th>264211</th>\n",
       "      <td>chr7</td>\n",
       "      <td>99181881</td>\n",
       "      <td>99181882</td>\n",
       "      <td>ENST00000327442.7__0,0,0,0,0,1,2,0,0,0,-1,__5s...</td>\n",
       "      <td>0</td>\n",
       "      <td>-</td>\n",
       "      <td>chr7</td>\n",
       "      <td>99181880</td>\n",
       "      <td>rs138176387</td>\n",
       "      <td>C</td>\n",
       "      <td>T</td>\n",
       "      <td>.</td>\n",
       "      <td>.</td>\n",
       "      <td>dbSNP_154;TSA=SNV;E_Freq;E_1000G;E_ESP;E_Pheno...</td>\n",
       "      <td>0.0</td>\n",
       "      <td>0.0</td>\n",
       "      <td>uniq_coding5ss</td>\n",
       "      <td>C&gt;T</td>\n",
       "    </tr>\n",
       "    <tr>\n",
       "      <th>153331</th>\n",
       "      <td>chr19</td>\n",
       "      <td>7526606</td>\n",
       "      <td>7526607</td>\n",
       "      <td>ENST00000264079.11__0,1,0,0,1,2,0,1,0,0,0,0,0,...</td>\n",
       "      <td>0</td>\n",
       "      <td>+</td>\n",
       "      <td>chr19</td>\n",
       "      <td>7526607</td>\n",
       "      <td>rs148748724</td>\n",
       "      <td>G</td>\n",
       "      <td>A</td>\n",
       "      <td>.</td>\n",
       "      <td>.</td>\n",
       "      <td>dbSNP_154;TSA=SNV;E_Freq;E_Cited;E_ESP;E_Pheno...</td>\n",
       "      <td>0.0</td>\n",
       "      <td>0.0</td>\n",
       "      <td>uniq_coding5ss</td>\n",
       "      <td>G&gt;A</td>\n",
       "    </tr>\n",
       "    <tr>\n",
       "      <th>273359</th>\n",
       "      <td>chr8</td>\n",
       "      <td>60850622</td>\n",
       "      <td>60850623</td>\n",
       "      <td>ENST00000423902.7__-1,0,0,2,0,0,0,2,0,0,0,2,0,...</td>\n",
       "      <td>0</td>\n",
       "      <td>+</td>\n",
       "      <td>chr8</td>\n",
       "      <td>60850623</td>\n",
       "      <td>rs1554603589</td>\n",
       "      <td>G</td>\n",
       "      <td>A</td>\n",
       "      <td>.</td>\n",
       "      <td>.</td>\n",
       "      <td>dbSNP_154;TSA=SNV;E_Phenotype_or_Disease;CLIN_...</td>\n",
       "      <td>0.0</td>\n",
       "      <td>0.0</td>\n",
       "      <td>uniq_coding5ss</td>\n",
       "      <td>G&gt;A</td>\n",
       "    </tr>\n",
       "    <tr>\n",
       "      <th>271786</th>\n",
       "      <td>chr8</td>\n",
       "      <td>31132506</td>\n",
       "      <td>31132507</td>\n",
       "      <td>ENST00000650667.1__-1,0,0,2,-1,-1,-1,-1,-1,-1,...</td>\n",
       "      <td>0</td>\n",
       "      <td>+</td>\n",
       "      <td>chr8</td>\n",
       "      <td>31132507</td>\n",
       "      <td>rs1474054365</td>\n",
       "      <td>G</td>\n",
       "      <td>A</td>\n",
       "      <td>.</td>\n",
       "      <td>.</td>\n",
       "      <td>dbSNP_154;TSA=SNV;E_Freq;E_Cited;E_Phenotype_o...</td>\n",
       "      <td>0.0</td>\n",
       "      <td>0.0</td>\n",
       "      <td>uniq_coding5ss</td>\n",
       "      <td>G&gt;A</td>\n",
       "    </tr>\n",
       "    <tr>\n",
       "      <th>...</th>\n",
       "      <td>...</td>\n",
       "      <td>...</td>\n",
       "      <td>...</td>\n",
       "      <td>...</td>\n",
       "      <td>...</td>\n",
       "      <td>...</td>\n",
       "      <td>...</td>\n",
       "      <td>...</td>\n",
       "      <td>...</td>\n",
       "      <td>...</td>\n",
       "      <td>...</td>\n",
       "      <td>...</td>\n",
       "      <td>...</td>\n",
       "      <td>...</td>\n",
       "      <td>...</td>\n",
       "      <td>...</td>\n",
       "      <td>...</td>\n",
       "      <td>...</td>\n",
       "    </tr>\n",
       "    <tr>\n",
       "      <th>560</th>\n",
       "      <td>chr1</td>\n",
       "      <td>53210288</td>\n",
       "      <td>53210289</td>\n",
       "      <td>ENST00000629810.1__-1,-1,-1,__5ss__2of2</td>\n",
       "      <td>0</td>\n",
       "      <td>-</td>\n",
       "      <td>chr1</td>\n",
       "      <td>53211288</td>\n",
       "      <td>rs1057517517</td>\n",
       "      <td>C</td>\n",
       "      <td>A</td>\n",
       "      <td>.</td>\n",
       "      <td>.</td>\n",
       "      <td>dbSNP_154;TSA=SNV;E_Phenotype_or_Disease;CLIN_...</td>\n",
       "      <td>-1000.0</td>\n",
       "      <td>1000.0</td>\n",
       "      <td>uniq_noncoding5ss</td>\n",
       "      <td>C&gt;A</td>\n",
       "    </tr>\n",
       "    <tr>\n",
       "      <th>9914</th>\n",
       "      <td>chr2</td>\n",
       "      <td>178571449</td>\n",
       "      <td>178571450</td>\n",
       "      <td>ENST00000456053.5__-1,-1,-1,-1,-1,-1,-1,__5ss_...</td>\n",
       "      <td>0</td>\n",
       "      <td>+</td>\n",
       "      <td>chr2</td>\n",
       "      <td>178570450</td>\n",
       "      <td>rs377226540</td>\n",
       "      <td>G</td>\n",
       "      <td>A</td>\n",
       "      <td>.</td>\n",
       "      <td>.</td>\n",
       "      <td>dbSNP_154;TSA=SNV;E_Freq;E_1000G;E_ESP;E_Pheno...</td>\n",
       "      <td>-1000.0</td>\n",
       "      <td>1000.0</td>\n",
       "      <td>uniq_noncoding5ss</td>\n",
       "      <td>G&gt;A</td>\n",
       "    </tr>\n",
       "    <tr>\n",
       "      <th>15709</th>\n",
       "      <td>chr8</td>\n",
       "      <td>139911300</td>\n",
       "      <td>139911301</td>\n",
       "      <td>ENST00000518354.5__-1,-1,-1,__5ss__1of2</td>\n",
       "      <td>0</td>\n",
       "      <td>+</td>\n",
       "      <td>chr8</td>\n",
       "      <td>139910301</td>\n",
       "      <td>rs1064795801</td>\n",
       "      <td>C</td>\n",
       "      <td>T</td>\n",
       "      <td>.</td>\n",
       "      <td>.</td>\n",
       "      <td>dbSNP_154;TSA=SNV;E_Freq;E_Phenotype_or_Diseas...</td>\n",
       "      <td>-1000.0</td>\n",
       "      <td>1000.0</td>\n",
       "      <td>uniq_noncoding5ss</td>\n",
       "      <td>C&gt;T</td>\n",
       "    </tr>\n",
       "    <tr>\n",
       "      <th>394</th>\n",
       "      <td>chr1</td>\n",
       "      <td>45340542</td>\n",
       "      <td>45340543</td>\n",
       "      <td>ENST00000495703.5__-1,-1,-1,-1,-1,-1,-1,-1,__5...</td>\n",
       "      <td>0</td>\n",
       "      <td>+</td>\n",
       "      <td>chr1</td>\n",
       "      <td>45341543</td>\n",
       "      <td>rs371848318</td>\n",
       "      <td>G</td>\n",
       "      <td>A</td>\n",
       "      <td>.</td>\n",
       "      <td>.</td>\n",
       "      <td>dbSNP_154;TSA=SNV;E_Freq;E_Cited;E_ESP;E_Pheno...</td>\n",
       "      <td>1000.0</td>\n",
       "      <td>1000.0</td>\n",
       "      <td>uniq_noncoding5ss</td>\n",
       "      <td>G&gt;A</td>\n",
       "    </tr>\n",
       "    <tr>\n",
       "      <th>2055</th>\n",
       "      <td>chr11</td>\n",
       "      <td>17386581</td>\n",
       "      <td>17386582</td>\n",
       "      <td>ENST00000526747.1__-1,-1,__5ss__1of1</td>\n",
       "      <td>0</td>\n",
       "      <td>-</td>\n",
       "      <td>chr11</td>\n",
       "      <td>17387582</td>\n",
       "      <td>rs80356622</td>\n",
       "      <td>C</td>\n",
       "      <td>G</td>\n",
       "      <td>.</td>\n",
       "      <td>.</td>\n",
       "      <td>dbSNP_154;TSA=SNV;E_Cited;E_Phenotype_or_Disea...</td>\n",
       "      <td>-1001.0</td>\n",
       "      <td>1001.0</td>\n",
       "      <td>uniq_noncoding5ss</td>\n",
       "      <td>C&gt;G</td>\n",
       "    </tr>\n",
       "  </tbody>\n",
       "</table>\n",
       "<p>175256 rows × 18 columns</p>\n",
       "</div>"
      ],
      "text/plain": [
       "            0          1          2  \\\n",
       "30918   chr10   99834535   99834536   \n",
       "264211   chr7   99181881   99181882   \n",
       "153331  chr19    7526606    7526607   \n",
       "273359   chr8   60850622   60850623   \n",
       "271786   chr8   31132506   31132507   \n",
       "...       ...        ...        ...   \n",
       "560      chr1   53210288   53210289   \n",
       "9914     chr2  178571449  178571450   \n",
       "15709    chr8  139911300  139911301   \n",
       "394      chr1   45340542   45340543   \n",
       "2055    chr11   17386581   17386582   \n",
       "\n",
       "                                                        3  4  5      6  \\\n",
       "30918   ENST00000647814.1__0,0,0,0,0,0,2,0,2,0,0,0,0,0...  0  +  chr10   \n",
       "264211  ENST00000327442.7__0,0,0,0,0,1,2,0,0,0,-1,__5s...  0  -   chr7   \n",
       "153331  ENST00000264079.11__0,1,0,0,1,2,0,1,0,0,0,0,0,...  0  +  chr19   \n",
       "273359  ENST00000423902.7__-1,0,0,2,0,0,0,2,0,0,0,2,0,...  0  +   chr8   \n",
       "271786  ENST00000650667.1__-1,0,0,2,-1,-1,-1,-1,-1,-1,...  0  +   chr8   \n",
       "...                                                   ... .. ..    ...   \n",
       "560               ENST00000629810.1__-1,-1,-1,__5ss__2of2  0  -   chr1   \n",
       "9914    ENST00000456053.5__-1,-1,-1,-1,-1,-1,-1,__5ss_...  0  +   chr2   \n",
       "15709             ENST00000518354.5__-1,-1,-1,__5ss__1of2  0  +   chr8   \n",
       "394     ENST00000495703.5__-1,-1,-1,-1,-1,-1,-1,-1,__5...  0  +   chr1   \n",
       "2055                 ENST00000526747.1__-1,-1,__5ss__1of1  0  -  chr11   \n",
       "\n",
       "                7             8  9 10 11 12  \\\n",
       "30918    99834536   rs781481868  G  A  .  .   \n",
       "264211   99181880   rs138176387  C  T  .  .   \n",
       "153331    7526607   rs148748724  G  A  .  .   \n",
       "273359   60850623  rs1554603589  G  A  .  .   \n",
       "271786   31132507  rs1474054365  G  A  .  .   \n",
       "...           ...           ... .. .. .. ..   \n",
       "560      53211288  rs1057517517  C  A  .  .   \n",
       "9914    178570450   rs377226540  G  A  .  .   \n",
       "15709   139910301  rs1064795801  C  T  .  .   \n",
       "394      45341543   rs371848318  G  A  .  .   \n",
       "2055     17387582    rs80356622  C  G  .  .   \n",
       "\n",
       "                                                       13  distance  \\\n",
       "30918   dbSNP_154;TSA=SNV;E_Freq;E_Cited;E_Phenotype_o...       0.0   \n",
       "264211  dbSNP_154;TSA=SNV;E_Freq;E_1000G;E_ESP;E_Pheno...       0.0   \n",
       "153331  dbSNP_154;TSA=SNV;E_Freq;E_Cited;E_ESP;E_Pheno...       0.0   \n",
       "273359  dbSNP_154;TSA=SNV;E_Phenotype_or_Disease;CLIN_...       0.0   \n",
       "271786  dbSNP_154;TSA=SNV;E_Freq;E_Cited;E_Phenotype_o...       0.0   \n",
       "...                                                   ...       ...   \n",
       "560     dbSNP_154;TSA=SNV;E_Phenotype_or_Disease;CLIN_...   -1000.0   \n",
       "9914    dbSNP_154;TSA=SNV;E_Freq;E_1000G;E_ESP;E_Pheno...   -1000.0   \n",
       "15709   dbSNP_154;TSA=SNV;E_Freq;E_Phenotype_or_Diseas...   -1000.0   \n",
       "394     dbSNP_154;TSA=SNV;E_Freq;E_Cited;E_ESP;E_Pheno...    1000.0   \n",
       "2055    dbSNP_154;TSA=SNV;E_Cited;E_Phenotype_or_Disea...   -1001.0   \n",
       "\n",
       "        abs_distance       splice sites ClinVar variants  \n",
       "30918            0.0     uniq_coding5ss              G>A  \n",
       "264211           0.0     uniq_coding5ss              C>T  \n",
       "153331           0.0     uniq_coding5ss              G>A  \n",
       "273359           0.0     uniq_coding5ss              G>A  \n",
       "271786           0.0     uniq_coding5ss              G>A  \n",
       "...              ...                ...              ...  \n",
       "560           1000.0  uniq_noncoding5ss              C>A  \n",
       "9914          1000.0  uniq_noncoding5ss              G>A  \n",
       "15709         1000.0  uniq_noncoding5ss              C>T  \n",
       "394           1000.0  uniq_noncoding5ss              G>A  \n",
       "2055          1001.0  uniq_noncoding5ss              C>G  \n",
       "\n",
       "[175256 rows x 18 columns]"
      ]
     },
     "execution_count": 42,
     "metadata": {},
     "output_type": "execute_result"
    }
   ],
   "source": [
    "snp"
   ]
  },
  {
   "cell_type": "code",
   "execution_count": 22,
   "id": "bc73df34",
   "metadata": {},
   "outputs": [
    {
     "data": {
      "text/plain": [
       "splice sites\n",
       "uniq_coding3ss       2638\n",
       "uniq_coding5ss       2625\n",
       "uniq_noncoding3ss       9\n",
       "uniq_noncoding5ss       8\n",
       "dtype: int64"
      ]
     },
     "execution_count": 22,
     "metadata": {},
     "output_type": "execute_result"
    }
   ],
   "source": [
    "snp[snp.distance==-1].value_counts('splice sites') "
   ]
  },
  {
   "cell_type": "code",
   "execution_count": 24,
   "id": "850567c5",
   "metadata": {},
   "outputs": [
    {
     "data": {
      "text/plain": [
       "splice sites\n",
       "uniq_coding5ss       3030\n",
       "uniq_coding3ss       1743\n",
       "uniq_noncoding5ss       8\n",
       "uniq_noncoding3ss       6\n",
       "dtype: int64"
      ]
     },
     "execution_count": 24,
     "metadata": {},
     "output_type": "execute_result"
    }
   ],
   "source": [
    "snp[snp.distance==0].value_counts('splice sites') "
   ]
  },
  {
   "cell_type": "code",
   "execution_count": 23,
   "id": "295c756f",
   "metadata": {},
   "outputs": [
    {
     "data": {
      "text/plain": [
       "splice sites\n",
       "uniq_coding5ss       956\n",
       "uniq_coding3ss       460\n",
       "uniq_noncoding5ss      6\n",
       "uniq_noncoding3ss      4\n",
       "dtype: int64"
      ]
     },
     "execution_count": 23,
     "metadata": {},
     "output_type": "execute_result"
    }
   ],
   "source": [
    "snp[snp.distance==1].value_counts('splice sites') "
   ]
  },
  {
   "cell_type": "code",
   "execution_count": 13,
   "id": "789c9ceb",
   "metadata": {},
   "outputs": [
    {
     "data": {
      "text/html": [
       "<div>\n",
       "<style scoped>\n",
       "    .dataframe tbody tr th:only-of-type {\n",
       "        vertical-align: middle;\n",
       "    }\n",
       "\n",
       "    .dataframe tbody tr th {\n",
       "        vertical-align: top;\n",
       "    }\n",
       "\n",
       "    .dataframe thead th {\n",
       "        text-align: right;\n",
       "    }\n",
       "</style>\n",
       "<table border=\"1\" class=\"dataframe\">\n",
       "  <thead>\n",
       "    <tr style=\"text-align: right;\">\n",
       "      <th></th>\n",
       "      <th>0</th>\n",
       "      <th>1</th>\n",
       "      <th>2</th>\n",
       "      <th>3</th>\n",
       "      <th>4</th>\n",
       "      <th>5</th>\n",
       "      <th>6</th>\n",
       "      <th>7</th>\n",
       "      <th>8</th>\n",
       "      <th>9</th>\n",
       "      <th>10</th>\n",
       "      <th>11</th>\n",
       "      <th>12</th>\n",
       "      <th>13</th>\n",
       "      <th>distance</th>\n",
       "      <th>abs_distance</th>\n",
       "      <th>splice sites</th>\n",
       "      <th>ClinVar variants</th>\n",
       "    </tr>\n",
       "  </thead>\n",
       "  <tbody>\n",
       "    <tr>\n",
       "      <th>30918</th>\n",
       "      <td>chr10</td>\n",
       "      <td>99834535</td>\n",
       "      <td>99834536</td>\n",
       "      <td>ENST00000647814.1__0,0,0,0,0,0,2,0,2,0,0,0,0,0...</td>\n",
       "      <td>0</td>\n",
       "      <td>+</td>\n",
       "      <td>chr10</td>\n",
       "      <td>99834536</td>\n",
       "      <td>rs781481868</td>\n",
       "      <td>G</td>\n",
       "      <td>A</td>\n",
       "      <td>.</td>\n",
       "      <td>.</td>\n",
       "      <td>dbSNP_154;TSA=SNV;E_Freq;E_Cited;E_Phenotype_o...</td>\n",
       "      <td>0.0</td>\n",
       "      <td>0.0</td>\n",
       "      <td>uniq_coding5ss</td>\n",
       "      <td>G&gt;A</td>\n",
       "    </tr>\n",
       "    <tr>\n",
       "      <th>77643</th>\n",
       "      <td>chr13</td>\n",
       "      <td>51968442</td>\n",
       "      <td>51968443</td>\n",
       "      <td>ENST00000242839.10__2,1,0,0,1,1,0,0,0,0,1,2,0,...</td>\n",
       "      <td>0</td>\n",
       "      <td>-</td>\n",
       "      <td>chr13</td>\n",
       "      <td>51968442</td>\n",
       "      <td>rs781531824</td>\n",
       "      <td>A</td>\n",
       "      <td>AA</td>\n",
       "      <td>.</td>\n",
       "      <td>.</td>\n",
       "      <td>dbSNP_154;TSA=indel;E_Freq;E_Phenotype_or_Dise...</td>\n",
       "      <td>0.0</td>\n",
       "      <td>0.0</td>\n",
       "      <td>uniq_coding5ss</td>\n",
       "      <td>A&gt;AA</td>\n",
       "    </tr>\n",
       "    <tr>\n",
       "      <th>264211</th>\n",
       "      <td>chr7</td>\n",
       "      <td>99181881</td>\n",
       "      <td>99181882</td>\n",
       "      <td>ENST00000327442.7__0,0,0,0,0,1,2,0,0,0,-1,__5s...</td>\n",
       "      <td>0</td>\n",
       "      <td>-</td>\n",
       "      <td>chr7</td>\n",
       "      <td>99181880</td>\n",
       "      <td>rs138176387</td>\n",
       "      <td>C</td>\n",
       "      <td>T</td>\n",
       "      <td>.</td>\n",
       "      <td>.</td>\n",
       "      <td>dbSNP_154;TSA=SNV;E_Freq;E_1000G;E_ESP;E_Pheno...</td>\n",
       "      <td>0.0</td>\n",
       "      <td>0.0</td>\n",
       "      <td>uniq_coding5ss</td>\n",
       "      <td>C&gt;T</td>\n",
       "    </tr>\n",
       "    <tr>\n",
       "      <th>153331</th>\n",
       "      <td>chr19</td>\n",
       "      <td>7526606</td>\n",
       "      <td>7526607</td>\n",
       "      <td>ENST00000264079.11__0,1,0,0,1,2,0,1,0,0,0,0,0,...</td>\n",
       "      <td>0</td>\n",
       "      <td>+</td>\n",
       "      <td>chr19</td>\n",
       "      <td>7526607</td>\n",
       "      <td>rs148748724</td>\n",
       "      <td>G</td>\n",
       "      <td>A</td>\n",
       "      <td>.</td>\n",
       "      <td>.</td>\n",
       "      <td>dbSNP_154;TSA=SNV;E_Freq;E_Cited;E_ESP;E_Pheno...</td>\n",
       "      <td>0.0</td>\n",
       "      <td>0.0</td>\n",
       "      <td>uniq_coding5ss</td>\n",
       "      <td>G&gt;A</td>\n",
       "    </tr>\n",
       "    <tr>\n",
       "      <th>59387</th>\n",
       "      <td>chr12</td>\n",
       "      <td>8868357</td>\n",
       "      <td>8868358</td>\n",
       "      <td>ENST00000299698.12__0,2,0,1,0,0,1,2,0,1,0,0,0,...</td>\n",
       "      <td>0</td>\n",
       "      <td>+</td>\n",
       "      <td>chr12</td>\n",
       "      <td>8868358</td>\n",
       "      <td>rs202067416</td>\n",
       "      <td>G</td>\n",
       "      <td>A,C</td>\n",
       "      <td>.</td>\n",
       "      <td>.</td>\n",
       "      <td>dbSNP_154;TSA=SNV;E_Freq;E_1000G;E_Cited;E_ESP...</td>\n",
       "      <td>0.0</td>\n",
       "      <td>0.0</td>\n",
       "      <td>uniq_coding5ss</td>\n",
       "      <td>G&gt;A,C</td>\n",
       "    </tr>\n",
       "  </tbody>\n",
       "</table>\n",
       "</div>"
      ],
      "text/plain": [
       "            0         1         2  \\\n",
       "30918   chr10  99834535  99834536   \n",
       "77643   chr13  51968442  51968443   \n",
       "264211   chr7  99181881  99181882   \n",
       "153331  chr19   7526606   7526607   \n",
       "59387   chr12   8868357   8868358   \n",
       "\n",
       "                                                        3  4  5      6  \\\n",
       "30918   ENST00000647814.1__0,0,0,0,0,0,2,0,2,0,0,0,0,0...  0  +  chr10   \n",
       "77643   ENST00000242839.10__2,1,0,0,1,1,0,0,0,0,1,2,0,...  0  -  chr13   \n",
       "264211  ENST00000327442.7__0,0,0,0,0,1,2,0,0,0,-1,__5s...  0  -   chr7   \n",
       "153331  ENST00000264079.11__0,1,0,0,1,2,0,1,0,0,0,0,0,...  0  +  chr19   \n",
       "59387   ENST00000299698.12__0,2,0,1,0,0,1,2,0,1,0,0,0,...  0  +  chr12   \n",
       "\n",
       "               7            8  9   10 11 12  \\\n",
       "30918   99834536  rs781481868  G    A  .  .   \n",
       "77643   51968442  rs781531824  A   AA  .  .   \n",
       "264211  99181880  rs138176387  C    T  .  .   \n",
       "153331   7526607  rs148748724  G    A  .  .   \n",
       "59387    8868358  rs202067416  G  A,C  .  .   \n",
       "\n",
       "                                                       13  distance  \\\n",
       "30918   dbSNP_154;TSA=SNV;E_Freq;E_Cited;E_Phenotype_o...       0.0   \n",
       "77643   dbSNP_154;TSA=indel;E_Freq;E_Phenotype_or_Dise...       0.0   \n",
       "264211  dbSNP_154;TSA=SNV;E_Freq;E_1000G;E_ESP;E_Pheno...       0.0   \n",
       "153331  dbSNP_154;TSA=SNV;E_Freq;E_Cited;E_ESP;E_Pheno...       0.0   \n",
       "59387   dbSNP_154;TSA=SNV;E_Freq;E_1000G;E_Cited;E_ESP...       0.0   \n",
       "\n",
       "        abs_distance    splice sites ClinVar variants  \n",
       "30918            0.0  uniq_coding5ss              G>A  \n",
       "77643            0.0  uniq_coding5ss             A>AA  \n",
       "264211           0.0  uniq_coding5ss              C>T  \n",
       "153331           0.0  uniq_coding5ss              G>A  \n",
       "59387            0.0  uniq_coding5ss            G>A,C  "
      ]
     },
     "execution_count": 13,
     "metadata": {},
     "output_type": "execute_result"
    }
   ],
   "source": [
    "df['splice sites','ClinVar variants']"
   ]
  },
  {
   "cell_type": "code",
   "execution_count": null,
   "id": "363593ea-684c-4b7c-8ebf-f0c7938965db",
   "metadata": {},
   "outputs": [],
   "source": []
  },
  {
   "cell_type": "markdown",
   "id": "5bd3ed6f",
   "metadata": {},
   "source": [
    "#### Clinically associated variants around uTIS obtaied from GWIPS"
   ]
  },
  {
   "cell_type": "markdown",
   "id": "cbc33a06-aa01-487b-a12b-b8409fdefa7e",
   "metadata": {},
   "source": [
    "We first need to download the initiating ribosome tracks from [here](https://gwips.ucc.ie/downloads/index.html) and move them over to doc/gwips"
   ]
  },
  {
   "cell_type": "markdown",
   "id": "094f3849-75a3-434f-bbd6-7514eff9d593",
   "metadata": {},
   "source": [
    "<img src=\"../screenshots/Screenshot-gwips.png\" />"
   ]
  },
  {
   "cell_type": "markdown",
   "id": "f4bcc0de-1ce2-4b8b-972b-a3a5198660b3",
   "metadata": {},
   "source": [
    "We will convert the bigwig files to BedGraph files before running bedtools"
   ]
  },
  {
   "cell_type": "markdown",
   "id": "ef508673-d57d-4b2d-a646-d00acd17d966",
   "metadata": {},
   "source": [
    "```\n",
    "for in doc/gwips/*.bw; do \\\n",
    "    bigWigToBedGraph $i ${i%.*}\n",
    "done"
   ]
  },
  {
   "cell_type": "markdown",
   "id": "1644572c-a68a-44ca-8ead-2b750d68223f",
   "metadata": {},
   "source": [
    "We will install datamash to do descriptive statistics"
   ]
  },
  {
   "cell_type": "markdown",
   "id": "9ba120d4-21be-4d77-bd2d-f28607993164",
   "metadata": {},
   "source": [
    "```\n",
    "conda install -c conda-forge datamash"
   ]
  },
  {
   "cell_type": "markdown",
   "id": "b28bd34b-f505-4e81-8fd4-4acedb9d6c64",
   "metadata": {},
   "source": [
    "Based on the bedgraph files, we will identify those ribosome profiles that intersect with ATGs in the human genome. We will need to adjust the positions of ribosome profiles to accommodate ATG. We will use the adjusted positions to extract \"ATG\" from the human genome."
   ]
  },
  {
   "cell_type": "markdown",
   "id": "173e3cfc-3f52-4f84-a59d-7b61a12f7168",
   "metadata": {},
   "source": [
    "```\n",
    "for i in doc/gwips/*.bg; do \\\n",
    "    bedtools getfasta -bed <(awk 'BEGIN{FS=OFS=\"\\t\"} $NF>9 {print $1,$2-2,$3+2,$4,\".\\t+\"}' $i) -fi ref/hg38.fa -tab -name -s \\\n",
    "    | sed 's/::/\\t/;s/:/\\t/;s/-/\\t/;s/(/\\t/;s/)//' \\\n",
    "    | awk 'BEGIN{OFS=\"\\t\"} toupper($NF)~/ATG/ {print toupper($NF),$2,$3,$4,$1,$5}' \\\n",
    "    | cut -c1- | grep ^ATG | awk 'BEGIN{OFS=\"\\t\"} {print $2,$3,$4-2,\"ATG\",$5,$6}' > ${i%.*}_ATG.bed\n",
    "    bedtools getfasta -bed <(awk 'BEGIN{FS=OFS=\"\\t\"} $NF>9 {print $1,$2-2,$3+2,$4,\".\\t+\"}' $i) -fi ref/hg38.fa -tab -name -s \\\n",
    "    | sed 's/::/\\t/;s/:/\\t/;s/-/\\t/;s/(/\\t/;s/)//' \\\n",
    "    | awk 'BEGIN{OFS=\"\\t\"} toupper($NF)~/ATG/ {print toupper($NF),$2,$3,$4,$1,$5}' \\\n",
    "    | cut -c2- | grep ^ATG | awk 'BEGIN{OFS=\"\\t\"} {print $2,$3+1,$4-1,\"ATG\",$5,$6}' >> ${i%.*}_ATG.bed\n",
    "    bedtools getfasta -bed <(awk 'BEGIN{FS=OFS=\"\\t\"} $NF>9 {print $1,$2-2,$3+2,$4,\".\\t+\"}' $i) -fi ref/hg38.fa -tab -name -s \\\n",
    "    | sed 's/::/\\t/;s/:/\\t/;s/-/\\t/;s/(/\\t/;s/)//' \\\n",
    "    | awk 'BEGIN{OFS=\"\\t\"} toupper($NF)~/ATG/ {print toupper($NF),$2,$3,$4,$1,$5}' \\\n",
    "    | cut -c3- | grep ^ATG | awk 'BEGIN{OFS=\"\\t\"} {print $2,$3+2,$4,\"ATG\",$5,$6}' >> ${i%.*}_ATG.bed\n",
    "\n",
    "    bedtools getfasta -bed <(awk 'BEGIN{FS=OFS=\"\\t\"} $NF>9 {print $1,$2-2,$3+2,$4,\".\\t-\"}' $i) -fi ref/hg38.fa -tab -name -s \\\n",
    "    | sed 's/::/\\t/;s/:/\\t/;s/-/\\t/;s/(/\\t/;s/)//' \\\n",
    "    | awk 'BEGIN{OFS=\"\\t\"} toupper($NF)~/ATG/ {print toupper($NF),$2,$3,$4,$1,$5}' \\\n",
    "    | cut -c1- | grep ^ATG | awk 'BEGIN{OFS=\"\\t\"} {print $2,$3+2,$4,\"ATG\",$5,$6}' >> ${i%.*}_ATG.bed\n",
    "    bedtools getfasta -bed <(awk 'BEGIN{FS=OFS=\"\\t\"} $NF>9 {print $1,$2-2,$3+2,$4,\".\\t-\"}' $i) -fi ref/hg38.fa -tab -name -s \\\n",
    "    | sed 's/::/\\t/;s/:/\\t/;s/-/\\t/;s/(/\\t/;s/)//' \\\n",
    "    | awk 'BEGIN{OFS=\"\\t\"} toupper($NF)~/ATG/ {print toupper($NF),$2,$3,$4,$1,$5}' \\\n",
    "    | cut -c2- | grep ^ATG | awk 'BEGIN{OFS=\"\\t\"} {print $2,$3+1,$4-1,\"ATG\",$5,$6}' >> ${i%.*}_ATG.bed\n",
    "    bedtools getfasta -bed <(awk 'BEGIN{FS=OFS=\"\\t\"} $NF>9 {print $1,$2-2,$3+2,$4,\".\\t-\"}' $i) -fi ref/hg38.fa -tab -name -s \\\n",
    "    | sed 's/::/\\t/;s/:/\\t/;s/-/\\t/;s/(/\\t/;s/)//' \\\n",
    "    | awk 'BEGIN{OFS=\"\\t\"} toupper($NF)~/ATG/ {print toupper($NF),$2,$3,$4,$1,$5}' \\\n",
    "    | cut -c3- | grep ^ATG | awk 'BEGIN{OFS=\"\\t\"} {print $2,$3,$4-2,\"ATG\",$5,$6}' >> ${i%.*}_ATG.bed\n",
    "done"
   ]
  },
  {
   "cell_type": "markdown",
   "id": "b4c8d8ad-223c-4c9f-afbf-da0a2ed2326a",
   "metadata": {},
   "source": [
    "We will use datamash to get mean and median counts of ribosome footprints on ATG"
   ]
  },
  {
   "cell_type": "markdown",
   "id": "0437cc87-46b6-4f77-a609-0d5d0ba15e2c",
   "metadata": {
    "jp-MarkdownHeadingCollapsed": true
   },
   "source": [
    "```\n",
    "join -j1 -t$'\\t' \\\n",
    "<(cat doc/gwips/*ATG.bed | awk 'seen[$1,$2,$3,$6]++' | cut -f-4,6 | sed 's/\\t/|/g' | sort) \\\n",
    "<(cat doc/gwips/*ATG.bed | awk 'BEGIN{OFS=\"|\"} {print $1,$2,$3,$4,$6 \"\\t\" $5}' | sort) \\\n",
    "| datamash -g 1 median 2 \\\n",
    "| sed 's/|/\\t/g' \\\n",
    "| awk 'BEGIN{OFS=\"\\t\"} {print $1,$2,$3,$4,$6,$5}' > doc/gwips/ATG_median_counts.bed\n",
    "join -j1 -t$'\\t' \\\n",
    "<(cat doc/gwips/*ATG.bed | awk 'seen[$1,$2,$3,$6]++' | cut -f-4,6 | sed 's/\\t/|/g' | sort) \\\n",
    "<(cat doc/gwips/*ATG.bed | awk 'BEGIN{OFS=\"|\"} {print $1,$2,$3,$4,$6 \"\\t\" $5}' | sort) \\\n",
    "| datamash -g 1 mean 2 \\\n",
    "| sed 's/|/\\t/g' \\\n",
    "| awk 'BEGIN{OFS=\"\\t\"} {print $1,$2,$3,$4,$6,$5}' > doc/gwips/ATG_mean_counts.bed"
   ]
  },
  {
   "cell_type": "markdown",
   "id": "eac9580f-623c-4744-a779-4f8b0ca75a64",
   "metadata": {},
   "source": [
    "We will remove the main ATG (including those within coding regions)."
   ]
  },
  {
   "cell_type": "markdown",
   "id": "8e0b488c-72a2-4eb2-961c-57221b3783f0",
   "metadata": {},
   "source": [
    "```\n",
    "# awk '($3-$2)!=3' doc/gwips/ATG_median_counts.bed | wc -l\n",
    "# 35 ???????\n",
    "for i in mean median; do \\\n",
    "    bedtools intersect -a doc/gwips/ATG_${i}_counts.bed -b doc/regions/cds.bed -v \\\n",
    "    | bedtools intersect -a stdin -b doc/regions/uniq_5utr.bed -s -split -wa | awk '($3-$2)==3' | sort -u \\\n",
    "    > doc/gwips/uATG_${i}_counts.bed\n",
    "    \n",
    "    bedtools window \\\n",
    "    -a doc/gwips/uATG_${i}_counts.bed \\\n",
    "    -b ref/homo_sapiens_clinically_associated_sorted.vcf -w \\\n",
    "    > doc/gwips/uATG_${i}_counts.w\n",
    "done"
   ]
  },
  {
   "cell_type": "code",
   "execution_count": 3,
   "id": "8726c498",
   "metadata": {},
   "outputs": [],
   "source": [
    "dfs = []\n",
    "\n",
    "for i in glob('../doc/gwips/uATG_*_counts.w'):\n",
    "    df = pd.read_csv(i, sep='\\t', header=None)\n",
    "\n",
    "    # upstream (left)\n",
    "    d_plus_left = df[df[5]=='+'].copy()\n",
    "    d_minus_left = df[df[5]=='-'].copy()\n",
    "\n",
    "    d_plus_left['distance'] = d_plus_left[7]-d_plus_left[1]-1\n",
    "    d_plus_left['abs_distance'] = abs(d_plus_left['distance'])\n",
    "    d_minus_left['distance'] = d_minus_left[2]-d_minus_left[7]-1\n",
    "    d_minus_left['abs_distance'] = abs(d_minus_left['distance'])\n",
    "\n",
    "    # downstream (right)\n",
    "    d_plus_right = df[df[5]=='+'].copy()\n",
    "    d_minus_right = df[df[5]=='-'].copy()\n",
    "\n",
    "    d_plus_right['distance'] = d_plus_right[7]-d_plus_right[1]-1-d_minus_right[9].apply(len)\n",
    "    d_plus_right['abs_distance'] = abs(d_plus_right['distance'])\n",
    "    d_minus_right['distance'] = d_minus_right[2]-d_minus_right[7]-1-d_minus_right[9].apply(len)\n",
    "    d_minus_right['abs_distance'] = abs(d_minus_right['distance'])\n",
    "\n",
    "    # combine all possible distances\n",
    "    df_ = pd.concat([d_plus_left,d_minus_left,d_plus_right,d_minus_right])\\\n",
    "    .sort_values('abs_distance').drop_duplicates([8])\n",
    "    df_['statistic'] = Path(i).stem\n",
    "    \n",
    "    dfs.append(df_)"
   ]
  },
  {
   "cell_type": "code",
   "execution_count": 4,
   "id": "6ed84440",
   "metadata": {},
   "outputs": [
    {
     "data": {
      "image/png": "[encoded data removed]",
      "text/plain": [
       "<Figure size 300x300 with 1 Axes>"
      ]
     },
     "metadata": {},
     "output_type": "display_data"
    }
   ],
   "source": [
    "plt.figure(figsize=(3,3))\n",
    "sns.histplot(dfs[0]['distance'], \n",
    "             binwidth=1, linewidth=1, color='#e377c2')\n",
    "plt.xlim(-10,10)\n",
    "plt.xlabel('Distance from upstream AUG')\n",
    "plt.ylabel('Number of ClinVar variants')\n",
    "plt.savefig('clinvar_uaugs_median.pdf')"
   ]
  },
  {
   "cell_type": "code",
   "execution_count": null,
   "id": "78421341",
   "metadata": {},
   "outputs": [],
   "source": []
  },
  {
   "cell_type": "code",
   "execution_count": null,
   "id": "5e39a639-efd9-4783-8831-87842914381b",
   "metadata": {},
   "outputs": [],
   "source": []
  }
 ],
 "metadata": {
  "kernelspec": {
   "display_name": "Python 3 (ipykernel)",
   "language": "python",
   "name": "python3"
  },
  "language_info": {
   "codemirror_mode": {
    "name": "ipython",
    "version": 3
   },
   "file_extension": ".py",
   "mimetype": "text/x-python",
   "name": "python",
   "nbconvert_exporter": "python",
   "pygments_lexer": "ipython3",
   "version": "3.12.8"
  }
 },
 "nbformat": 4,
 "nbformat_minor": 5
}
